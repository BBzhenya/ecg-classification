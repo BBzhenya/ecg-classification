{
 "cells": [
  {
   "cell_type": "code",
   "execution_count": 1,
   "id": "07e0ce23",
   "metadata": {},
   "outputs": [],
   "source": [
    "import torch \n",
    "import torch.nn as nn \n",
    "import numpy as np\n",
    "import matplotlib.pyplot as plt\n",
    "import pandas as pd\n",
    "%matplotlib inline"
   ]
  },
  {
   "cell_type": "code",
   "execution_count": 2,
   "id": "0ebcb1bb",
   "metadata": {},
   "outputs": [],
   "source": [
    "import seaborn as sns"
   ]
  },
  {
   "cell_type": "code",
   "execution_count": 3,
   "id": "d9bd41af",
   "metadata": {},
   "outputs": [],
   "source": [
    "from torch.utils.data import TensorDataset, DataLoader"
   ]
  },
  {
   "cell_type": "code",
   "execution_count": 4,
   "id": "2b035aad",
   "metadata": {},
   "outputs": [],
   "source": [
    "from sklearn.metrics import classification_report"
   ]
  },
  {
   "cell_type": "code",
   "execution_count": 5,
   "id": "3d648bdf",
   "metadata": {},
   "outputs": [],
   "source": [
    "path_to_train='Train/'\n",
    "path_to_valid = 'Valid/'\n",
    "path_to_test='Test/'"
   ]
  },
  {
   "cell_type": "code",
   "execution_count": 6,
   "id": "3e5fa5a4",
   "metadata": {},
   "outputs": [],
   "source": [
    "X_train=np.load(path_to_train+\"X_train.npy\")\n",
    "X_valid=np.load(path_to_valid+\"X_valid.npy\")"
   ]
  },
  {
   "cell_type": "code",
   "execution_count": 7,
   "id": "85e991fb",
   "metadata": {},
   "outputs": [],
   "source": [
    "y_train_superclass=np.load(path_to_train+\"y_train_superclass.npy\")\n",
    "y_valid_superclass=np.load(path_to_valid+\"y_valid_superclass.npy\")"
   ]
  },
  {
   "cell_type": "code",
   "execution_count": 8,
   "id": "3cc6d42a",
   "metadata": {},
   "outputs": [],
   "source": [
    "batch_size = 128"
   ]
  },
  {
   "cell_type": "code",
   "execution_count": 9,
   "id": "c514e2fb",
   "metadata": {},
   "outputs": [],
   "source": [
    "X_train_tensor = torch.Tensor(X_train)\n",
    "y_train_tensor = torch.LongTensor(y_train_superclass)\n",
    "\n",
    "train_dataset = TensorDataset(X_train_tensor, y_train_tensor)\n",
    "train_loader = DataLoader(train_dataset, batch_size = batch_size, shuffle = True)\n",
    "\n",
    "X_valid_tensor = torch.Tensor(X_valid)\n",
    "y_valid_tensor = torch.LongTensor(y_valid_superclass)\n",
    "\n",
    "valid_dataset = TensorDataset(X_valid_tensor, y_valid_tensor)\n",
    "valid_loader = DataLoader(valid_dataset, batch_size = batch_size, shuffle = True)"
   ]
  },
  {
   "cell_type": "code",
   "execution_count": 10,
   "id": "d4fc0bf0",
   "metadata": {},
   "outputs": [],
   "source": [
    "X_test=np.load(path_to_test+\"X_test.npy\")\n",
    "y_test=np.load(path_to_test+\"y_test_superclass.npy\")"
   ]
  },
  {
   "cell_type": "code",
   "execution_count": 11,
   "id": "579c3fa1",
   "metadata": {},
   "outputs": [],
   "source": [
    "del X_train\n",
    "del X_valid\n",
    "\n",
    "del y_train_superclass\n",
    "del y_valid_superclass\n",
    "\n",
    "del X_train_tensor\n",
    "del y_train_tensor\n",
    "\n",
    "del X_valid_tensor\n",
    "del y_valid_tensor"
   ]
  },
  {
   "cell_type": "code",
   "execution_count": 12,
   "id": "99e8d545",
   "metadata": {},
   "outputs": [],
   "source": [
    "def train(epoch,my_model, data_loader, optimizer, loss_function):\n",
    "    losses=[]\n",
    "    my_model.train()\n",
    "    for batch_idx, (X_batch, y_batch) in enumerate(data_loader):\n",
    "        optimizer.zero_grad()\n",
    "        output = my_model(X_batch)\n",
    "        loss = loss_function(output, y_batch)\n",
    "        loss.backward()\n",
    "        optimizer.step()\n",
    "        if batch_idx % 10 == 0:\n",
    "            print('Train Epoch: {} [{}/{} ({:.0f}%)]\\tLoss: {:.6f}'.format(\n",
    "            epoch, batch_idx * len(X_batch), len(data_loader.dataset),\n",
    "                100. * batch_idx / len(data_loader), loss.item()))\n",
    "        losses.append(loss.data.numpy())\n",
    "    return np.mean(losses)"
   ]
  },
  {
   "cell_type": "code",
   "execution_count": 13,
   "id": "92e5f853",
   "metadata": {},
   "outputs": [],
   "source": [
    "def test(my_model, data_loader, loss_function):\n",
    "    accuracy_arr = []\n",
    "    my_model.eval()\n",
    "    test_loss = 0\n",
    "    correct = 0\n",
    "    for X_batch, y_batch in data_loader:\n",
    "        output = my_model(X_batch)\n",
    "        test_loss += loss_function(output, y_batch).data\n",
    "        pred = output.data.max(1, keepdim=True)[1]\n",
    "        correct += pred.eq(y_batch.data.view_as(pred)).cpu().sum()\n",
    "\n",
    "    test_loss /= len(data_loader)\n",
    "    acc = correct / len(data_loader.dataset)\n",
    "    print('\\nTest set: Average loss: {:.4f}, Accuracy: {}/{} ({:.2f}%)\\n'.format(\n",
    "        test_loss, correct, len(data_loader.dataset),\n",
    "        100. * correct / len(data_loader.dataset)))\n",
    "    return acc,test_loss"
   ]
  },
  {
   "cell_type": "code",
   "execution_count": 14,
   "id": "417c9750",
   "metadata": {},
   "outputs": [],
   "source": [
    "from sklearn.metrics import confusion_matrix, accuracy_score\n",
    "\n",
    "def print_confusion_matrix(model, X, y):\n",
    "    model.eval()\n",
    "    y_pred = model(torch.Tensor(X)).data.numpy().argmax(axis = 1)\n",
    "    print(confusion_matrix(y, y_pred))\n",
    "    accuracy = accuracy_score(y, y_pred)\n",
    "    print(f\"Accuracy = {accuracy}\")\n",
    "    return accuracy"
   ]
  },
  {
   "cell_type": "code",
   "execution_count": 15,
   "id": "ab45bcef",
   "metadata": {},
   "outputs": [],
   "source": [
    "def training(number_of_epoches, model, optimizer, loss_function, learning_rate, train_loader, valid_loader):\n",
    "    loss_train=[]\n",
    "    loss_valid=[]\n",
    "    acc=[]\n",
    "    best_accuracy, last_accuracy = 0, 0\n",
    "    patience = 3\n",
    "    trigger_times = 0 \n",
    "    \n",
    "    for epoch in range(number_of_epoches):\n",
    "        loss_train.append(train(epoch + 1,model, train_loader, optimizer, loss_function))\n",
    "        accuracy, current_loss = test(model, valid_loader, loss_function)\n",
    "        acc.append(accuracy)\n",
    "        loss_valid.append(current_loss)\n",
    "        if accuracy < last_accuracy:\n",
    "            trigger_times += 1\n",
    "            if trigger_times > patience:\n",
    "                break\n",
    "        else:\n",
    "            trigger_times = 0  \n",
    "        if epoch ==int(number_of_epoches * 0.3):\n",
    "            optimizer = torch.optim.Adam(model.parameters(),lr = learning_rate)    \n",
    "        print(\"Trigger times\", trigger_times) \n",
    "        \n",
    "        if accuracy > best_accuracy:\n",
    "            best_accuracy = accuracy\n",
    "        last_accuracy = accuracy\n",
    "        \n",
    "    return loss_train, loss_valid, acc"
   ]
  },
  {
   "cell_type": "code",
   "execution_count": 16,
   "id": "ff2142d2",
   "metadata": {},
   "outputs": [],
   "source": [
    "loss_function=nn.CrossEntropyLoss()"
   ]
  },
  {
   "cell_type": "code",
   "execution_count": 17,
   "id": "b04e4ce8",
   "metadata": {},
   "outputs": [],
   "source": [
    "learning_rate = 0.001\n",
    "learning_rate_2 = 0.0001"
   ]
  },
  {
   "cell_type": "code",
   "execution_count": 18,
   "id": "654ff832",
   "metadata": {},
   "outputs": [],
   "source": [
    "input_shape=1000"
   ]
  },
  {
   "cell_type": "code",
   "execution_count": 19,
   "id": "3bea113e",
   "metadata": {},
   "outputs": [],
   "source": [
    "class BasicBlock(nn.Module):\n",
    "    def __init__(self, in_channels, out_channels, kernel_size, stride = 1):\n",
    "        super().__init__()\n",
    "\n",
    "        self.model = nn.Sequential(\n",
    "        nn.Conv1d(in_channels = in_channels, out_channels = out_channels, kernel_size = kernel_size[0], padding = kernel_size[0] //2, stride = stride),\n",
    "        nn.BatchNorm1d(out_channels),  nn.LeakyReLU(0.01),\n",
    "        nn.Conv1d(in_channels = out_channels, out_channels = out_channels, kernel_size = kernel_size[1], padding = kernel_size[1] // 2),\n",
    "            \n",
    "        )\n",
    "        self.leakyReLU = nn.LeakyReLU(0.01)\n",
    "        \n",
    "        self.shortcut = nn.Sequential()\n",
    "        if stride != 1 or in_channels != out_channels:\n",
    "            self.shortcut = nn.Sequential(\n",
    "                nn.Conv1d(in_channels, out_channels, kernel_size = 1, stride = stride)\n",
    "            )\n",
    "        self.bn = nn.BatchNorm1d(out_channels)\n",
    "\n",
    "        \n",
    "    def forward(self, X):\n",
    "        output = self.model(X)\n",
    "        output += self.shortcut(X)\n",
    "        output = self.bn(output)\n",
    "        output = self.leakyReLU(output)\n",
    "\n",
    "        return output"
   ]
  },
  {
   "cell_type": "code",
   "execution_count": 31,
   "id": "cd344396",
   "metadata": {},
   "outputs": [],
   "source": [
    "class CNN_ResNet(nn.Module):\n",
    "    def __init__(self,in_channels,  input_shape, n_outputs, block, kernel_size = [3,3,3,5,5]):\n",
    "        super().__init__()\n",
    "        self.zero = nn.ZeroPad2d(3)\n",
    "        self.conv1D_1 = nn.Conv1d(in_channels = in_channels+6, out_channels = 64, kernel_size =  kernel_size[0], padding = 'same')\n",
    "        self.bn_1 = nn.BatchNorm1d(64)\n",
    "        self.leakyReLU_1 = nn.LeakyReLU(0.01)\n",
    "        self.maxpool = nn.MaxPool1d(2)\n",
    "        self.conv1D_2 = nn.Conv1d(in_channels = 64, out_channels = 64, kernel_size = kernel_size[1], padding = 'same')\n",
    "        self.bn_2 = nn.BatchNorm1d(64)\n",
    "        self.leakyReLU_2 = nn.LeakyReLU(0.01)\n",
    "    \n",
    "        self.block1 = self.make_layer(block, 64, 64, kernel_size[1:3], 2)\n",
    "        self.block2 = self.make_layer(block, 64, 64, kernel_size[3:5], 2)\n",
    "        self.maxpool2 = nn.MaxPool1d(2)\n",
    "        \n",
    "\n",
    "\n",
    "        \n",
    "        self.adAvgPooling = nn.AdaptiveAvgPool1d(2)\n",
    "        self.flatten = nn.Flatten()\n",
    "        self.fc = nn.Linear(2 * 64,n_outputs)\n",
    "        self.bn = nn.BatchNorm1d(n_outputs)\n",
    "        self.softmax = nn.Softmax(dim=1)\n",
    "\n",
    "    def make_layer(self, block, in_channels, out_channels, kernel_size, stride = 1):  \n",
    "        return nn.Sequential(block(in_channels, out_channels, kernel_size, stride))\n",
    "\n",
    "    def forward(self, x):\n",
    "        \n",
    "        output = self.zero(x)\n",
    "        output = self.conv1D_1(output)\n",
    "        output = self.bn_1(output)\n",
    "        output = self.leakyReLU_1(output)\n",
    "        output = self.maxpool(output)\n",
    "  \n",
    "\n",
    "        output = self.block1(output)\n",
    "        output = self.block2(output) \n",
    "        output = self.maxpool2(output)\n",
    "        \n",
    "        output = self.adAvgPooling(output)\n",
    "        output = self.flatten(output)\n",
    "        output = self.fc(output)\n",
    "        output = self.bn(output)\n",
    "        output = self.softmax(output)\n",
    "        return output"
   ]
  },
  {
   "cell_type": "code",
   "execution_count": 32,
   "id": "1f115a87",
   "metadata": {},
   "outputs": [],
   "source": [
    "model = CNN_ResNet(12, 1000, 5, BasicBlock, [5,5,5,5,5])"
   ]
  },
  {
   "cell_type": "code",
   "execution_count": 33,
   "id": "da45c1e8",
   "metadata": {},
   "outputs": [],
   "source": [
    "optimizer = torch.optim.Adam(model.parameters(),lr = learning_rate)"
   ]
  },
  {
   "cell_type": "code",
   "execution_count": 34,
   "id": "e942bd64",
   "metadata": {},
   "outputs": [
    {
     "name": "stdout",
     "output_type": "stream",
     "text": [
      "Train Epoch: 1 [0/12069 (0%)]\tLoss: 1.607672\n",
      "Train Epoch: 1 [1280/12069 (11%)]\tLoss: 1.448097\n",
      "Train Epoch: 1 [2560/12069 (21%)]\tLoss: 1.402672\n",
      "Train Epoch: 1 [3840/12069 (32%)]\tLoss: 1.370293\n",
      "Train Epoch: 1 [5120/12069 (42%)]\tLoss: 1.379068\n",
      "Train Epoch: 1 [6400/12069 (53%)]\tLoss: 1.362496\n",
      "Train Epoch: 1 [7680/12069 (63%)]\tLoss: 1.366351\n",
      "Train Epoch: 1 [8960/12069 (74%)]\tLoss: 1.374739\n",
      "Train Epoch: 1 [10240/12069 (84%)]\tLoss: 1.339314\n",
      "Train Epoch: 1 [11520/12069 (95%)]\tLoss: 1.334963\n",
      "\n",
      "Test set: Average loss: 1.3596, Accuracy: 1758/2587 (67.96%)\n",
      "\n",
      "Trigger times 0\n",
      "Train Epoch: 2 [0/12069 (0%)]\tLoss: 1.316978\n",
      "Train Epoch: 2 [1280/12069 (11%)]\tLoss: 1.293207\n",
      "Train Epoch: 2 [2560/12069 (21%)]\tLoss: 1.322916\n",
      "Train Epoch: 2 [3840/12069 (32%)]\tLoss: 1.337403\n",
      "Train Epoch: 2 [5120/12069 (42%)]\tLoss: 1.297879\n",
      "Train Epoch: 2 [6400/12069 (53%)]\tLoss: 1.306226\n",
      "Train Epoch: 2 [7680/12069 (63%)]\tLoss: 1.286202\n",
      "Train Epoch: 2 [8960/12069 (74%)]\tLoss: 1.299893\n",
      "Train Epoch: 2 [10240/12069 (84%)]\tLoss: 1.294519\n",
      "Train Epoch: 2 [11520/12069 (95%)]\tLoss: 1.298904\n",
      "\n",
      "Test set: Average loss: 1.3656, Accuracy: 1648/2587 (63.70%)\n",
      "\n",
      "Trigger times 1\n",
      "Train Epoch: 3 [0/12069 (0%)]\tLoss: 1.297969\n",
      "Train Epoch: 3 [1280/12069 (11%)]\tLoss: 1.252788\n",
      "Train Epoch: 3 [2560/12069 (21%)]\tLoss: 1.288556\n",
      "Train Epoch: 3 [3840/12069 (32%)]\tLoss: 1.272590\n",
      "Train Epoch: 3 [5120/12069 (42%)]\tLoss: 1.263489\n",
      "Train Epoch: 3 [6400/12069 (53%)]\tLoss: 1.321982\n",
      "Train Epoch: 3 [7680/12069 (63%)]\tLoss: 1.266768\n",
      "Train Epoch: 3 [8960/12069 (74%)]\tLoss: 1.255024\n",
      "Train Epoch: 3 [10240/12069 (84%)]\tLoss: 1.278219\n",
      "Train Epoch: 3 [11520/12069 (95%)]\tLoss: 1.291338\n",
      "\n",
      "Test set: Average loss: 1.3215, Accuracy: 1898/2587 (73.37%)\n",
      "\n",
      "Trigger times 0\n",
      "Train Epoch: 4 [0/12069 (0%)]\tLoss: 1.259266\n",
      "Train Epoch: 4 [1280/12069 (11%)]\tLoss: 1.259704\n",
      "Train Epoch: 4 [2560/12069 (21%)]\tLoss: 1.225815\n",
      "Train Epoch: 4 [3840/12069 (32%)]\tLoss: 1.231563\n",
      "Train Epoch: 4 [5120/12069 (42%)]\tLoss: 1.251585\n",
      "Train Epoch: 4 [6400/12069 (53%)]\tLoss: 1.234744\n",
      "Train Epoch: 4 [7680/12069 (63%)]\tLoss: 1.218968\n",
      "Train Epoch: 4 [8960/12069 (74%)]\tLoss: 1.227288\n",
      "Train Epoch: 4 [10240/12069 (84%)]\tLoss: 1.216557\n",
      "Train Epoch: 4 [11520/12069 (95%)]\tLoss: 1.227412\n",
      "\n",
      "Test set: Average loss: 1.2342, Accuracy: 1883/2587 (72.79%)\n",
      "\n",
      "Trigger times 1\n",
      "Train Epoch: 5 [0/12069 (0%)]\tLoss: 1.230243\n",
      "Train Epoch: 5 [1280/12069 (11%)]\tLoss: 1.242217\n",
      "Train Epoch: 5 [2560/12069 (21%)]\tLoss: 1.191140\n",
      "Train Epoch: 5 [3840/12069 (32%)]\tLoss: 1.211732\n",
      "Train Epoch: 5 [5120/12069 (42%)]\tLoss: 1.171210\n",
      "Train Epoch: 5 [6400/12069 (53%)]\tLoss: 1.181121\n",
      "Train Epoch: 5 [7680/12069 (63%)]\tLoss: 1.194806\n",
      "Train Epoch: 5 [8960/12069 (74%)]\tLoss: 1.164163\n",
      "Train Epoch: 5 [10240/12069 (84%)]\tLoss: 1.235709\n",
      "Train Epoch: 5 [11520/12069 (95%)]\tLoss: 1.196624\n",
      "\n",
      "Test set: Average loss: 1.2390, Accuracy: 1943/2587 (75.11%)\n",
      "\n",
      "Trigger times 0\n",
      "Train Epoch: 6 [0/12069 (0%)]\tLoss: 1.247121\n",
      "Train Epoch: 6 [1280/12069 (11%)]\tLoss: 1.193685\n",
      "Train Epoch: 6 [2560/12069 (21%)]\tLoss: 1.194484\n",
      "Train Epoch: 6 [3840/12069 (32%)]\tLoss: 1.181983\n",
      "Train Epoch: 6 [5120/12069 (42%)]\tLoss: 1.211343\n",
      "Train Epoch: 6 [6400/12069 (53%)]\tLoss: 1.175939\n",
      "Train Epoch: 6 [7680/12069 (63%)]\tLoss: 1.159063\n",
      "Train Epoch: 6 [8960/12069 (74%)]\tLoss: 1.170245\n",
      "Train Epoch: 6 [10240/12069 (84%)]\tLoss: 1.199797\n",
      "Train Epoch: 6 [11520/12069 (95%)]\tLoss: 1.192219\n",
      "\n",
      "Test set: Average loss: 1.2260, Accuracy: 1960/2587 (75.76%)\n",
      "\n",
      "Trigger times 0\n",
      "Train Epoch: 7 [0/12069 (0%)]\tLoss: 1.175486\n",
      "Train Epoch: 7 [1280/12069 (11%)]\tLoss: 1.171364\n",
      "Train Epoch: 7 [2560/12069 (21%)]\tLoss: 1.219820\n",
      "Train Epoch: 7 [3840/12069 (32%)]\tLoss: 1.188606\n",
      "Train Epoch: 7 [5120/12069 (42%)]\tLoss: 1.176666\n",
      "Train Epoch: 7 [6400/12069 (53%)]\tLoss: 1.167255\n",
      "Train Epoch: 7 [7680/12069 (63%)]\tLoss: 1.144072\n",
      "Train Epoch: 7 [8960/12069 (74%)]\tLoss: 1.183843\n",
      "Train Epoch: 7 [10240/12069 (84%)]\tLoss: 1.169841\n",
      "Train Epoch: 7 [11520/12069 (95%)]\tLoss: 1.128895\n",
      "\n",
      "Test set: Average loss: 1.2096, Accuracy: 1935/2587 (74.80%)\n",
      "\n",
      "Trigger times 1\n",
      "Train Epoch: 8 [0/12069 (0%)]\tLoss: 1.177310\n",
      "Train Epoch: 8 [1280/12069 (11%)]\tLoss: 1.117864\n",
      "Train Epoch: 8 [2560/12069 (21%)]\tLoss: 1.150367\n",
      "Train Epoch: 8 [3840/12069 (32%)]\tLoss: 1.175445\n",
      "Train Epoch: 8 [5120/12069 (42%)]\tLoss: 1.143058\n",
      "Train Epoch: 8 [6400/12069 (53%)]\tLoss: 1.188485\n",
      "Train Epoch: 8 [7680/12069 (63%)]\tLoss: 1.163778\n",
      "Train Epoch: 8 [8960/12069 (74%)]\tLoss: 1.193312\n",
      "Train Epoch: 8 [10240/12069 (84%)]\tLoss: 1.144080\n",
      "Train Epoch: 8 [11520/12069 (95%)]\tLoss: 1.157017\n",
      "\n",
      "Test set: Average loss: 1.1956, Accuracy: 1969/2587 (76.11%)\n",
      "\n",
      "Trigger times 0\n",
      "Train Epoch: 9 [0/12069 (0%)]\tLoss: 1.182587\n",
      "Train Epoch: 9 [1280/12069 (11%)]\tLoss: 1.138197\n",
      "Train Epoch: 9 [2560/12069 (21%)]\tLoss: 1.155557\n",
      "Train Epoch: 9 [3840/12069 (32%)]\tLoss: 1.138504\n",
      "Train Epoch: 9 [5120/12069 (42%)]\tLoss: 1.166636\n",
      "Train Epoch: 9 [6400/12069 (53%)]\tLoss: 1.125575\n",
      "Train Epoch: 9 [7680/12069 (63%)]\tLoss: 1.176302\n",
      "Train Epoch: 9 [8960/12069 (74%)]\tLoss: 1.138632\n",
      "Train Epoch: 9 [10240/12069 (84%)]\tLoss: 1.175749\n",
      "Train Epoch: 9 [11520/12069 (95%)]\tLoss: 1.114866\n",
      "\n",
      "Test set: Average loss: 1.1795, Accuracy: 1969/2587 (76.11%)\n",
      "\n",
      "Trigger times 0\n",
      "Train Epoch: 10 [0/12069 (0%)]\tLoss: 1.163459\n",
      "Train Epoch: 10 [1280/12069 (11%)]\tLoss: 1.111081\n",
      "Train Epoch: 10 [2560/12069 (21%)]\tLoss: 1.131107\n",
      "Train Epoch: 10 [3840/12069 (32%)]\tLoss: 1.101465\n",
      "Train Epoch: 10 [5120/12069 (42%)]\tLoss: 1.120392\n",
      "Train Epoch: 10 [6400/12069 (53%)]\tLoss: 1.136813\n",
      "Train Epoch: 10 [7680/12069 (63%)]\tLoss: 1.099837\n",
      "Train Epoch: 10 [8960/12069 (74%)]\tLoss: 1.150129\n",
      "Train Epoch: 10 [10240/12069 (84%)]\tLoss: 1.090478\n",
      "Train Epoch: 10 [11520/12069 (95%)]\tLoss: 1.151769\n",
      "\n",
      "Test set: Average loss: 1.2215, Accuracy: 1912/2587 (73.91%)\n",
      "\n",
      "Trigger times 1\n",
      "Train Epoch: 11 [0/12069 (0%)]\tLoss: 1.115728\n",
      "Train Epoch: 11 [1280/12069 (11%)]\tLoss: 1.144894\n",
      "Train Epoch: 11 [2560/12069 (21%)]\tLoss: 1.095841\n",
      "Train Epoch: 11 [3840/12069 (32%)]\tLoss: 1.080647\n",
      "Train Epoch: 11 [5120/12069 (42%)]\tLoss: 1.122758\n",
      "Train Epoch: 11 [6400/12069 (53%)]\tLoss: 1.079733\n",
      "Train Epoch: 11 [7680/12069 (63%)]\tLoss: 1.092711\n",
      "Train Epoch: 11 [8960/12069 (74%)]\tLoss: 1.089979\n",
      "Train Epoch: 11 [10240/12069 (84%)]\tLoss: 1.088613\n",
      "Train Epoch: 11 [11520/12069 (95%)]\tLoss: 1.098165\n",
      "\n",
      "Test set: Average loss: 1.1778, Accuracy: 2008/2587 (77.62%)\n",
      "\n",
      "Trigger times 0\n",
      "Train Epoch: 12 [0/12069 (0%)]\tLoss: 1.108844\n",
      "Train Epoch: 12 [1280/12069 (11%)]\tLoss: 1.120502\n",
      "Train Epoch: 12 [2560/12069 (21%)]\tLoss: 1.093643\n",
      "Train Epoch: 12 [3840/12069 (32%)]\tLoss: 1.090516\n",
      "Train Epoch: 12 [5120/12069 (42%)]\tLoss: 1.110616\n",
      "Train Epoch: 12 [6400/12069 (53%)]\tLoss: 1.086108\n",
      "Train Epoch: 12 [7680/12069 (63%)]\tLoss: 1.106020\n",
      "Train Epoch: 12 [8960/12069 (74%)]\tLoss: 1.104406\n",
      "Train Epoch: 12 [10240/12069 (84%)]\tLoss: 1.115158\n",
      "Train Epoch: 12 [11520/12069 (95%)]\tLoss: 1.125639\n",
      "\n",
      "Test set: Average loss: 1.1653, Accuracy: 2022/2587 (78.16%)\n",
      "\n",
      "Trigger times 0\n",
      "Train Epoch: 13 [0/12069 (0%)]\tLoss: 1.123094\n",
      "Train Epoch: 13 [1280/12069 (11%)]\tLoss: 1.119719\n",
      "Train Epoch: 13 [2560/12069 (21%)]\tLoss: 1.064566\n",
      "Train Epoch: 13 [3840/12069 (32%)]\tLoss: 1.075211\n",
      "Train Epoch: 13 [5120/12069 (42%)]\tLoss: 1.080113\n",
      "Train Epoch: 13 [6400/12069 (53%)]\tLoss: 1.120201\n",
      "Train Epoch: 13 [7680/12069 (63%)]\tLoss: 1.097650\n",
      "Train Epoch: 13 [8960/12069 (74%)]\tLoss: 1.100984\n",
      "Train Epoch: 13 [10240/12069 (84%)]\tLoss: 1.130901\n",
      "Train Epoch: 13 [11520/12069 (95%)]\tLoss: 1.092718\n",
      "\n",
      "Test set: Average loss: 1.1703, Accuracy: 2025/2587 (78.28%)\n",
      "\n",
      "Trigger times 0\n",
      "Train Epoch: 14 [0/12069 (0%)]\tLoss: 1.071069\n",
      "Train Epoch: 14 [1280/12069 (11%)]\tLoss: 1.107415\n",
      "Train Epoch: 14 [2560/12069 (21%)]\tLoss: 1.065519\n",
      "Train Epoch: 14 [3840/12069 (32%)]\tLoss: 1.121017\n",
      "Train Epoch: 14 [5120/12069 (42%)]\tLoss: 1.103995\n",
      "Train Epoch: 14 [6400/12069 (53%)]\tLoss: 1.059067\n",
      "Train Epoch: 14 [7680/12069 (63%)]\tLoss: 1.134498\n",
      "Train Epoch: 14 [8960/12069 (74%)]\tLoss: 1.112560\n",
      "Train Epoch: 14 [10240/12069 (84%)]\tLoss: 1.109020\n",
      "Train Epoch: 14 [11520/12069 (95%)]\tLoss: 1.076846\n",
      "\n",
      "Test set: Average loss: 1.1745, Accuracy: 2025/2587 (78.28%)\n",
      "\n",
      "Trigger times 0\n",
      "Train Epoch: 15 [0/12069 (0%)]\tLoss: 1.071854\n",
      "Train Epoch: 15 [1280/12069 (11%)]\tLoss: 1.086145\n",
      "Train Epoch: 15 [2560/12069 (21%)]\tLoss: 1.071773\n",
      "Train Epoch: 15 [3840/12069 (32%)]\tLoss: 1.086317\n",
      "Train Epoch: 15 [5120/12069 (42%)]\tLoss: 1.092283\n"
     ]
    },
    {
     "name": "stdout",
     "output_type": "stream",
     "text": [
      "Train Epoch: 15 [6400/12069 (53%)]\tLoss: 1.093918\n",
      "Train Epoch: 15 [7680/12069 (63%)]\tLoss: 1.077341\n",
      "Train Epoch: 15 [8960/12069 (74%)]\tLoss: 1.071231\n",
      "Train Epoch: 15 [10240/12069 (84%)]\tLoss: 1.078448\n",
      "Train Epoch: 15 [11520/12069 (95%)]\tLoss: 1.102426\n",
      "\n",
      "Test set: Average loss: 1.1699, Accuracy: 2026/2587 (78.31%)\n",
      "\n",
      "Trigger times 0\n",
      "Train Epoch: 16 [0/12069 (0%)]\tLoss: 1.064112\n",
      "Train Epoch: 16 [1280/12069 (11%)]\tLoss: 1.096114\n",
      "Train Epoch: 16 [2560/12069 (21%)]\tLoss: 1.089562\n",
      "Train Epoch: 16 [3840/12069 (32%)]\tLoss: 1.060264\n",
      "Train Epoch: 16 [5120/12069 (42%)]\tLoss: 1.049621\n",
      "Train Epoch: 16 [6400/12069 (53%)]\tLoss: 1.096430\n",
      "Train Epoch: 16 [7680/12069 (63%)]\tLoss: 1.084254\n",
      "Train Epoch: 16 [8960/12069 (74%)]\tLoss: 1.077873\n",
      "Train Epoch: 16 [10240/12069 (84%)]\tLoss: 1.089757\n",
      "Train Epoch: 16 [11520/12069 (95%)]\tLoss: 1.106132\n",
      "\n",
      "Test set: Average loss: 1.1665, Accuracy: 2015/2587 (77.89%)\n",
      "\n",
      "Trigger times 1\n",
      "Train Epoch: 17 [0/12069 (0%)]\tLoss: 1.095513\n",
      "Train Epoch: 17 [1280/12069 (11%)]\tLoss: 1.064132\n",
      "Train Epoch: 17 [2560/12069 (21%)]\tLoss: 1.061157\n",
      "Train Epoch: 17 [3840/12069 (32%)]\tLoss: 1.090318\n",
      "Train Epoch: 17 [5120/12069 (42%)]\tLoss: 1.097523\n",
      "Train Epoch: 17 [6400/12069 (53%)]\tLoss: 1.065241\n",
      "Train Epoch: 17 [7680/12069 (63%)]\tLoss: 1.084693\n",
      "Train Epoch: 17 [8960/12069 (74%)]\tLoss: 1.096189\n",
      "Train Epoch: 17 [10240/12069 (84%)]\tLoss: 1.095144\n",
      "Train Epoch: 17 [11520/12069 (95%)]\tLoss: 1.048328\n",
      "\n",
      "Test set: Average loss: 1.1663, Accuracy: 2026/2587 (78.31%)\n",
      "\n",
      "Trigger times 0\n",
      "Train Epoch: 18 [0/12069 (0%)]\tLoss: 1.100352\n",
      "Train Epoch: 18 [1280/12069 (11%)]\tLoss: 1.103193\n",
      "Train Epoch: 18 [2560/12069 (21%)]\tLoss: 1.041042\n",
      "Train Epoch: 18 [3840/12069 (32%)]\tLoss: 1.055520\n",
      "Train Epoch: 18 [5120/12069 (42%)]\tLoss: 1.101459\n",
      "Train Epoch: 18 [6400/12069 (53%)]\tLoss: 1.075513\n",
      "Train Epoch: 18 [7680/12069 (63%)]\tLoss: 1.065135\n",
      "Train Epoch: 18 [8960/12069 (74%)]\tLoss: 1.078247\n",
      "Train Epoch: 18 [10240/12069 (84%)]\tLoss: 1.079574\n",
      "Train Epoch: 18 [11520/12069 (95%)]\tLoss: 1.071743\n",
      "\n",
      "Test set: Average loss: 1.1737, Accuracy: 2031/2587 (78.51%)\n",
      "\n",
      "Trigger times 0\n",
      "Train Epoch: 19 [0/12069 (0%)]\tLoss: 1.073960\n",
      "Train Epoch: 19 [1280/12069 (11%)]\tLoss: 1.067901\n",
      "Train Epoch: 19 [2560/12069 (21%)]\tLoss: 1.071981\n",
      "Train Epoch: 19 [3840/12069 (32%)]\tLoss: 1.041609\n",
      "Train Epoch: 19 [5120/12069 (42%)]\tLoss: 1.076890\n",
      "Train Epoch: 19 [6400/12069 (53%)]\tLoss: 1.082433\n",
      "Train Epoch: 19 [7680/12069 (63%)]\tLoss: 1.040877\n",
      "Train Epoch: 19 [8960/12069 (74%)]\tLoss: 1.050778\n",
      "Train Epoch: 19 [10240/12069 (84%)]\tLoss: 1.095204\n",
      "Train Epoch: 19 [11520/12069 (95%)]\tLoss: 1.077550\n",
      "\n",
      "Test set: Average loss: 1.1714, Accuracy: 2020/2587 (78.08%)\n",
      "\n",
      "Trigger times 1\n",
      "Train Epoch: 20 [0/12069 (0%)]\tLoss: 1.053567\n",
      "Train Epoch: 20 [1280/12069 (11%)]\tLoss: 1.034804\n",
      "Train Epoch: 20 [2560/12069 (21%)]\tLoss: 1.061147\n",
      "Train Epoch: 20 [3840/12069 (32%)]\tLoss: 1.039713\n",
      "Train Epoch: 20 [5120/12069 (42%)]\tLoss: 1.076899\n",
      "Train Epoch: 20 [6400/12069 (53%)]\tLoss: 1.085791\n",
      "Train Epoch: 20 [7680/12069 (63%)]\tLoss: 1.091183\n",
      "Train Epoch: 20 [8960/12069 (74%)]\tLoss: 1.085874\n",
      "Train Epoch: 20 [10240/12069 (84%)]\tLoss: 1.103082\n",
      "Train Epoch: 20 [11520/12069 (95%)]\tLoss: 1.072228\n",
      "\n",
      "Test set: Average loss: 1.1691, Accuracy: 2010/2587 (77.70%)\n",
      "\n",
      "Trigger times 2\n",
      "Train Epoch: 21 [0/12069 (0%)]\tLoss: 1.041006\n",
      "Train Epoch: 21 [1280/12069 (11%)]\tLoss: 1.033747\n",
      "Train Epoch: 21 [2560/12069 (21%)]\tLoss: 1.012253\n",
      "Train Epoch: 21 [3840/12069 (32%)]\tLoss: 1.063837\n",
      "Train Epoch: 21 [5120/12069 (42%)]\tLoss: 1.029536\n",
      "Train Epoch: 21 [6400/12069 (53%)]\tLoss: 1.093663\n",
      "Train Epoch: 21 [7680/12069 (63%)]\tLoss: 1.050555\n",
      "Train Epoch: 21 [8960/12069 (74%)]\tLoss: 1.045680\n",
      "Train Epoch: 21 [10240/12069 (84%)]\tLoss: 1.092196\n",
      "Train Epoch: 21 [11520/12069 (95%)]\tLoss: 1.071675\n",
      "\n",
      "Test set: Average loss: 1.1755, Accuracy: 2003/2587 (77.43%)\n",
      "\n",
      "Trigger times 3\n",
      "Train Epoch: 22 [0/12069 (0%)]\tLoss: 1.052329\n",
      "Train Epoch: 22 [1280/12069 (11%)]\tLoss: 1.103447\n",
      "Train Epoch: 22 [2560/12069 (21%)]\tLoss: 1.087677\n",
      "Train Epoch: 22 [3840/12069 (32%)]\tLoss: 1.049963\n",
      "Train Epoch: 22 [5120/12069 (42%)]\tLoss: 1.041926\n",
      "Train Epoch: 22 [6400/12069 (53%)]\tLoss: 1.033100\n",
      "Train Epoch: 22 [7680/12069 (63%)]\tLoss: 1.062825\n",
      "Train Epoch: 22 [8960/12069 (74%)]\tLoss: 1.051315\n",
      "Train Epoch: 22 [10240/12069 (84%)]\tLoss: 1.123510\n",
      "Train Epoch: 22 [11520/12069 (95%)]\tLoss: 1.090503\n",
      "\n",
      "Test set: Average loss: 1.1765, Accuracy: 1994/2587 (77.08%)\n",
      "\n"
     ]
    }
   ],
   "source": [
    "loss_train, loss_valid, accuracy = training(30, model, optimizer, loss_function, learning_rate_2, train_loader, valid_loader)"
   ]
  },
  {
   "cell_type": "code",
   "execution_count": 35,
   "id": "e7915316",
   "metadata": {},
   "outputs": [
    {
     "name": "stdout",
     "output_type": "stream",
     "text": [
      "[[332  45  18  39  18]\n",
      " [ 55 332   4  41  62]\n",
      " [ 17   6  58  27   6]\n",
      " [ 38  31  17 337  55]\n",
      " [  7  36   5  68 932]]\n",
      "Accuracy = 0.7699149265274555\n"
     ]
    },
    {
     "data": {
      "text/plain": [
       "0.7699149265274555"
      ]
     },
     "execution_count": 35,
     "metadata": {},
     "output_type": "execute_result"
    }
   ],
   "source": [
    "print_confusion_matrix(model, X_test, y_test)"
   ]
  },
  {
   "cell_type": "code",
   "execution_count": 36,
   "id": "cfad5f04",
   "metadata": {},
   "outputs": [
    {
     "data": {
      "image/png": "[encoded data removed]",
      "text/plain": [
       "<Figure size 432x288 with 1 Axes>"
      ]
     },
     "metadata": {
      "needs_background": "light"
     },
     "output_type": "display_data"
    }
   ],
   "source": [
    "plt.plot(loss_train, label = 'Train Loss')\n",
    "plt.plot(loss_valid, label = 'Validation Loss')\n",
    "plt.show()"
   ]
  },
  {
   "cell_type": "code",
   "execution_count": 37,
   "id": "f2ac5d29",
   "metadata": {},
   "outputs": [
    {
     "data": {
      "image/png": "[encoded data removed]",
      "text/plain": [
       "<Figure size 432x288 with 1 Axes>"
      ]
     },
     "metadata": {
      "needs_background": "light"
     },
     "output_type": "display_data"
    }
   ],
   "source": [
    "plt.plot(accuracy)\n",
    "plt.show()"
   ]
  },
  {
   "cell_type": "code",
   "execution_count": 38,
   "id": "00c3b059",
   "metadata": {},
   "outputs": [
    {
     "name": "stdout",
     "output_type": "stream",
     "text": [
      "Best accuracy:  0.78507924  Epoch:  18\n"
     ]
    }
   ],
   "source": [
    "print(\"Best accuracy: \",np.max(accuracy),\" Epoch: \", np.argmax(accuracy)+1)"
   ]
  },
  {
   "cell_type": "code",
   "execution_count": 39,
   "id": "68c019e0",
   "metadata": {},
   "outputs": [],
   "source": [
    "model.eval()\n",
    "y_pred = model(torch.Tensor(X_test)).data.numpy().argmax(axis = 1)"
   ]
  },
  {
   "cell_type": "code",
   "execution_count": 40,
   "id": "152fd1a0",
   "metadata": {},
   "outputs": [
    {
     "name": "stdout",
     "output_type": "stream",
     "text": [
      "              precision    recall  f1-score   support\n",
      "\n",
      "           0       0.74      0.73      0.74       452\n",
      "           1       0.74      0.67      0.70       494\n",
      "           2       0.57      0.51      0.54       114\n",
      "           3       0.66      0.71      0.68       478\n",
      "           4       0.87      0.89      0.88      1048\n",
      "\n",
      "    accuracy                           0.77      2586\n",
      "   macro avg       0.71      0.70      0.71      2586\n",
      "weighted avg       0.77      0.77      0.77      2586\n",
      "\n"
     ]
    }
   ],
   "source": [
    "print(classification_report(y_test, y_pred))"
   ]
  },
  {
   "cell_type": "code",
   "execution_count": 41,
   "id": "a91c030b",
   "metadata": {},
   "outputs": [
    {
     "data": {
      "image/png": "[encoded data removed]",
      "text/plain": [
       "<Figure size 432x288 with 2 Axes>"
      ]
     },
     "metadata": {
      "needs_background": "light"
     },
     "output_type": "display_data"
    }
   ],
   "source": [
    "cm = confusion_matrix(y_test,y_pred)\n",
    "f = sns.heatmap(cm, annot=True, fmt='d', cmap='coolwarm', center = 0)"
   ]
  },
  {
   "cell_type": "code",
   "execution_count": null,
   "id": "4c669b14",
   "metadata": {},
   "outputs": [],
   "source": []
  },
  {
   "cell_type": "code",
   "execution_count": null,
   "id": "91fcf998",
   "metadata": {},
   "outputs": [],
   "source": []
  }
 ],
 "metadata": {
  "kernelspec": {
   "display_name": "Python 3 (ipykernel)",
   "language": "python",
   "name": "python3"
  },
  "language_info": {
   "codemirror_mode": {
    "name": "ipython",
    "version": 3
   },
   "file_extension": ".py",
   "mimetype": "text/x-python",
   "name": "python",
   "nbconvert_exporter": "python",
   "pygments_lexer": "ipython3",
   "version": "3.9.7"
  }
 },
 "nbformat": 4,
 "nbformat_minor": 5
}
