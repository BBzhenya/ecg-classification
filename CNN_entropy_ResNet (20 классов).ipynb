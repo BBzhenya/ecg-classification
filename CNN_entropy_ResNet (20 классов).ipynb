{
 "cells": [
  {
   "cell_type": "code",
   "execution_count": 1,
   "id": "07e0ce23",
   "metadata": {},
   "outputs": [],
   "source": [
    "import torch \n",
    "import torch.nn as nn \n",
    "import numpy as np\n",
    "import matplotlib.pyplot as plt\n",
    "import pandas as pd\n",
    "%matplotlib inline"
   ]
  },
  {
   "cell_type": "code",
   "execution_count": 2,
   "id": "0ebcb1bb",
   "metadata": {},
   "outputs": [],
   "source": [
    "import seaborn as sns"
   ]
  },
  {
   "cell_type": "code",
   "execution_count": 3,
   "id": "d9bd41af",
   "metadata": {},
   "outputs": [],
   "source": [
    "from torch.utils.data import TensorDataset, DataLoader"
   ]
  },
  {
   "cell_type": "code",
   "execution_count": 4,
   "id": "2b035aad",
   "metadata": {},
   "outputs": [],
   "source": [
    "from sklearn.metrics import classification_report"
   ]
  },
  {
   "cell_type": "code",
   "execution_count": 5,
   "id": "3d648bdf",
   "metadata": {},
   "outputs": [],
   "source": [
    "path_to_train='Train/'\n",
    "path_to_valid = 'Valid/'\n",
    "path_to_test='Test/'"
   ]
  },
  {
   "cell_type": "code",
   "execution_count": 6,
   "id": "2100ecab",
   "metadata": {},
   "outputs": [],
   "source": [
    "path_to_entropy='Entropy/'"
   ]
  },
  {
   "cell_type": "code",
   "execution_count": 7,
   "id": "3e5fa5a4",
   "metadata": {},
   "outputs": [],
   "source": [
    "X_train=np.load(path_to_train+\"X_train.npy\")\n",
    "X_valid=np.load(path_to_valid+\"X_valid.npy\")"
   ]
  },
  {
   "cell_type": "code",
   "execution_count": 8,
   "id": "85e991fb",
   "metadata": {},
   "outputs": [],
   "source": [
    "y_train_superclass=np.load(path_to_train+\"y_train_subclass.npy\")\n",
    "y_valid_superclass=np.load(path_to_valid+\"y_valid_subclass.npy\")"
   ]
  },
  {
   "cell_type": "code",
   "execution_count": 9,
   "id": "dfebc24c",
   "metadata": {},
   "outputs": [],
   "source": [
    "X_test=np.load(path_to_test+\"X_test.npy\")\n",
    "y_test=np.load(path_to_test+\"y_test_subclass.npy\")"
   ]
  },
  {
   "cell_type": "code",
   "execution_count": 10,
   "id": "1d63ce76",
   "metadata": {},
   "outputs": [],
   "source": [
    "X_entropy = np.load(path_to_entropy+\"X_entropy_file.npy\")"
   ]
  },
  {
   "cell_type": "code",
   "execution_count": 11,
   "id": "59ec89d1",
   "metadata": {},
   "outputs": [
    {
     "data": {
      "text/plain": [
       "(12069, 2587, 2586)"
      ]
     },
     "execution_count": 11,
     "metadata": {},
     "output_type": "execute_result"
    }
   ],
   "source": [
    "X_train.shape[0], X_valid.shape[0], X_test.shape[0]"
   ]
  },
  {
   "cell_type": "code",
   "execution_count": 12,
   "id": "094cd325",
   "metadata": {},
   "outputs": [],
   "source": [
    "X_train_idx = np.array([range(X_train.shape[0])])"
   ]
  },
  {
   "cell_type": "code",
   "execution_count": 13,
   "id": "6e2ccd31",
   "metadata": {},
   "outputs": [],
   "source": [
    "X_valid_idx = np.array([range(X_train.shape[0], X_train.shape[0]+X_valid.shape[0])])"
   ]
  },
  {
   "cell_type": "code",
   "execution_count": 14,
   "id": "428b9e75",
   "metadata": {},
   "outputs": [],
   "source": [
    "X_test_idx = np.array([range(X_train.shape[0]+X_valid.shape[0], X_train.shape[0]+X_valid.shape[0]+X_test.shape[0])])"
   ]
  },
  {
   "cell_type": "code",
   "execution_count": 15,
   "id": "b4c40d97",
   "metadata": {},
   "outputs": [],
   "source": [
    "X_train_idx = np.squeeze(X_train_idx)"
   ]
  },
  {
   "cell_type": "code",
   "execution_count": 16,
   "id": "9e5f917e",
   "metadata": {},
   "outputs": [],
   "source": [
    "X_valid_idx = np.squeeze(X_valid_idx)"
   ]
  },
  {
   "cell_type": "code",
   "execution_count": 17,
   "id": "337eb54e",
   "metadata": {},
   "outputs": [],
   "source": [
    "X_test_idx = np.squeeze(X_test_idx)"
   ]
  },
  {
   "cell_type": "code",
   "execution_count": 18,
   "id": "3cc6d42a",
   "metadata": {},
   "outputs": [],
   "source": [
    "batch_size = 128"
   ]
  },
  {
   "cell_type": "code",
   "execution_count": 19,
   "id": "c514e2fb",
   "metadata": {},
   "outputs": [],
   "source": [
    "X_train_tensor = torch.Tensor(X_train_idx)\n",
    "y_train_tensor = torch.LongTensor(y_train_superclass)\n",
    "\n",
    "train_dataset = TensorDataset(X_train_tensor, y_train_tensor)\n",
    "train_loader = DataLoader(train_dataset, batch_size = batch_size, shuffle = True)\n",
    "\n",
    "X_valid_tensor = torch.Tensor(X_valid_idx)\n",
    "y_valid_tensor = torch.LongTensor(y_valid_superclass)\n",
    "\n",
    "valid_dataset = TensorDataset(X_valid_tensor, y_valid_tensor)\n",
    "valid_loader = DataLoader(valid_dataset, batch_size = batch_size, shuffle = True)"
   ]
  },
  {
   "cell_type": "code",
   "execution_count": 20,
   "id": "44e3e4bf",
   "metadata": {},
   "outputs": [],
   "source": [
    "X_array = np.concatenate((X_train, X_valid, X_test))    "
   ]
  },
  {
   "cell_type": "code",
   "execution_count": 21,
   "id": "d55b63b7",
   "metadata": {},
   "outputs": [],
   "source": [
    "del X_train\n",
    "del X_valid\n",
    "del X_test"
   ]
  },
  {
   "cell_type": "code",
   "execution_count": 22,
   "id": "579c3fa1",
   "metadata": {},
   "outputs": [],
   "source": [
    "del y_train_superclass\n",
    "del y_valid_superclass\n",
    "\n",
    "del X_train_tensor\n",
    "del y_train_tensor\n",
    "\n",
    "del X_valid_tensor\n",
    "del y_valid_tensor"
   ]
  },
  {
   "cell_type": "code",
   "execution_count": 23,
   "id": "99e8d545",
   "metadata": {},
   "outputs": [],
   "source": [
    "def train(epoch,my_model, data_loader, optimizer, loss_function):\n",
    "    losses=[]\n",
    "    my_model.train()\n",
    "    for batch_idx, (X_batch, y_batch) in enumerate(data_loader):\n",
    "        optimizer.zero_grad()\n",
    "        output = my_model(X_batch)\n",
    "        loss = loss_function(output, y_batch)\n",
    "        loss.backward()\n",
    "        optimizer.step()\n",
    "        if batch_idx % 10 == 0:\n",
    "            print('Train Epoch: {} [{}/{} ({:.0f}%)]\\tLoss: {:.6f}'.format(\n",
    "            epoch, batch_idx * len(X_batch), len(data_loader.dataset),\n",
    "                100. * batch_idx / len(data_loader), loss.item()))\n",
    "        losses.append(loss.data.numpy())\n",
    "    return np.mean(losses)"
   ]
  },
  {
   "cell_type": "code",
   "execution_count": 24,
   "id": "92e5f853",
   "metadata": {},
   "outputs": [],
   "source": [
    "def test(my_model, data_loader, loss_function):\n",
    "    accuracy_arr = []\n",
    "    my_model.eval()\n",
    "    test_loss = 0\n",
    "    correct = 0\n",
    "    for X_batch, y_batch in data_loader:\n",
    "        output = my_model(X_batch)\n",
    "        test_loss += loss_function(output, y_batch).data\n",
    "        pred = output.data.max(1, keepdim=True)[1]\n",
    "        correct += pred.eq(y_batch.data.view_as(pred)).cpu().sum()\n",
    "\n",
    "    test_loss /= len(data_loader)\n",
    "    acc = correct / len(data_loader.dataset)\n",
    "    print('\\nTest set: Average loss: {:.4f}, Accuracy: {}/{} ({:.2f}%)\\n'.format(\n",
    "        test_loss, correct, len(data_loader.dataset),\n",
    "        100. * correct / len(data_loader.dataset)))\n",
    "    return acc,test_loss"
   ]
  },
  {
   "cell_type": "code",
   "execution_count": 25,
   "id": "417c9750",
   "metadata": {},
   "outputs": [],
   "source": [
    "from sklearn.metrics import confusion_matrix, accuracy_score\n",
    "\n",
    "def print_confusion_matrix(model, X, y):\n",
    "    model.eval()\n",
    "    y_pred = model(torch.Tensor(X)).data.numpy().argmax(axis = 1)\n",
    "    print(confusion_matrix(y, y_pred))\n",
    "    accuracy = accuracy_score(y, y_pred)\n",
    "    print(f\"Accuracy = {accuracy}\")\n",
    "    return accuracy"
   ]
  },
  {
   "cell_type": "code",
   "execution_count": 26,
   "id": "ab45bcef",
   "metadata": {},
   "outputs": [],
   "source": [
    "def training(number_of_epoches, model, optimizer, loss_function, learning_rate, train_loader, valid_loader):\n",
    "    loss_train=[]\n",
    "    loss_valid=[]\n",
    "    acc=[]\n",
    "    best_accuracy, last_accuracy = 0, 0\n",
    "    patience = 3\n",
    "    trigger_times = 0 \n",
    "    \n",
    "    for epoch in range(number_of_epoches):\n",
    "        loss_train.append(train(epoch + 1,model, train_loader, optimizer, loss_function))\n",
    "        accuracy, current_loss = test(model, valid_loader, loss_function)\n",
    "        acc.append(accuracy)\n",
    "        loss_valid.append(current_loss)\n",
    "        if accuracy < last_accuracy:\n",
    "            trigger_times += 1\n",
    "            if trigger_times > patience:\n",
    "                break\n",
    "        else:\n",
    "            trigger_times = 0  \n",
    "        if epoch ==int(number_of_epoches * 0.3):\n",
    "            optimizer = torch.optim.Adam(model.parameters(),lr = learning_rate)    \n",
    "        print(\"Trigger times\", trigger_times) \n",
    "        \n",
    "        if accuracy > best_accuracy:\n",
    "            best_accuracy = accuracy\n",
    "        last_accuracy = accuracy\n",
    "        \n",
    "    return loss_train, loss_valid, acc"
   ]
  },
  {
   "cell_type": "code",
   "execution_count": 27,
   "id": "ff2142d2",
   "metadata": {},
   "outputs": [],
   "source": [
    "loss_function=nn.CrossEntropyLoss()"
   ]
  },
  {
   "cell_type": "code",
   "execution_count": 28,
   "id": "b04e4ce8",
   "metadata": {},
   "outputs": [],
   "source": [
    "learning_rate = 0.001\n",
    "learning_rate_2 = 0.0001"
   ]
  },
  {
   "cell_type": "code",
   "execution_count": 29,
   "id": "654ff832",
   "metadata": {},
   "outputs": [],
   "source": [
    "input_shape=1000"
   ]
  },
  {
   "cell_type": "code",
   "execution_count": 30,
   "id": "cd22d92f",
   "metadata": {},
   "outputs": [],
   "source": [
    "class BasicBlock(nn.Module):\n",
    "    def __init__(self, in_channels, out_channels, kernel_size, stride = 1):\n",
    "        super().__init__()\n",
    "\n",
    "        self.model = nn.Sequential(\n",
    "        nn.Conv1d(in_channels = in_channels, out_channels = out_channels, kernel_size = kernel_size[0], padding = kernel_size[0] //2, stride = stride),\n",
    "        nn.BatchNorm1d(64), nn.LeakyReLU(0.01),\n",
    "        nn.Conv1d(in_channels = out_channels, out_channels = out_channels, kernel_size = kernel_size[1], padding = kernel_size[1] // 2), nn.BatchNorm1d(64)\n",
    "        )\n",
    "        self.leakyReLU = nn.LeakyReLU(0.01)\n",
    "        \n",
    "        self.shortcut = nn.Sequential()\n",
    "        if stride != 1 or in_channels != out_channels:\n",
    "            self.shortcut = nn.Sequential(\n",
    "                nn.Conv1d(in_channels, out_channels, kernel_size = 1, stride = stride)\n",
    "            )\n",
    "        self.bn = nn.BatchNorm1d(out_channels)\n",
    "\n",
    "        \n",
    "    def forward(self, X):\n",
    "        output = self.model(X)\n",
    "        output += self.shortcut(X)\n",
    "        output = self.leakyReLU(output)\n",
    "\n",
    "        return output"
   ]
  },
  {
   "cell_type": "code",
   "execution_count": 31,
   "id": "2d19452b",
   "metadata": {},
   "outputs": [],
   "source": [
    "class CNN_entropy_ResNet(nn.Module):\n",
    "    def __init__(self,in_channels,  input_shape, n_outputs, block, kernel_size = [3,3,3,5,5]):\n",
    "        super().__init__()\n",
    "\n",
    "        self.conv1D_1 = nn.Conv1d(in_channels = in_channels, out_channels = 64, kernel_size = kernel_size[0], padding = 2)\n",
    "        self.leakyReLU_1 = nn.LeakyReLU(0.01)\n",
    "    \n",
    "        self.block1 = self.make_layer(block, 64, 64, kernel_size[1:3], 2)\n",
    "        self.block2 = self.make_layer(block, 64, 64, kernel_size[3:], 2)\n",
    "        \n",
    "        self.adAvgPooling = nn.AdaptiveAvgPool1d(2)\n",
    "        self.adAvgPooling2 = nn.AdaptiveAvgPool1d(2)\n",
    "        self.flatten = nn.Flatten()\n",
    "        self.flatten2 = nn.Flatten()\n",
    "        self.fc = nn.Linear(2 * 64 + 108, n_outputs)\n",
    "        self.bn = nn.BatchNorm1d(n_outputs) \n",
    "        self.drop1 = nn.Dropout(0.6)\n",
    "        self.leakyReLU_6 = nn.LeakyReLU(0.01)\n",
    "        self.fc2 = nn.Linear(128,128)\n",
    "        self.drop2 = nn.Dropout(0.2)\n",
    "        self.leakyReLU_7 = nn.LeakyReLU(0.01)\n",
    "        self.fc3 = nn.Linear(128,n_outputs)\n",
    "        self.softmax = nn.Softmax(dim=1)\n",
    "        self.maxpool = nn.MaxPool1d(2)\n",
    "        self.maxpool2 = nn.MaxPool1d(2)\n",
    "        self.maxpool3 = nn.MaxPool1d(2)\n",
    "        self.bn_1 = nn.BatchNorm1d(64)\n",
    "\n",
    "    def make_layer(self, block, in_channels, out_channels, kernel_size, stride = 1):               \n",
    "\n",
    "        return nn.Sequential(block(in_channels, out_channels, kernel_size, stride))\n",
    "\n",
    "    def forward(self, x):\n",
    "        X_arr = []\n",
    "        X_entr = []\n",
    "        for el in np.array(x):\n",
    "            X_arr.append(X_array[int(el)])\n",
    "            X_entr.append(X_entropy[int(el)])\n",
    "        \n",
    "        x = torch.Tensor(np.array(X_arr))\n",
    "        X_entr = torch.Tensor(np.array(X_entr))\n",
    "        del X_arr\n",
    "        output = self.conv1D_1(x)\n",
    "        output = self.bn_1(output)\n",
    "        output = self.leakyReLU_1(output)\n",
    "        #output = self.maxpool(output)\n",
    "\n",
    "        output = self.block1(output)\n",
    "        #output = self.adAvgPooling2(output)\n",
    "        #output = self.maxpool2(output)\n",
    "        output = self.block2(output)      \n",
    "\n",
    "        output = self.adAvgPooling(output)\n",
    "        output = self.flatten(output)\n",
    "        X_entr = self.flatten2(X_entr)\n",
    "        output = torch.cat((X_entr, output), axis = 1)\n",
    "        output = self.fc(output)\n",
    "        output = self.bn(output)\n",
    "        #output = self.drop1(output)\n",
    "        #output = self.leakyReLU_6(output)\n",
    "        #output = self.fc2(output)\n",
    "        #output = self.drop2(output)\n",
    "        #output = self.leakyReLU_7(output)\n",
    "        #output = self.fc3(output)\n",
    "        output = self.softmax(output)\n",
    "        return output"
   ]
  },
  {
   "cell_type": "code",
   "execution_count": 32,
   "id": "2f8d1fdd",
   "metadata": {},
   "outputs": [],
   "source": [
    "model = CNN_entropy_ResNet(12, 1000, 20, BasicBlock, [5,5,5,5,5])"
   ]
  },
  {
   "cell_type": "code",
   "execution_count": 33,
   "id": "da45c1e8",
   "metadata": {},
   "outputs": [],
   "source": [
    "optimizer = torch.optim.Adam(model.parameters(),lr = learning_rate)"
   ]
  },
  {
   "cell_type": "code",
   "execution_count": 34,
   "id": "e942bd64",
   "metadata": {},
   "outputs": [
    {
     "name": "stdout",
     "output_type": "stream",
     "text": [
      "Train Epoch: 1 [0/12069 (0%)]\tLoss: 2.996621\n",
      "Train Epoch: 1 [1280/12069 (11%)]\tLoss: 2.964686\n",
      "Train Epoch: 1 [2560/12069 (21%)]\tLoss: 2.903444\n",
      "Train Epoch: 1 [3840/12069 (32%)]\tLoss: 2.883008\n",
      "Train Epoch: 1 [5120/12069 (42%)]\tLoss: 2.860134\n",
      "Train Epoch: 1 [6400/12069 (53%)]\tLoss: 2.851246\n",
      "Train Epoch: 1 [7680/12069 (63%)]\tLoss: 2.849360\n",
      "Train Epoch: 1 [8960/12069 (74%)]\tLoss: 2.818808\n",
      "Train Epoch: 1 [10240/12069 (84%)]\tLoss: 2.842999\n",
      "Train Epoch: 1 [11520/12069 (95%)]\tLoss: 2.799016\n",
      "\n",
      "Test set: Average loss: 2.8089, Accuracy: 1261/2587 (48.74%)\n",
      "\n",
      "Trigger times 0\n",
      "Train Epoch: 2 [0/12069 (0%)]\tLoss: 2.774973\n",
      "Train Epoch: 2 [1280/12069 (11%)]\tLoss: 2.792642\n",
      "Train Epoch: 2 [2560/12069 (21%)]\tLoss: 2.790979\n",
      "Train Epoch: 2 [3840/12069 (32%)]\tLoss: 2.737852\n",
      "Train Epoch: 2 [5120/12069 (42%)]\tLoss: 2.774753\n",
      "Train Epoch: 2 [6400/12069 (53%)]\tLoss: 2.764746\n",
      "Train Epoch: 2 [7680/12069 (63%)]\tLoss: 2.773834\n",
      "Train Epoch: 2 [8960/12069 (74%)]\tLoss: 2.750973\n",
      "Train Epoch: 2 [10240/12069 (84%)]\tLoss: 2.741754\n",
      "Train Epoch: 2 [11520/12069 (95%)]\tLoss: 2.759362\n",
      "\n",
      "Test set: Average loss: 2.6800, Accuracy: 1587/2587 (61.35%)\n",
      "\n",
      "Trigger times 0\n",
      "Train Epoch: 3 [0/12069 (0%)]\tLoss: 2.723611\n",
      "Train Epoch: 3 [1280/12069 (11%)]\tLoss: 2.701515\n",
      "Train Epoch: 3 [2560/12069 (21%)]\tLoss: 2.693506\n",
      "Train Epoch: 3 [3840/12069 (32%)]\tLoss: 2.734725\n",
      "Train Epoch: 3 [5120/12069 (42%)]\tLoss: 2.699419\n",
      "Train Epoch: 3 [6400/12069 (53%)]\tLoss: 2.696468\n",
      "Train Epoch: 3 [7680/12069 (63%)]\tLoss: 2.669287\n",
      "Train Epoch: 3 [8960/12069 (74%)]\tLoss: 2.677829\n",
      "Train Epoch: 3 [10240/12069 (84%)]\tLoss: 2.681186\n",
      "Train Epoch: 3 [11520/12069 (95%)]\tLoss: 2.651273\n",
      "\n",
      "Test set: Average loss: 2.7258, Accuracy: 1420/2587 (54.89%)\n",
      "\n",
      "Trigger times 1\n",
      "Train Epoch: 4 [0/12069 (0%)]\tLoss: 2.645460\n",
      "Train Epoch: 4 [1280/12069 (11%)]\tLoss: 2.644693\n",
      "Train Epoch: 4 [2560/12069 (21%)]\tLoss: 2.668681\n",
      "Train Epoch: 4 [3840/12069 (32%)]\tLoss: 2.650964\n",
      "Train Epoch: 4 [5120/12069 (42%)]\tLoss: 2.682348\n",
      "Train Epoch: 4 [6400/12069 (53%)]\tLoss: 2.603331\n",
      "Train Epoch: 4 [7680/12069 (63%)]\tLoss: 2.619294\n",
      "Train Epoch: 4 [8960/12069 (74%)]\tLoss: 2.570134\n",
      "Train Epoch: 4 [10240/12069 (84%)]\tLoss: 2.590475\n",
      "Train Epoch: 4 [11520/12069 (95%)]\tLoss: 2.682010\n",
      "\n",
      "Test set: Average loss: 2.5958, Accuracy: 1673/2587 (64.67%)\n",
      "\n",
      "Trigger times 0\n",
      "Train Epoch: 5 [0/12069 (0%)]\tLoss: 2.601027\n",
      "Train Epoch: 5 [1280/12069 (11%)]\tLoss: 2.617995\n",
      "Train Epoch: 5 [2560/12069 (21%)]\tLoss: 2.626755\n",
      "Train Epoch: 5 [3840/12069 (32%)]\tLoss: 2.604603\n",
      "Train Epoch: 5 [5120/12069 (42%)]\tLoss: 2.617558\n",
      "Train Epoch: 5 [6400/12069 (53%)]\tLoss: 2.611373\n",
      "Train Epoch: 5 [7680/12069 (63%)]\tLoss: 2.582176\n",
      "Train Epoch: 5 [8960/12069 (74%)]\tLoss: 2.553468\n",
      "Train Epoch: 5 [10240/12069 (84%)]\tLoss: 2.567768\n",
      "Train Epoch: 5 [11520/12069 (95%)]\tLoss: 2.577531\n",
      "\n",
      "Test set: Average loss: 2.5619, Accuracy: 1715/2587 (66.29%)\n",
      "\n",
      "Trigger times 0\n",
      "Train Epoch: 6 [0/12069 (0%)]\tLoss: 2.586290\n",
      "Train Epoch: 6 [1280/12069 (11%)]\tLoss: 2.555339\n",
      "Train Epoch: 6 [2560/12069 (21%)]\tLoss: 2.583542\n",
      "Train Epoch: 6 [3840/12069 (32%)]\tLoss: 2.580508\n",
      "Train Epoch: 6 [5120/12069 (42%)]\tLoss: 2.538723\n",
      "Train Epoch: 6 [6400/12069 (53%)]\tLoss: 2.552364\n",
      "Train Epoch: 6 [7680/12069 (63%)]\tLoss: 2.608474\n",
      "Train Epoch: 6 [8960/12069 (74%)]\tLoss: 2.567686\n",
      "Train Epoch: 6 [10240/12069 (84%)]\tLoss: 2.515257\n",
      "Train Epoch: 6 [11520/12069 (95%)]\tLoss: 2.495757\n",
      "\n",
      "Test set: Average loss: 2.5869, Accuracy: 1721/2587 (66.52%)\n",
      "\n",
      "Trigger times 0\n",
      "Train Epoch: 7 [0/12069 (0%)]\tLoss: 2.516112\n",
      "Train Epoch: 7 [1280/12069 (11%)]\tLoss: 2.526817\n",
      "Train Epoch: 7 [2560/12069 (21%)]\tLoss: 2.546643\n",
      "Train Epoch: 7 [3840/12069 (32%)]\tLoss: 2.519903\n",
      "Train Epoch: 7 [5120/12069 (42%)]\tLoss: 2.518759\n",
      "Train Epoch: 7 [6400/12069 (53%)]\tLoss: 2.538195\n",
      "Train Epoch: 7 [7680/12069 (63%)]\tLoss: 2.484315\n",
      "Train Epoch: 7 [8960/12069 (74%)]\tLoss: 2.504164\n",
      "Train Epoch: 7 [10240/12069 (84%)]\tLoss: 2.512439\n",
      "Train Epoch: 7 [11520/12069 (95%)]\tLoss: 2.517918\n",
      "\n",
      "Test set: Average loss: 2.5774, Accuracy: 1700/2587 (65.71%)\n",
      "\n",
      "Trigger times 1\n",
      "Train Epoch: 8 [0/12069 (0%)]\tLoss: 2.455548\n",
      "Train Epoch: 8 [1280/12069 (11%)]\tLoss: 2.527131\n",
      "Train Epoch: 8 [2560/12069 (21%)]\tLoss: 2.532148\n",
      "Train Epoch: 8 [3840/12069 (32%)]\tLoss: 2.520284\n",
      "Train Epoch: 8 [5120/12069 (42%)]\tLoss: 2.508130\n",
      "Train Epoch: 8 [6400/12069 (53%)]\tLoss: 2.470828\n",
      "Train Epoch: 8 [7680/12069 (63%)]\tLoss: 2.459534\n",
      "Train Epoch: 8 [8960/12069 (74%)]\tLoss: 2.495778\n",
      "Train Epoch: 8 [10240/12069 (84%)]\tLoss: 2.470473\n",
      "Train Epoch: 8 [11520/12069 (95%)]\tLoss: 2.518622\n",
      "\n",
      "Test set: Average loss: 2.5066, Accuracy: 1763/2587 (68.15%)\n",
      "\n",
      "Trigger times 0\n",
      "Train Epoch: 9 [0/12069 (0%)]\tLoss: 2.504061\n",
      "Train Epoch: 9 [1280/12069 (11%)]\tLoss: 2.495218\n",
      "Train Epoch: 9 [2560/12069 (21%)]\tLoss: 2.520293\n",
      "Train Epoch: 9 [3840/12069 (32%)]\tLoss: 2.467018\n",
      "Train Epoch: 9 [5120/12069 (42%)]\tLoss: 2.517839\n",
      "Train Epoch: 9 [6400/12069 (53%)]\tLoss: 2.532459\n",
      "Train Epoch: 9 [7680/12069 (63%)]\tLoss: 2.444449\n",
      "Train Epoch: 9 [8960/12069 (74%)]\tLoss: 2.448607\n",
      "Train Epoch: 9 [10240/12069 (84%)]\tLoss: 2.507645\n",
      "Train Epoch: 9 [11520/12069 (95%)]\tLoss: 2.435147\n",
      "\n",
      "Test set: Average loss: 2.4998, Accuracy: 1783/2587 (68.92%)\n",
      "\n",
      "Trigger times 0\n",
      "Train Epoch: 10 [0/12069 (0%)]\tLoss: 2.458843\n",
      "Train Epoch: 10 [1280/12069 (11%)]\tLoss: 2.472302\n",
      "Train Epoch: 10 [2560/12069 (21%)]\tLoss: 2.510850\n",
      "Train Epoch: 10 [3840/12069 (32%)]\tLoss: 2.489226\n",
      "Train Epoch: 10 [5120/12069 (42%)]\tLoss: 2.463154\n",
      "Train Epoch: 10 [6400/12069 (53%)]\tLoss: 2.410837\n",
      "Train Epoch: 10 [7680/12069 (63%)]\tLoss: 2.454749\n",
      "Train Epoch: 10 [8960/12069 (74%)]\tLoss: 2.458114\n",
      "Train Epoch: 10 [10240/12069 (84%)]\tLoss: 2.425472\n",
      "Train Epoch: 10 [11520/12069 (95%)]\tLoss: 2.464078\n",
      "\n",
      "Test set: Average loss: 2.5359, Accuracy: 1785/2587 (69.00%)\n",
      "\n",
      "Trigger times 0\n",
      "Train Epoch: 11 [0/12069 (0%)]\tLoss: 2.407913\n",
      "Train Epoch: 11 [1280/12069 (11%)]\tLoss: 2.394632\n",
      "Train Epoch: 11 [2560/12069 (21%)]\tLoss: 2.431565\n",
      "Train Epoch: 11 [3840/12069 (32%)]\tLoss: 2.448958\n",
      "Train Epoch: 11 [5120/12069 (42%)]\tLoss: 2.438474\n",
      "Train Epoch: 11 [6400/12069 (53%)]\tLoss: 2.455397\n",
      "Train Epoch: 11 [7680/12069 (63%)]\tLoss: 2.457942\n",
      "Train Epoch: 11 [8960/12069 (74%)]\tLoss: 2.398468\n",
      "Train Epoch: 11 [10240/12069 (84%)]\tLoss: 2.445943\n",
      "Train Epoch: 11 [11520/12069 (95%)]\tLoss: 2.449115\n",
      "\n",
      "Test set: Average loss: 2.4464, Accuracy: 1850/2587 (71.51%)\n",
      "\n",
      "Trigger times 0\n",
      "Train Epoch: 12 [0/12069 (0%)]\tLoss: 2.427725\n",
      "Train Epoch: 12 [1280/12069 (11%)]\tLoss: 2.407823\n",
      "Train Epoch: 12 [2560/12069 (21%)]\tLoss: 2.446512\n",
      "Train Epoch: 12 [3840/12069 (32%)]\tLoss: 2.465182\n",
      "Train Epoch: 12 [5120/12069 (42%)]\tLoss: 2.440420\n",
      "Train Epoch: 12 [6400/12069 (53%)]\tLoss: 2.390346\n",
      "Train Epoch: 12 [7680/12069 (63%)]\tLoss: 2.387698\n",
      "Train Epoch: 12 [8960/12069 (74%)]\tLoss: 2.422439\n",
      "Train Epoch: 12 [10240/12069 (84%)]\tLoss: 2.412620\n",
      "Train Epoch: 12 [11520/12069 (95%)]\tLoss: 2.415073\n",
      "\n",
      "Test set: Average loss: 2.4537, Accuracy: 1846/2587 (71.36%)\n",
      "\n",
      "Trigger times 1\n",
      "Train Epoch: 13 [0/12069 (0%)]\tLoss: 2.416251\n",
      "Train Epoch: 13 [1280/12069 (11%)]\tLoss: 2.367520\n",
      "Train Epoch: 13 [2560/12069 (21%)]\tLoss: 2.416635\n",
      "Train Epoch: 13 [3840/12069 (32%)]\tLoss: 2.383921\n",
      "Train Epoch: 13 [5120/12069 (42%)]\tLoss: 2.426547\n",
      "Train Epoch: 13 [6400/12069 (53%)]\tLoss: 2.396050\n",
      "Train Epoch: 13 [7680/12069 (63%)]\tLoss: 2.426430\n",
      "Train Epoch: 13 [8960/12069 (74%)]\tLoss: 2.406215\n",
      "Train Epoch: 13 [10240/12069 (84%)]\tLoss: 2.385065\n",
      "Train Epoch: 13 [11520/12069 (95%)]\tLoss: 2.461801\n",
      "\n",
      "Test set: Average loss: 2.4411, Accuracy: 1854/2587 (71.67%)\n",
      "\n",
      "Trigger times 0\n",
      "Train Epoch: 14 [0/12069 (0%)]\tLoss: 2.395840\n",
      "Train Epoch: 14 [1280/12069 (11%)]\tLoss: 2.433117\n",
      "Train Epoch: 14 [2560/12069 (21%)]\tLoss: 2.435772\n",
      "Train Epoch: 14 [3840/12069 (32%)]\tLoss: 2.385172\n",
      "Train Epoch: 14 [5120/12069 (42%)]\tLoss: 2.428053\n",
      "Train Epoch: 14 [6400/12069 (53%)]\tLoss: 2.396143\n",
      "Train Epoch: 14 [7680/12069 (63%)]\tLoss: 2.454693\n",
      "Train Epoch: 14 [8960/12069 (74%)]\tLoss: 2.414935\n",
      "Train Epoch: 14 [10240/12069 (84%)]\tLoss: 2.411431\n",
      "Train Epoch: 14 [11520/12069 (95%)]\tLoss: 2.411887\n",
      "\n",
      "Test set: Average loss: 2.4405, Accuracy: 1857/2587 (71.78%)\n",
      "\n",
      "Trigger times 0\n",
      "Train Epoch: 15 [0/12069 (0%)]\tLoss: 2.403697\n",
      "Train Epoch: 15 [1280/12069 (11%)]\tLoss: 2.400940\n",
      "Train Epoch: 15 [2560/12069 (21%)]\tLoss: 2.427843\n",
      "Train Epoch: 15 [3840/12069 (32%)]\tLoss: 2.407697\n",
      "Train Epoch: 15 [5120/12069 (42%)]\tLoss: 2.423185\n"
     ]
    },
    {
     "name": "stdout",
     "output_type": "stream",
     "text": [
      "Train Epoch: 15 [6400/12069 (53%)]\tLoss: 2.424915\n",
      "Train Epoch: 15 [7680/12069 (63%)]\tLoss: 2.415610\n",
      "Train Epoch: 15 [8960/12069 (74%)]\tLoss: 2.362379\n",
      "Train Epoch: 15 [10240/12069 (84%)]\tLoss: 2.472028\n",
      "Train Epoch: 15 [11520/12069 (95%)]\tLoss: 2.480434\n",
      "\n",
      "Test set: Average loss: 2.4354, Accuracy: 1859/2587 (71.86%)\n",
      "\n",
      "Trigger times 0\n",
      "Train Epoch: 16 [0/12069 (0%)]\tLoss: 2.375502\n",
      "Train Epoch: 16 [1280/12069 (11%)]\tLoss: 2.413253\n",
      "Train Epoch: 16 [2560/12069 (21%)]\tLoss: 2.402585\n",
      "Train Epoch: 16 [3840/12069 (32%)]\tLoss: 2.391195\n",
      "Train Epoch: 16 [5120/12069 (42%)]\tLoss: 2.415134\n",
      "Train Epoch: 16 [6400/12069 (53%)]\tLoss: 2.425647\n",
      "Train Epoch: 16 [7680/12069 (63%)]\tLoss: 2.319289\n",
      "Train Epoch: 16 [8960/12069 (74%)]\tLoss: 2.374861\n",
      "Train Epoch: 16 [10240/12069 (84%)]\tLoss: 2.436847\n",
      "Train Epoch: 16 [11520/12069 (95%)]\tLoss: 2.389140\n",
      "\n",
      "Test set: Average loss: 2.4362, Accuracy: 1853/2587 (71.63%)\n",
      "\n",
      "Trigger times 1\n",
      "Train Epoch: 17 [0/12069 (0%)]\tLoss: 2.416513\n",
      "Train Epoch: 17 [1280/12069 (11%)]\tLoss: 2.361508\n",
      "Train Epoch: 17 [2560/12069 (21%)]\tLoss: 2.409830\n",
      "Train Epoch: 17 [3840/12069 (32%)]\tLoss: 2.394876\n",
      "Train Epoch: 17 [5120/12069 (42%)]\tLoss: 2.328804\n",
      "Train Epoch: 17 [6400/12069 (53%)]\tLoss: 2.431818\n",
      "Train Epoch: 17 [7680/12069 (63%)]\tLoss: 2.375192\n",
      "Train Epoch: 17 [8960/12069 (74%)]\tLoss: 2.390247\n",
      "Train Epoch: 17 [10240/12069 (84%)]\tLoss: 2.437882\n",
      "Train Epoch: 17 [11520/12069 (95%)]\tLoss: 2.409028\n",
      "\n",
      "Test set: Average loss: 2.4347, Accuracy: 1857/2587 (71.78%)\n",
      "\n",
      "Trigger times 0\n",
      "Train Epoch: 18 [0/12069 (0%)]\tLoss: 2.398541\n",
      "Train Epoch: 18 [1280/12069 (11%)]\tLoss: 2.361316\n",
      "Train Epoch: 18 [2560/12069 (21%)]\tLoss: 2.374542\n",
      "Train Epoch: 18 [3840/12069 (32%)]\tLoss: 2.423819\n",
      "Train Epoch: 18 [5120/12069 (42%)]\tLoss: 2.388336\n",
      "Train Epoch: 18 [6400/12069 (53%)]\tLoss: 2.364379\n",
      "Train Epoch: 18 [7680/12069 (63%)]\tLoss: 2.381144\n",
      "Train Epoch: 18 [8960/12069 (74%)]\tLoss: 2.421060\n",
      "Train Epoch: 18 [10240/12069 (84%)]\tLoss: 2.367723\n",
      "Train Epoch: 18 [11520/12069 (95%)]\tLoss: 2.416078\n",
      "\n",
      "Test set: Average loss: 2.4376, Accuracy: 1859/2587 (71.86%)\n",
      "\n",
      "Trigger times 0\n",
      "Train Epoch: 19 [0/12069 (0%)]\tLoss: 2.367261\n",
      "Train Epoch: 19 [1280/12069 (11%)]\tLoss: 2.396249\n",
      "Train Epoch: 19 [2560/12069 (21%)]\tLoss: 2.398230\n",
      "Train Epoch: 19 [3840/12069 (32%)]\tLoss: 2.379183\n",
      "Train Epoch: 19 [5120/12069 (42%)]\tLoss: 2.422371\n",
      "Train Epoch: 19 [6400/12069 (53%)]\tLoss: 2.394217\n",
      "Train Epoch: 19 [7680/12069 (63%)]\tLoss: 2.388915\n",
      "Train Epoch: 19 [8960/12069 (74%)]\tLoss: 2.396513\n",
      "Train Epoch: 19 [10240/12069 (84%)]\tLoss: 2.363643\n",
      "Train Epoch: 19 [11520/12069 (95%)]\tLoss: 2.363800\n",
      "\n",
      "Test set: Average loss: 2.4320, Accuracy: 1852/2587 (71.59%)\n",
      "\n",
      "Trigger times 1\n",
      "Train Epoch: 20 [0/12069 (0%)]\tLoss: 2.362988\n",
      "Train Epoch: 20 [1280/12069 (11%)]\tLoss: 2.409999\n",
      "Train Epoch: 20 [2560/12069 (21%)]\tLoss: 2.366646\n",
      "Train Epoch: 20 [3840/12069 (32%)]\tLoss: 2.332745\n",
      "Train Epoch: 20 [5120/12069 (42%)]\tLoss: 2.395772\n",
      "Train Epoch: 20 [6400/12069 (53%)]\tLoss: 2.374717\n",
      "Train Epoch: 20 [7680/12069 (63%)]\tLoss: 2.345361\n",
      "Train Epoch: 20 [8960/12069 (74%)]\tLoss: 2.399236\n",
      "Train Epoch: 20 [10240/12069 (84%)]\tLoss: 2.353371\n",
      "Train Epoch: 20 [11520/12069 (95%)]\tLoss: 2.339591\n",
      "\n",
      "Test set: Average loss: 2.4358, Accuracy: 1849/2587 (71.47%)\n",
      "\n",
      "Trigger times 2\n",
      "Train Epoch: 21 [0/12069 (0%)]\tLoss: 2.382837\n",
      "Train Epoch: 21 [1280/12069 (11%)]\tLoss: 2.376019\n",
      "Train Epoch: 21 [2560/12069 (21%)]\tLoss: 2.421992\n",
      "Train Epoch: 21 [3840/12069 (32%)]\tLoss: 2.391858\n",
      "Train Epoch: 21 [5120/12069 (42%)]\tLoss: 2.433918\n",
      "Train Epoch: 21 [6400/12069 (53%)]\tLoss: 2.371681\n",
      "Train Epoch: 21 [7680/12069 (63%)]\tLoss: 2.411422\n",
      "Train Epoch: 21 [8960/12069 (74%)]\tLoss: 2.375154\n",
      "Train Epoch: 21 [10240/12069 (84%)]\tLoss: 2.410877\n",
      "Train Epoch: 21 [11520/12069 (95%)]\tLoss: 2.354507\n",
      "\n",
      "Test set: Average loss: 2.4366, Accuracy: 1853/2587 (71.63%)\n",
      "\n",
      "Trigger times 0\n",
      "Train Epoch: 22 [0/12069 (0%)]\tLoss: 2.322068\n",
      "Train Epoch: 22 [1280/12069 (11%)]\tLoss: 2.352002\n",
      "Train Epoch: 22 [2560/12069 (21%)]\tLoss: 2.399666\n",
      "Train Epoch: 22 [3840/12069 (32%)]\tLoss: 2.375664\n",
      "Train Epoch: 22 [5120/12069 (42%)]\tLoss: 2.395150\n",
      "Train Epoch: 22 [6400/12069 (53%)]\tLoss: 2.345602\n",
      "Train Epoch: 22 [7680/12069 (63%)]\tLoss: 2.411656\n",
      "Train Epoch: 22 [8960/12069 (74%)]\tLoss: 2.379593\n",
      "Train Epoch: 22 [10240/12069 (84%)]\tLoss: 2.418092\n",
      "Train Epoch: 22 [11520/12069 (95%)]\tLoss: 2.345131\n",
      "\n",
      "Test set: Average loss: 2.4294, Accuracy: 1855/2587 (71.70%)\n",
      "\n",
      "Trigger times 0\n",
      "Train Epoch: 23 [0/12069 (0%)]\tLoss: 2.361258\n",
      "Train Epoch: 23 [1280/12069 (11%)]\tLoss: 2.400027\n",
      "Train Epoch: 23 [2560/12069 (21%)]\tLoss: 2.364815\n",
      "Train Epoch: 23 [3840/12069 (32%)]\tLoss: 2.410577\n",
      "Train Epoch: 23 [5120/12069 (42%)]\tLoss: 2.369267\n",
      "Train Epoch: 23 [6400/12069 (53%)]\tLoss: 2.428172\n",
      "Train Epoch: 23 [7680/12069 (63%)]\tLoss: 2.365573\n",
      "Train Epoch: 23 [8960/12069 (74%)]\tLoss: 2.398921\n",
      "Train Epoch: 23 [10240/12069 (84%)]\tLoss: 2.385322\n",
      "Train Epoch: 23 [11520/12069 (95%)]\tLoss: 2.365735\n",
      "\n",
      "Test set: Average loss: 2.4302, Accuracy: 1856/2587 (71.74%)\n",
      "\n",
      "Trigger times 0\n",
      "Train Epoch: 24 [0/12069 (0%)]\tLoss: 2.385273\n",
      "Train Epoch: 24 [1280/12069 (11%)]\tLoss: 2.367224\n",
      "Train Epoch: 24 [2560/12069 (21%)]\tLoss: 2.389215\n",
      "Train Epoch: 24 [3840/12069 (32%)]\tLoss: 2.357351\n",
      "Train Epoch: 24 [5120/12069 (42%)]\tLoss: 2.406013\n",
      "Train Epoch: 24 [6400/12069 (53%)]\tLoss: 2.337831\n",
      "Train Epoch: 24 [7680/12069 (63%)]\tLoss: 2.377872\n",
      "Train Epoch: 24 [8960/12069 (74%)]\tLoss: 2.415155\n",
      "Train Epoch: 24 [10240/12069 (84%)]\tLoss: 2.367380\n",
      "Train Epoch: 24 [11520/12069 (95%)]\tLoss: 2.368626\n",
      "\n",
      "Test set: Average loss: 2.4384, Accuracy: 1849/2587 (71.47%)\n",
      "\n",
      "Trigger times 1\n",
      "Train Epoch: 25 [0/12069 (0%)]\tLoss: 2.338147\n",
      "Train Epoch: 25 [1280/12069 (11%)]\tLoss: 2.390298\n",
      "Train Epoch: 25 [2560/12069 (21%)]\tLoss: 2.345351\n",
      "Train Epoch: 25 [3840/12069 (32%)]\tLoss: 2.461265\n",
      "Train Epoch: 25 [5120/12069 (42%)]\tLoss: 2.381696\n",
      "Train Epoch: 25 [6400/12069 (53%)]\tLoss: 2.343430\n",
      "Train Epoch: 25 [7680/12069 (63%)]\tLoss: 2.377856\n",
      "Train Epoch: 25 [8960/12069 (74%)]\tLoss: 2.387274\n",
      "Train Epoch: 25 [10240/12069 (84%)]\tLoss: 2.406757\n",
      "Train Epoch: 25 [11520/12069 (95%)]\tLoss: 2.365178\n",
      "\n",
      "Test set: Average loss: 2.4320, Accuracy: 1853/2587 (71.63%)\n",
      "\n",
      "Trigger times 0\n",
      "Train Epoch: 26 [0/12069 (0%)]\tLoss: 2.368366\n",
      "Train Epoch: 26 [1280/12069 (11%)]\tLoss: 2.363289\n",
      "Train Epoch: 26 [2560/12069 (21%)]\tLoss: 2.429193\n",
      "Train Epoch: 26 [3840/12069 (32%)]\tLoss: 2.375930\n",
      "Train Epoch: 26 [5120/12069 (42%)]\tLoss: 2.400385\n",
      "Train Epoch: 26 [6400/12069 (53%)]\tLoss: 2.360354\n",
      "Train Epoch: 26 [7680/12069 (63%)]\tLoss: 2.383957\n",
      "Train Epoch: 26 [8960/12069 (74%)]\tLoss: 2.393821\n",
      "Train Epoch: 26 [10240/12069 (84%)]\tLoss: 2.402094\n",
      "Train Epoch: 26 [11520/12069 (95%)]\tLoss: 2.390032\n",
      "\n",
      "Test set: Average loss: 2.4247, Accuracy: 1858/2587 (71.82%)\n",
      "\n",
      "Trigger times 0\n",
      "Train Epoch: 27 [0/12069 (0%)]\tLoss: 2.384290\n",
      "Train Epoch: 27 [1280/12069 (11%)]\tLoss: 2.383103\n",
      "Train Epoch: 27 [2560/12069 (21%)]\tLoss: 2.402073\n",
      "Train Epoch: 27 [3840/12069 (32%)]\tLoss: 2.394240\n",
      "Train Epoch: 27 [5120/12069 (42%)]\tLoss: 2.370206\n",
      "Train Epoch: 27 [6400/12069 (53%)]\tLoss: 2.369982\n",
      "Train Epoch: 27 [7680/12069 (63%)]\tLoss: 2.375239\n",
      "Train Epoch: 27 [8960/12069 (74%)]\tLoss: 2.372869\n",
      "Train Epoch: 27 [10240/12069 (84%)]\tLoss: 2.399095\n",
      "Train Epoch: 27 [11520/12069 (95%)]\tLoss: 2.358998\n",
      "\n",
      "Test set: Average loss: 2.4194, Accuracy: 1859/2587 (71.86%)\n",
      "\n",
      "Trigger times 0\n",
      "Train Epoch: 28 [0/12069 (0%)]\tLoss: 2.340736\n",
      "Train Epoch: 28 [1280/12069 (11%)]\tLoss: 2.334209\n",
      "Train Epoch: 28 [2560/12069 (21%)]\tLoss: 2.361961\n",
      "Train Epoch: 28 [3840/12069 (32%)]\tLoss: 2.352935\n",
      "Train Epoch: 28 [5120/12069 (42%)]\tLoss: 2.435286\n",
      "Train Epoch: 28 [6400/12069 (53%)]\tLoss: 2.340297\n",
      "Train Epoch: 28 [7680/12069 (63%)]\tLoss: 2.397267\n",
      "Train Epoch: 28 [8960/12069 (74%)]\tLoss: 2.366907\n",
      "Train Epoch: 28 [10240/12069 (84%)]\tLoss: 2.356399\n",
      "Train Epoch: 28 [11520/12069 (95%)]\tLoss: 2.336248\n",
      "\n",
      "Test set: Average loss: 2.4296, Accuracy: 1862/2587 (71.98%)\n",
      "\n",
      "Trigger times 0\n",
      "Train Epoch: 29 [0/12069 (0%)]\tLoss: 2.397411\n",
      "Train Epoch: 29 [1280/12069 (11%)]\tLoss: 2.351243\n",
      "Train Epoch: 29 [2560/12069 (21%)]\tLoss: 2.375559\n",
      "Train Epoch: 29 [3840/12069 (32%)]\tLoss: 2.404925\n",
      "Train Epoch: 29 [5120/12069 (42%)]\tLoss: 2.386603\n",
      "Train Epoch: 29 [6400/12069 (53%)]\tLoss: 2.359040\n",
      "Train Epoch: 29 [7680/12069 (63%)]\tLoss: 2.419191\n",
      "Train Epoch: 29 [8960/12069 (74%)]\tLoss: 2.392865\n"
     ]
    },
    {
     "name": "stdout",
     "output_type": "stream",
     "text": [
      "Train Epoch: 29 [10240/12069 (84%)]\tLoss: 2.395461\n",
      "Train Epoch: 29 [11520/12069 (95%)]\tLoss: 2.357523\n",
      "\n",
      "Test set: Average loss: 2.4334, Accuracy: 1861/2587 (71.94%)\n",
      "\n",
      "Trigger times 1\n",
      "Train Epoch: 30 [0/12069 (0%)]\tLoss: 2.317246\n",
      "Train Epoch: 30 [1280/12069 (11%)]\tLoss: 2.375642\n",
      "Train Epoch: 30 [2560/12069 (21%)]\tLoss: 2.395439\n",
      "Train Epoch: 30 [3840/12069 (32%)]\tLoss: 2.403312\n",
      "Train Epoch: 30 [5120/12069 (42%)]\tLoss: 2.303926\n",
      "Train Epoch: 30 [6400/12069 (53%)]\tLoss: 2.295837\n",
      "Train Epoch: 30 [7680/12069 (63%)]\tLoss: 2.322775\n",
      "Train Epoch: 30 [8960/12069 (74%)]\tLoss: 2.401601\n",
      "Train Epoch: 30 [10240/12069 (84%)]\tLoss: 2.345631\n",
      "Train Epoch: 30 [11520/12069 (95%)]\tLoss: 2.321486\n",
      "\n",
      "Test set: Average loss: 2.4185, Accuracy: 1868/2587 (72.21%)\n",
      "\n",
      "Trigger times 0\n"
     ]
    }
   ],
   "source": [
    "loss_train, loss_valid, accuracy = training(30, model, optimizer, loss_function, learning_rate_2, train_loader, valid_loader)"
   ]
  },
  {
   "cell_type": "code",
   "execution_count": 35,
   "id": "e7915316",
   "metadata": {},
   "outputs": [
    {
     "name": "stdout",
     "output_type": "stream",
     "text": [
      "[[ 43   0   0   0   0   0   0   1   0   0   0   3   0   0   0   1   0   0\n",
      "    5   0]\n",
      " [  0   0   0   0   0  12   2   4  14   0   9   4   0   0   2   0   0   1\n",
      "    1   0]\n",
      " [  0   0   0   0   0   0   1   4   0   0   0   0   0   0   0   0   0   0\n",
      "    0   0]\n",
      " [  0   0   0   0   0   0   0   4   0   0   0   1   0   0   0   3   0   0\n",
      "    0   0]\n",
      " [  0   0   0   0   0   3  16   1   2   0  13   2   0   0   1   0   0   0\n",
      "    1   0]\n",
      " [  0   0   0   0   0  33   0   7   5   0  11   4   0   0   4   0   0   2\n",
      "    3   0]\n",
      " [  0   0   0   0   0   2 934   7   5   0  66   4   0   0   8   0   0   0\n",
      "   22   0]\n",
      " [  8   0   0   0   0   9   9 190   9   0   4  16   0   0   6   2   0   0\n",
      "    7   0]\n",
      " [  0   0   0   0   0   6   5   7  60   0  14   4   0   0   3   1   0   0\n",
      "    1   0]\n",
      " [  0   0   0   0   0   7   1   2   5   0   6   3   0   0   0   0   0   1\n",
      "    1   0]\n",
      " [  0   0   0   0   0  13  41   4   3   0 195   8   0   0   9   0   0   0\n",
      "    4   0]\n",
      " [  4   0   0   0   0   4   9  13   1   0  14 130   0   0   9   0   0   0\n",
      "    5   0]\n",
      " [  1   0   0   0   0   0   0   0   0   0   0   0   0   0   1   0   0   0\n",
      "    1   0]\n",
      " [  0   0   0   0   0   0  21   6   1   0   8   6   0   0   5   0   0   0\n",
      "    3   0]\n",
      " [  0   0   0   0   0   3   8   5   2   0   4   7   0   0 104   1   0   0\n",
      "    8   0]\n",
      " [  1   0   0   0   0   1   0   2   0   0   0   1   0   0   0  68   0   0\n",
      "    0   1]\n",
      " [  0   0   0   0   0   0   5   1   0   0   1   0   0   0   1   0   0   0\n",
      "    0   0]\n",
      " [  0   0   0   0   0   5  10   0   4   0  33   1   0   0   1   0   0   2\n",
      "    1   0]\n",
      " [ 10   0   0   0   0   0  20   6   0   0   8   5   0   0   4   0   0   0\n",
      "   65   0]\n",
      " [  0   0   0   0   0   0   0   0   0   0   1   0   0   0   0   1   0   0\n",
      "    2   6]]\n",
      "Accuracy = 0.7076566125290024\n"
     ]
    },
    {
     "data": {
      "text/plain": [
       "0.7076566125290024"
      ]
     },
     "execution_count": 35,
     "metadata": {},
     "output_type": "execute_result"
    }
   ],
   "source": [
    "print_confusion_matrix(model, X_test_idx, y_test)"
   ]
  },
  {
   "cell_type": "code",
   "execution_count": 36,
   "id": "cfad5f04",
   "metadata": {},
   "outputs": [
    {
     "data": {
      "image/png": "[encoded data removed]",
      "text/plain": [
       "<Figure size 432x288 with 1 Axes>"
      ]
     },
     "metadata": {
      "needs_background": "light"
     },
     "output_type": "display_data"
    }
   ],
   "source": [
    "plt.plot(loss_train, label = 'Train Loss')\n",
    "plt.plot(loss_valid, label = 'Validation Loss')\n",
    "plt.legend()\n",
    "plt.show()"
   ]
  },
  {
   "cell_type": "code",
   "execution_count": 37,
   "id": "f2ac5d29",
   "metadata": {},
   "outputs": [
    {
     "data": {
      "image/png": "[encoded data removed]",
      "text/plain": [
       "<Figure size 432x288 with 1 Axes>"
      ]
     },
     "metadata": {
      "needs_background": "light"
     },
     "output_type": "display_data"
    }
   ],
   "source": [
    "plt.plot(accuracy, label = 'accuracy')\n",
    "plt.legend()\n",
    "plt.show()"
   ]
  },
  {
   "cell_type": "code",
   "execution_count": 38,
   "id": "00c3b059",
   "metadata": {},
   "outputs": [
    {
     "name": "stdout",
     "output_type": "stream",
     "text": [
      "Best accuracy:  0.7220719  Epoch:  30\n"
     ]
    }
   ],
   "source": [
    "print(\"Best accuracy: \",np.max(accuracy),\" Epoch: \", np.argmax(accuracy)+1)"
   ]
  },
  {
   "cell_type": "code",
   "execution_count": 39,
   "id": "68c019e0",
   "metadata": {},
   "outputs": [],
   "source": [
    "model.eval()\n",
    "y_pred = model(torch.Tensor(X_test_idx)).data.numpy().argmax(axis = 1)"
   ]
  },
  {
   "cell_type": "code",
   "execution_count": 40,
   "id": "152fd1a0",
   "metadata": {},
   "outputs": [
    {
     "name": "stdout",
     "output_type": "stream",
     "text": [
      "              precision    recall  f1-score   support\n",
      "\n",
      "           0       0.64      0.81      0.72        53\n",
      "           1       0.00      0.00      0.00        49\n",
      "           2       0.00      0.00      0.00         5\n",
      "           3       0.00      0.00      0.00         8\n",
      "           4       0.00      0.00      0.00        39\n",
      "           5       0.34      0.48      0.40        69\n",
      "           6       0.86      0.89      0.88      1048\n",
      "           7       0.72      0.73      0.73       260\n",
      "           8       0.54      0.59      0.57       101\n",
      "           9       0.00      0.00      0.00        26\n",
      "          10       0.50      0.70      0.59       277\n",
      "          11       0.65      0.69      0.67       189\n",
      "          12       0.00      0.00      0.00         3\n",
      "          13       0.00      0.00      0.00        50\n",
      "          14       0.66      0.73      0.69       142\n",
      "          15       0.88      0.92      0.90        74\n",
      "          16       0.00      0.00      0.00         8\n",
      "          17       0.33      0.04      0.06        57\n",
      "          18       0.50      0.55      0.52       118\n",
      "          19       0.86      0.60      0.71        10\n",
      "\n",
      "    accuracy                           0.71      2586\n",
      "   macro avg       0.37      0.39      0.37      2586\n",
      "weighted avg       0.66      0.71      0.68      2586\n",
      "\n"
     ]
    },
    {
     "name": "stderr",
     "output_type": "stream",
     "text": [
      "D:\\Program Files\\Anaconda\\lib\\site-packages\\sklearn\\metrics\\_classification.py:1344: UndefinedMetricWarning: Precision and F-score are ill-defined and being set to 0.0 in labels with no predicted samples. Use `zero_division` parameter to control this behavior.\n",
      "  _warn_prf(average, modifier, msg_start, len(result))\n",
      "D:\\Program Files\\Anaconda\\lib\\site-packages\\sklearn\\metrics\\_classification.py:1344: UndefinedMetricWarning: Precision and F-score are ill-defined and being set to 0.0 in labels with no predicted samples. Use `zero_division` parameter to control this behavior.\n",
      "  _warn_prf(average, modifier, msg_start, len(result))\n",
      "D:\\Program Files\\Anaconda\\lib\\site-packages\\sklearn\\metrics\\_classification.py:1344: UndefinedMetricWarning: Precision and F-score are ill-defined and being set to 0.0 in labels with no predicted samples. Use `zero_division` parameter to control this behavior.\n",
      "  _warn_prf(average, modifier, msg_start, len(result))\n"
     ]
    }
   ],
   "source": [
    "print(classification_report(y_test, y_pred))"
   ]
  },
  {
   "cell_type": "code",
   "execution_count": 41,
   "id": "a91c030b",
   "metadata": {},
   "outputs": [
    {
     "data": {
      "image/png": "[encoded data removed]",
      "text/plain": [
       "<Figure size 1080x1080 with 2 Axes>"
      ]
     },
     "metadata": {},
     "output_type": "display_data"
    }
   ],
   "source": [
    "cm = confusion_matrix(y_test,y_pred)\n",
    "sns.set(rc = {'figure.figsize':(15,15)})\n",
    "f = sns.heatmap(cm, annot=True, fmt='d', cmap='coolwarm', center = 0)"
   ]
  },
  {
   "cell_type": "code",
   "execution_count": null,
   "id": "4c669b14",
   "metadata": {},
   "outputs": [],
   "source": []
  },
  {
   "cell_type": "code",
   "execution_count": null,
   "id": "73df9ced",
   "metadata": {},
   "outputs": [],
   "source": []
  }
 ],
 "metadata": {
  "kernelspec": {
   "display_name": "Python 3 (ipykernel)",
   "language": "python",
   "name": "python3"
  },
  "language_info": {
   "codemirror_mode": {
    "name": "ipython",
    "version": 3
   },
   "file_extension": ".py",
   "mimetype": "text/x-python",
   "name": "python",
   "nbconvert_exporter": "python",
   "pygments_lexer": "ipython3",
   "version": "3.9.7"
  }
 },
 "nbformat": 4,
 "nbformat_minor": 5
}
