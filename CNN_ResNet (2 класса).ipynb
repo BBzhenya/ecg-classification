{
 "cells": [
  {
   "cell_type": "code",
   "execution_count": 1,
   "id": "07e0ce23",
   "metadata": {},
   "outputs": [],
   "source": [
    "import torch \n",
    "import torch.nn as nn \n",
    "import numpy as np\n",
    "import matplotlib.pyplot as plt\n",
    "import pandas as pd\n",
    "%matplotlib inline"
   ]
  },
  {
   "cell_type": "code",
   "execution_count": 2,
   "id": "0ebcb1bb",
   "metadata": {},
   "outputs": [],
   "source": [
    "import seaborn as sns"
   ]
  },
  {
   "cell_type": "code",
   "execution_count": 3,
   "id": "d9bd41af",
   "metadata": {},
   "outputs": [],
   "source": [
    "from torch.utils.data import TensorDataset, DataLoader"
   ]
  },
  {
   "cell_type": "code",
   "execution_count": 4,
   "id": "2b035aad",
   "metadata": {},
   "outputs": [],
   "source": [
    "from sklearn.metrics import classification_report"
   ]
  },
  {
   "cell_type": "code",
   "execution_count": 5,
   "id": "3d648bdf",
   "metadata": {},
   "outputs": [],
   "source": [
    "path_to_train='Train/'\n",
    "path_to_valid = 'Valid/'\n",
    "path_to_test='Test/'"
   ]
  },
  {
   "cell_type": "code",
   "execution_count": 6,
   "id": "3e5fa5a4",
   "metadata": {},
   "outputs": [],
   "source": [
    "X_train=np.load(path_to_train+\"X_train.npy\")\n",
    "X_valid=np.load(path_to_valid+\"X_valid.npy\")"
   ]
  },
  {
   "cell_type": "code",
   "execution_count": 7,
   "id": "85e991fb",
   "metadata": {},
   "outputs": [],
   "source": [
    "y_train_superclass=np.load(path_to_train+\"y_train_binary.npy\")\n",
    "y_valid_superclass=np.load(path_to_valid+\"y_valid_binary.npy\")"
   ]
  },
  {
   "cell_type": "code",
   "execution_count": 8,
   "id": "3cc6d42a",
   "metadata": {},
   "outputs": [],
   "source": [
    "batch_size = 128"
   ]
  },
  {
   "cell_type": "code",
   "execution_count": 9,
   "id": "c514e2fb",
   "metadata": {},
   "outputs": [],
   "source": [
    "X_train_tensor = torch.Tensor(X_train)\n",
    "y_train_tensor = torch.LongTensor(y_train_superclass)\n",
    "\n",
    "train_dataset = TensorDataset(X_train_tensor, y_train_tensor)\n",
    "train_loader = DataLoader(train_dataset, batch_size = batch_size, shuffle = True)\n",
    "\n",
    "X_valid_tensor = torch.Tensor(X_valid)\n",
    "y_valid_tensor = torch.LongTensor(y_valid_superclass)\n",
    "\n",
    "valid_dataset = TensorDataset(X_valid_tensor, y_valid_tensor)\n",
    "valid_loader = DataLoader(valid_dataset, batch_size = batch_size, shuffle = True)"
   ]
  },
  {
   "cell_type": "code",
   "execution_count": 10,
   "id": "d4fc0bf0",
   "metadata": {},
   "outputs": [],
   "source": [
    "X_test=np.load(path_to_test+\"X_test.npy\")\n",
    "y_test=np.load(path_to_test+\"y_test_binary.npy\")"
   ]
  },
  {
   "cell_type": "code",
   "execution_count": 11,
   "id": "579c3fa1",
   "metadata": {},
   "outputs": [],
   "source": [
    "del X_train\n",
    "del X_valid\n",
    "\n",
    "del y_train_superclass\n",
    "del y_valid_superclass\n",
    "\n",
    "del X_train_tensor\n",
    "del y_train_tensor\n",
    "\n",
    "del X_valid_tensor\n",
    "del y_valid_tensor"
   ]
  },
  {
   "cell_type": "code",
   "execution_count": 12,
   "id": "99e8d545",
   "metadata": {},
   "outputs": [],
   "source": [
    "def train(epoch,my_model, data_loader, optimizer, loss_function):\n",
    "    losses=[]\n",
    "    my_model.train()\n",
    "    for batch_idx, (X_batch, y_batch) in enumerate(data_loader):\n",
    "        optimizer.zero_grad()\n",
    "        output = my_model(X_batch)\n",
    "        loss = loss_function(output, y_batch)\n",
    "        loss.backward()\n",
    "        optimizer.step()\n",
    "        if batch_idx % 10 == 0:\n",
    "            print('Train Epoch: {} [{}/{} ({:.0f}%)]\\tLoss: {:.6f}'.format(\n",
    "            epoch, batch_idx * len(X_batch), len(data_loader.dataset),\n",
    "                100. * batch_idx / len(data_loader), loss.item()))\n",
    "        losses.append(loss.data.numpy())\n",
    "    return np.mean(losses)"
   ]
  },
  {
   "cell_type": "code",
   "execution_count": 13,
   "id": "92e5f853",
   "metadata": {},
   "outputs": [],
   "source": [
    "def test(my_model, data_loader, loss_function):\n",
    "    accuracy_arr = []\n",
    "    my_model.eval()\n",
    "    test_loss = 0\n",
    "    correct = 0\n",
    "    for X_batch, y_batch in data_loader:\n",
    "        output = my_model(X_batch)\n",
    "        test_loss += loss_function(output, y_batch).data\n",
    "        pred = output.data.max(1, keepdim=True)[1]\n",
    "        correct += pred.eq(y_batch.data.view_as(pred)).cpu().sum()\n",
    "\n",
    "    test_loss /= len(data_loader)\n",
    "    acc = correct / len(data_loader.dataset)\n",
    "    print('\\nTest set: Average loss: {:.4f}, Accuracy: {}/{} ({:.2f}%)\\n'.format(\n",
    "        test_loss, correct, len(data_loader.dataset),\n",
    "        100. * correct / len(data_loader.dataset)))\n",
    "    return acc,test_loss"
   ]
  },
  {
   "cell_type": "code",
   "execution_count": 14,
   "id": "417c9750",
   "metadata": {},
   "outputs": [],
   "source": [
    "from sklearn.metrics import confusion_matrix, accuracy_score\n",
    "\n",
    "def print_confusion_matrix(model, X, y):\n",
    "    model.eval()\n",
    "    y_pred = model(torch.Tensor(X)).data.numpy().argmax(axis = 1)\n",
    "    print(confusion_matrix(y, y_pred))\n",
    "    accuracy = accuracy_score(y, y_pred)\n",
    "    print(f\"Accuracy = {accuracy}\")\n",
    "    return accuracy"
   ]
  },
  {
   "cell_type": "code",
   "execution_count": 15,
   "id": "ab45bcef",
   "metadata": {},
   "outputs": [],
   "source": [
    "def training(number_of_epoches, model, optimizer, loss_function, learning_rate, train_loader, valid_loader):\n",
    "    loss_train=[]\n",
    "    loss_valid=[]\n",
    "    acc=[]\n",
    "    best_accuracy, last_accuracy = 0, 0\n",
    "    patience = 3\n",
    "    trigger_times = 0 \n",
    "    \n",
    "    for epoch in range(number_of_epoches):\n",
    "        loss_train.append(train(epoch + 1,model, train_loader, optimizer, loss_function))\n",
    "        accuracy, current_loss = test(model, valid_loader, loss_function)\n",
    "        acc.append(accuracy)\n",
    "        loss_valid.append(current_loss)\n",
    "        if accuracy < last_accuracy:\n",
    "            trigger_times += 1\n",
    "            if trigger_times > patience:\n",
    "                break\n",
    "        else:\n",
    "            trigger_times = 0  \n",
    "        if epoch ==int(number_of_epoches * 0.3):\n",
    "            optimizer = torch.optim.Adam(model.parameters(),lr = learning_rate)    \n",
    "        print(\"Trigger times\", trigger_times) \n",
    "        \n",
    "        if accuracy > best_accuracy:\n",
    "            best_accuracy = accuracy\n",
    "        last_accuracy = accuracy\n",
    "        \n",
    "    return loss_train, loss_valid, acc"
   ]
  },
  {
   "cell_type": "code",
   "execution_count": 16,
   "id": "ff2142d2",
   "metadata": {},
   "outputs": [],
   "source": [
    "loss_function=nn.CrossEntropyLoss()"
   ]
  },
  {
   "cell_type": "code",
   "execution_count": 17,
   "id": "b04e4ce8",
   "metadata": {},
   "outputs": [],
   "source": [
    "learning_rate = 0.001\n",
    "learning_rate_2 = 0.0001"
   ]
  },
  {
   "cell_type": "code",
   "execution_count": 18,
   "id": "654ff832",
   "metadata": {},
   "outputs": [],
   "source": [
    "input_shape=1000"
   ]
  },
  {
   "cell_type": "code",
   "execution_count": 19,
   "id": "3bea113e",
   "metadata": {},
   "outputs": [],
   "source": [
    "class BasicBlock(nn.Module):\n",
    "    def __init__(self, in_channels, out_channels, kernel_size, stride = 1):\n",
    "        super().__init__()\n",
    "\n",
    "        self.model = nn.Sequential(\n",
    "        nn.Conv1d(in_channels = in_channels, out_channels = out_channels, kernel_size = kernel_size[0], padding = kernel_size[0] //2, stride = stride),\n",
    "        nn.BatchNorm1d(out_channels),  nn.LeakyReLU(0.01),\n",
    "        nn.Conv1d(in_channels = out_channels, out_channels = out_channels, kernel_size = kernel_size[1], padding = kernel_size[1] // 2),\n",
    "            \n",
    "        )\n",
    "        self.leakyReLU = nn.LeakyReLU(0.01)\n",
    "        \n",
    "        self.shortcut = nn.Sequential()\n",
    "        if stride != 1 or in_channels != out_channels:\n",
    "            self.shortcut = nn.Sequential(\n",
    "                nn.Conv1d(in_channels, out_channels, kernel_size = 1, stride = stride)\n",
    "            )\n",
    "        self.bn = nn.BatchNorm1d(out_channels)\n",
    "\n",
    "        \n",
    "    def forward(self, X):\n",
    "        output = self.model(X)\n",
    "        output += self.shortcut(X)\n",
    "        output = self.bn(output)\n",
    "        output = self.leakyReLU(output)\n",
    "\n",
    "        return output"
   ]
  },
  {
   "cell_type": "code",
   "execution_count": 20,
   "id": "cd344396",
   "metadata": {},
   "outputs": [],
   "source": [
    "class CNN_ResNet(nn.Module):\n",
    "    def __init__(self,in_channels,  input_shape, n_outputs, block, kernel_size = [3,3,3,5,5]):\n",
    "        super().__init__()\n",
    "        self.zero = nn.ZeroPad2d(3)\n",
    "        self.conv1D_1 = nn.Conv1d(in_channels = in_channels+6, out_channels = 64, kernel_size =  kernel_size[0], padding = 'same')\n",
    "        self.bn_1 = nn.BatchNorm1d(64)\n",
    "        self.leakyReLU_1 = nn.LeakyReLU(0.01)\n",
    "        self.maxpool = nn.MaxPool1d(2)\n",
    "        self.conv1D_2 = nn.Conv1d(in_channels = 64, out_channels = 64, kernel_size = kernel_size[1], padding = 'same')\n",
    "        self.bn_2 = nn.BatchNorm1d(64)\n",
    "        self.leakyReLU_2 = nn.LeakyReLU(0.01)\n",
    "    \n",
    "        self.block1 = self.make_layer(block, 64, 64, kernel_size[1:3], 2)\n",
    "        self.block2 = self.make_layer(block, 64, 64, kernel_size[3:5], 2)\n",
    "        self.maxpool2 = nn.MaxPool1d(2)\n",
    "        \n",
    "\n",
    "\n",
    "        \n",
    "        self.adAvgPooling = nn.AdaptiveAvgPool1d(2)\n",
    "        self.flatten = nn.Flatten()\n",
    "        self.fc = nn.Linear(2 * 64,n_outputs)\n",
    "        self.bn = nn.BatchNorm1d(n_outputs)\n",
    "        self.softmax = nn.Softmax(dim=1)\n",
    "\n",
    "    def make_layer(self, block, in_channels, out_channels, kernel_size, stride = 1):  \n",
    "        return nn.Sequential(block(in_channels, out_channels, kernel_size, stride))\n",
    "\n",
    "    def forward(self, x):\n",
    "        \n",
    "        output = self.zero(x)\n",
    "        output = self.conv1D_1(output)\n",
    "        output = self.bn_1(output)\n",
    "        output = self.leakyReLU_1(output)\n",
    "        output = self.maxpool(output)\n",
    "  \n",
    "\n",
    "        output = self.block1(output)\n",
    "        output = self.block2(output) \n",
    "        output = self.maxpool2(output)\n",
    "        \n",
    "        output = self.adAvgPooling(output)\n",
    "        output = self.flatten(output)\n",
    "        output = self.fc(output)\n",
    "        output = self.bn(output)\n",
    "        output = self.softmax(output)\n",
    "        return output"
   ]
  },
  {
   "cell_type": "code",
   "execution_count": 21,
   "id": "1f115a87",
   "metadata": {},
   "outputs": [],
   "source": [
    "model = CNN_ResNet(12, 1000, 2, BasicBlock, [5,5,5,5,5])"
   ]
  },
  {
   "cell_type": "code",
   "execution_count": 22,
   "id": "da45c1e8",
   "metadata": {},
   "outputs": [],
   "source": [
    "optimizer = torch.optim.Adam(model.parameters(),lr = learning_rate)"
   ]
  },
  {
   "cell_type": "code",
   "execution_count": 23,
   "id": "e942bd64",
   "metadata": {},
   "outputs": [
    {
     "name": "stdout",
     "output_type": "stream",
     "text": [
      "Train Epoch: 1 [0/12069 (0%)]\tLoss: 0.637057\n",
      "Train Epoch: 1 [1280/12069 (11%)]\tLoss: 0.514830\n",
      "Train Epoch: 1 [2560/12069 (21%)]\tLoss: 0.514751\n",
      "Train Epoch: 1 [3840/12069 (32%)]\tLoss: 0.495268\n",
      "Train Epoch: 1 [5120/12069 (42%)]\tLoss: 0.484821\n",
      "Train Epoch: 1 [6400/12069 (53%)]\tLoss: 0.468500\n",
      "Train Epoch: 1 [7680/12069 (63%)]\tLoss: 0.470574\n",
      "Train Epoch: 1 [8960/12069 (74%)]\tLoss: 0.444633\n",
      "Train Epoch: 1 [10240/12069 (84%)]\tLoss: 0.469088\n",
      "Train Epoch: 1 [11520/12069 (95%)]\tLoss: 0.469226\n",
      "\n",
      "Test set: Average loss: 0.4776, Accuracy: 2229/2587 (86.16%)\n",
      "\n",
      "Trigger times 0\n",
      "Train Epoch: 2 [0/12069 (0%)]\tLoss: 0.434640\n",
      "Train Epoch: 2 [1280/12069 (11%)]\tLoss: 0.462658\n",
      "Train Epoch: 2 [2560/12069 (21%)]\tLoss: 0.444147\n",
      "Train Epoch: 2 [3840/12069 (32%)]\tLoss: 0.455178\n",
      "Train Epoch: 2 [5120/12069 (42%)]\tLoss: 0.460545\n",
      "Train Epoch: 2 [6400/12069 (53%)]\tLoss: 0.446246\n",
      "Train Epoch: 2 [7680/12069 (63%)]\tLoss: 0.467883\n",
      "Train Epoch: 2 [8960/12069 (74%)]\tLoss: 0.455619\n",
      "Train Epoch: 2 [10240/12069 (84%)]\tLoss: 0.450689\n",
      "Train Epoch: 2 [11520/12069 (95%)]\tLoss: 0.441650\n",
      "\n",
      "Test set: Average loss: 0.4631, Accuracy: 2286/2587 (88.36%)\n",
      "\n",
      "Trigger times 0\n",
      "Train Epoch: 3 [0/12069 (0%)]\tLoss: 0.431051\n",
      "Train Epoch: 3 [1280/12069 (11%)]\tLoss: 0.456888\n",
      "Train Epoch: 3 [2560/12069 (21%)]\tLoss: 0.421795\n",
      "Train Epoch: 3 [3840/12069 (32%)]\tLoss: 0.457311\n",
      "Train Epoch: 3 [5120/12069 (42%)]\tLoss: 0.426242\n",
      "Train Epoch: 3 [6400/12069 (53%)]\tLoss: 0.437692\n",
      "Train Epoch: 3 [7680/12069 (63%)]\tLoss: 0.426611\n",
      "Train Epoch: 3 [8960/12069 (74%)]\tLoss: 0.449520\n",
      "Train Epoch: 3 [10240/12069 (84%)]\tLoss: 0.455858\n",
      "Train Epoch: 3 [11520/12069 (95%)]\tLoss: 0.449805\n",
      "\n",
      "Test set: Average loss: 0.4536, Accuracy: 2285/2587 (88.33%)\n",
      "\n",
      "Trigger times 1\n",
      "Train Epoch: 4 [0/12069 (0%)]\tLoss: 0.426849\n",
      "Train Epoch: 4 [1280/12069 (11%)]\tLoss: 0.429336\n",
      "Train Epoch: 4 [2560/12069 (21%)]\tLoss: 0.445645\n",
      "Train Epoch: 4 [3840/12069 (32%)]\tLoss: 0.432118\n",
      "Train Epoch: 4 [5120/12069 (42%)]\tLoss: 0.427927\n",
      "Train Epoch: 4 [6400/12069 (53%)]\tLoss: 0.444420\n",
      "Train Epoch: 4 [7680/12069 (63%)]\tLoss: 0.412339\n",
      "Train Epoch: 4 [8960/12069 (74%)]\tLoss: 0.438180\n",
      "Train Epoch: 4 [10240/12069 (84%)]\tLoss: 0.437327\n",
      "Train Epoch: 4 [11520/12069 (95%)]\tLoss: 0.435465\n",
      "\n",
      "Test set: Average loss: 0.4475, Accuracy: 2300/2587 (88.91%)\n",
      "\n",
      "Trigger times 0\n",
      "Train Epoch: 5 [0/12069 (0%)]\tLoss: 0.432535\n",
      "Train Epoch: 5 [1280/12069 (11%)]\tLoss: 0.410185\n",
      "Train Epoch: 5 [2560/12069 (21%)]\tLoss: 0.406961\n",
      "Train Epoch: 5 [3840/12069 (32%)]\tLoss: 0.399819\n",
      "Train Epoch: 5 [5120/12069 (42%)]\tLoss: 0.429751\n",
      "Train Epoch: 5 [6400/12069 (53%)]\tLoss: 0.422566\n",
      "Train Epoch: 5 [7680/12069 (63%)]\tLoss: 0.459845\n",
      "Train Epoch: 5 [8960/12069 (74%)]\tLoss: 0.409954\n",
      "Train Epoch: 5 [10240/12069 (84%)]\tLoss: 0.440852\n",
      "Train Epoch: 5 [11520/12069 (95%)]\tLoss: 0.442683\n",
      "\n",
      "Test set: Average loss: 0.4346, Accuracy: 2310/2587 (89.29%)\n",
      "\n",
      "Trigger times 0\n",
      "Train Epoch: 6 [0/12069 (0%)]\tLoss: 0.425003\n",
      "Train Epoch: 6 [1280/12069 (11%)]\tLoss: 0.429841\n",
      "Train Epoch: 6 [2560/12069 (21%)]\tLoss: 0.424388\n",
      "Train Epoch: 6 [3840/12069 (32%)]\tLoss: 0.437898\n",
      "Train Epoch: 6 [5120/12069 (42%)]\tLoss: 0.486881\n",
      "Train Epoch: 6 [6400/12069 (53%)]\tLoss: 0.400212\n",
      "Train Epoch: 6 [7680/12069 (63%)]\tLoss: 0.425459\n",
      "Train Epoch: 6 [8960/12069 (74%)]\tLoss: 0.414861\n",
      "Train Epoch: 6 [10240/12069 (84%)]\tLoss: 0.386255\n",
      "Train Epoch: 6 [11520/12069 (95%)]\tLoss: 0.425494\n",
      "\n",
      "Test set: Average loss: 0.4378, Accuracy: 2295/2587 (88.71%)\n",
      "\n",
      "Trigger times 1\n",
      "Train Epoch: 7 [0/12069 (0%)]\tLoss: 0.427153\n",
      "Train Epoch: 7 [1280/12069 (11%)]\tLoss: 0.414269\n",
      "Train Epoch: 7 [2560/12069 (21%)]\tLoss: 0.429586\n",
      "Train Epoch: 7 [3840/12069 (32%)]\tLoss: 0.441663\n",
      "Train Epoch: 7 [5120/12069 (42%)]\tLoss: 0.402525\n",
      "Train Epoch: 7 [6400/12069 (53%)]\tLoss: 0.423664\n",
      "Train Epoch: 7 [7680/12069 (63%)]\tLoss: 0.421073\n",
      "Train Epoch: 7 [8960/12069 (74%)]\tLoss: 0.414089\n",
      "Train Epoch: 7 [10240/12069 (84%)]\tLoss: 0.392247\n",
      "Train Epoch: 7 [11520/12069 (95%)]\tLoss: 0.397255\n",
      "\n",
      "Test set: Average loss: 0.4378, Accuracy: 2325/2587 (89.87%)\n",
      "\n",
      "Trigger times 0\n",
      "Train Epoch: 8 [0/12069 (0%)]\tLoss: 0.422998\n",
      "Train Epoch: 8 [1280/12069 (11%)]\tLoss: 0.410536\n",
      "Train Epoch: 8 [2560/12069 (21%)]\tLoss: 0.413367\n",
      "Train Epoch: 8 [3840/12069 (32%)]\tLoss: 0.428247\n",
      "Train Epoch: 8 [5120/12069 (42%)]\tLoss: 0.418361\n",
      "Train Epoch: 8 [6400/12069 (53%)]\tLoss: 0.408126\n",
      "Train Epoch: 8 [7680/12069 (63%)]\tLoss: 0.383275\n",
      "Train Epoch: 8 [8960/12069 (74%)]\tLoss: 0.422472\n",
      "Train Epoch: 8 [10240/12069 (84%)]\tLoss: 0.437423\n",
      "Train Epoch: 8 [11520/12069 (95%)]\tLoss: 0.386798\n",
      "\n",
      "Test set: Average loss: 0.4193, Accuracy: 2328/2587 (89.99%)\n",
      "\n",
      "Trigger times 0\n",
      "Train Epoch: 9 [0/12069 (0%)]\tLoss: 0.414298\n",
      "Train Epoch: 9 [1280/12069 (11%)]\tLoss: 0.421973\n",
      "Train Epoch: 9 [2560/12069 (21%)]\tLoss: 0.405046\n",
      "Train Epoch: 9 [3840/12069 (32%)]\tLoss: 0.436517\n",
      "Train Epoch: 9 [5120/12069 (42%)]\tLoss: 0.427999\n",
      "Train Epoch: 9 [6400/12069 (53%)]\tLoss: 0.375429\n",
      "Train Epoch: 9 [7680/12069 (63%)]\tLoss: 0.397418\n",
      "Train Epoch: 9 [8960/12069 (74%)]\tLoss: 0.386456\n",
      "Train Epoch: 9 [10240/12069 (84%)]\tLoss: 0.408728\n",
      "Train Epoch: 9 [11520/12069 (95%)]\tLoss: 0.408765\n",
      "\n",
      "Test set: Average loss: 0.4223, Accuracy: 2329/2587 (90.03%)\n",
      "\n",
      "Trigger times 0\n",
      "Train Epoch: 10 [0/12069 (0%)]\tLoss: 0.379915\n",
      "Train Epoch: 10 [1280/12069 (11%)]\tLoss: 0.427509\n",
      "Train Epoch: 10 [2560/12069 (21%)]\tLoss: 0.393703\n",
      "Train Epoch: 10 [3840/12069 (32%)]\tLoss: 0.441863\n",
      "Train Epoch: 10 [5120/12069 (42%)]\tLoss: 0.417168\n",
      "Train Epoch: 10 [6400/12069 (53%)]\tLoss: 0.415809\n",
      "Train Epoch: 10 [7680/12069 (63%)]\tLoss: 0.408418\n",
      "Train Epoch: 10 [8960/12069 (74%)]\tLoss: 0.401091\n",
      "Train Epoch: 10 [10240/12069 (84%)]\tLoss: 0.381235\n",
      "Train Epoch: 10 [11520/12069 (95%)]\tLoss: 0.457564\n",
      "\n",
      "Test set: Average loss: 0.4294, Accuracy: 2326/2587 (89.91%)\n",
      "\n",
      "Trigger times 1\n",
      "Train Epoch: 11 [0/12069 (0%)]\tLoss: 0.406918\n",
      "Train Epoch: 11 [1280/12069 (11%)]\tLoss: 0.412834\n",
      "Train Epoch: 11 [2560/12069 (21%)]\tLoss: 0.400298\n",
      "Train Epoch: 11 [3840/12069 (32%)]\tLoss: 0.368390\n",
      "Train Epoch: 11 [5120/12069 (42%)]\tLoss: 0.420533\n",
      "Train Epoch: 11 [6400/12069 (53%)]\tLoss: 0.380719\n",
      "Train Epoch: 11 [7680/12069 (63%)]\tLoss: 0.402327\n",
      "Train Epoch: 11 [8960/12069 (74%)]\tLoss: 0.380993\n",
      "Train Epoch: 11 [10240/12069 (84%)]\tLoss: 0.365344\n",
      "Train Epoch: 11 [11520/12069 (95%)]\tLoss: 0.391100\n",
      "\n",
      "Test set: Average loss: 0.4204, Accuracy: 2354/2587 (90.99%)\n",
      "\n",
      "Trigger times 0\n",
      "Train Epoch: 12 [0/12069 (0%)]\tLoss: 0.402133\n",
      "Train Epoch: 12 [1280/12069 (11%)]\tLoss: 0.394362\n",
      "Train Epoch: 12 [2560/12069 (21%)]\tLoss: 0.381975\n",
      "Train Epoch: 12 [3840/12069 (32%)]\tLoss: 0.373796\n",
      "Train Epoch: 12 [5120/12069 (42%)]\tLoss: 0.377926\n",
      "Train Epoch: 12 [6400/12069 (53%)]\tLoss: 0.391773\n",
      "Train Epoch: 12 [7680/12069 (63%)]\tLoss: 0.374045\n",
      "Train Epoch: 12 [8960/12069 (74%)]\tLoss: 0.383252\n",
      "Train Epoch: 12 [10240/12069 (84%)]\tLoss: 0.381678\n",
      "Train Epoch: 12 [11520/12069 (95%)]\tLoss: 0.367112\n",
      "\n",
      "Test set: Average loss: 0.4157, Accuracy: 2357/2587 (91.11%)\n",
      "\n",
      "Trigger times 0\n",
      "Train Epoch: 13 [0/12069 (0%)]\tLoss: 0.386193\n",
      "Train Epoch: 13 [1280/12069 (11%)]\tLoss: 0.390446\n",
      "Train Epoch: 13 [2560/12069 (21%)]\tLoss: 0.382791\n",
      "Train Epoch: 13 [3840/12069 (32%)]\tLoss: 0.371251\n",
      "Train Epoch: 13 [5120/12069 (42%)]\tLoss: 0.392739\n",
      "Train Epoch: 13 [6400/12069 (53%)]\tLoss: 0.386362\n",
      "Train Epoch: 13 [7680/12069 (63%)]\tLoss: 0.379798\n",
      "Train Epoch: 13 [8960/12069 (74%)]\tLoss: 0.395794\n",
      "Train Epoch: 13 [10240/12069 (84%)]\tLoss: 0.384199\n",
      "Train Epoch: 13 [11520/12069 (95%)]\tLoss: 0.390531\n",
      "\n",
      "Test set: Average loss: 0.4163, Accuracy: 2354/2587 (90.99%)\n",
      "\n",
      "Trigger times 1\n",
      "Train Epoch: 14 [0/12069 (0%)]\tLoss: 0.410881\n",
      "Train Epoch: 14 [1280/12069 (11%)]\tLoss: 0.380605\n",
      "Train Epoch: 14 [2560/12069 (21%)]\tLoss: 0.384453\n",
      "Train Epoch: 14 [3840/12069 (32%)]\tLoss: 0.400100\n",
      "Train Epoch: 14 [5120/12069 (42%)]\tLoss: 0.410599\n",
      "Train Epoch: 14 [6400/12069 (53%)]\tLoss: 0.376766\n",
      "Train Epoch: 14 [7680/12069 (63%)]\tLoss: 0.392452\n",
      "Train Epoch: 14 [8960/12069 (74%)]\tLoss: 0.373550\n",
      "Train Epoch: 14 [10240/12069 (84%)]\tLoss: 0.376030\n",
      "Train Epoch: 14 [11520/12069 (95%)]\tLoss: 0.404702\n",
      "\n",
      "Test set: Average loss: 0.4137, Accuracy: 2346/2587 (90.68%)\n",
      "\n",
      "Trigger times 2\n",
      "Train Epoch: 15 [0/12069 (0%)]\tLoss: 0.378443\n",
      "Train Epoch: 15 [1280/12069 (11%)]\tLoss: 0.360802\n",
      "Train Epoch: 15 [2560/12069 (21%)]\tLoss: 0.387778\n",
      "Train Epoch: 15 [3840/12069 (32%)]\tLoss: 0.364140\n",
      "Train Epoch: 15 [5120/12069 (42%)]\tLoss: 0.359646\n"
     ]
    },
    {
     "name": "stdout",
     "output_type": "stream",
     "text": [
      "Train Epoch: 15 [6400/12069 (53%)]\tLoss: 0.381867\n",
      "Train Epoch: 15 [7680/12069 (63%)]\tLoss: 0.367563\n",
      "Train Epoch: 15 [8960/12069 (74%)]\tLoss: 0.418726\n",
      "Train Epoch: 15 [10240/12069 (84%)]\tLoss: 0.372153\n",
      "Train Epoch: 15 [11520/12069 (95%)]\tLoss: 0.364852\n",
      "\n",
      "Test set: Average loss: 0.4191, Accuracy: 2341/2587 (90.49%)\n",
      "\n",
      "Trigger times 3\n",
      "Train Epoch: 16 [0/12069 (0%)]\tLoss: 0.356789\n",
      "Train Epoch: 16 [1280/12069 (11%)]\tLoss: 0.360054\n",
      "Train Epoch: 16 [2560/12069 (21%)]\tLoss: 0.372800\n",
      "Train Epoch: 16 [3840/12069 (32%)]\tLoss: 0.360249\n",
      "Train Epoch: 16 [5120/12069 (42%)]\tLoss: 0.364721\n",
      "Train Epoch: 16 [6400/12069 (53%)]\tLoss: 0.375694\n",
      "Train Epoch: 16 [7680/12069 (63%)]\tLoss: 0.375943\n",
      "Train Epoch: 16 [8960/12069 (74%)]\tLoss: 0.364923\n",
      "Train Epoch: 16 [10240/12069 (84%)]\tLoss: 0.390993\n",
      "Train Epoch: 16 [11520/12069 (95%)]\tLoss: 0.396520\n",
      "\n",
      "Test set: Average loss: 0.4206, Accuracy: 2329/2587 (90.03%)\n",
      "\n"
     ]
    }
   ],
   "source": [
    "loss_train, loss_valid, accuracy = training(30, model, optimizer, loss_function, learning_rate_2, train_loader, valid_loader)"
   ]
  },
  {
   "cell_type": "code",
   "execution_count": 24,
   "id": "e7915316",
   "metadata": {},
   "outputs": [
    {
     "name": "stdout",
     "output_type": "stream",
     "text": [
      "[[1354  184]\n",
      " [  97  951]]\n",
      "Accuracy = 0.891337973704563\n"
     ]
    },
    {
     "data": {
      "text/plain": [
       "0.891337973704563"
      ]
     },
     "execution_count": 24,
     "metadata": {},
     "output_type": "execute_result"
    }
   ],
   "source": [
    "print_confusion_matrix(model, X_test, y_test)"
   ]
  },
  {
   "cell_type": "code",
   "execution_count": 25,
   "id": "cfad5f04",
   "metadata": {},
   "outputs": [
    {
     "data": {
      "image/png": "[encoded data removed]",
      "text/plain": [
       "<Figure size 432x288 with 1 Axes>"
      ]
     },
     "metadata": {
      "needs_background": "light"
     },
     "output_type": "display_data"
    }
   ],
   "source": [
    "plt.plot(loss_train, label = 'Train Loss')\n",
    "plt.plot(loss_valid, label = 'Validation Loss')\n",
    "plt.show()"
   ]
  },
  {
   "cell_type": "code",
   "execution_count": 26,
   "id": "f2ac5d29",
   "metadata": {},
   "outputs": [
    {
     "data": {
      "image/png": "[encoded data removed]",
      "text/plain": [
       "<Figure size 432x288 with 1 Axes>"
      ]
     },
     "metadata": {
      "needs_background": "light"
     },
     "output_type": "display_data"
    }
   ],
   "source": [
    "plt.plot(accuracy)\n",
    "plt.show()"
   ]
  },
  {
   "cell_type": "code",
   "execution_count": 27,
   "id": "00c3b059",
   "metadata": {},
   "outputs": [
    {
     "name": "stdout",
     "output_type": "stream",
     "text": [
      "Best accuracy:  0.91109395  Epoch:  12\n"
     ]
    }
   ],
   "source": [
    "print(\"Best accuracy: \",np.max(accuracy),\" Epoch: \", np.argmax(accuracy)+1)"
   ]
  },
  {
   "cell_type": "code",
   "execution_count": 28,
   "id": "68c019e0",
   "metadata": {},
   "outputs": [],
   "source": [
    "model.eval()\n",
    "y_pred = model(torch.Tensor(X_test)).data.numpy().argmax(axis = 1)"
   ]
  },
  {
   "cell_type": "code",
   "execution_count": 29,
   "id": "152fd1a0",
   "metadata": {},
   "outputs": [
    {
     "name": "stdout",
     "output_type": "stream",
     "text": [
      "              precision    recall  f1-score   support\n",
      "\n",
      "           0       0.93      0.88      0.91      1538\n",
      "           1       0.84      0.91      0.87      1048\n",
      "\n",
      "    accuracy                           0.89      2586\n",
      "   macro avg       0.89      0.89      0.89      2586\n",
      "weighted avg       0.89      0.89      0.89      2586\n",
      "\n"
     ]
    }
   ],
   "source": [
    "print(classification_report(y_test, y_pred))"
   ]
  },
  {
   "cell_type": "code",
   "execution_count": 30,
   "id": "a91c030b",
   "metadata": {},
   "outputs": [
    {
     "data": {
      "image/png": "[encoded data removed]",
      "text/plain": [
       "<Figure size 432x288 with 2 Axes>"
      ]
     },
     "metadata": {
      "needs_background": "light"
     },
     "output_type": "display_data"
    }
   ],
   "source": [
    "cm = confusion_matrix(y_test,y_pred)\n",
    "f = sns.heatmap(cm, annot=True, fmt='d', cmap='coolwarm', center = 0)"
   ]
  },
  {
   "cell_type": "code",
   "execution_count": null,
   "id": "4c669b14",
   "metadata": {},
   "outputs": [],
   "source": []
  },
  {
   "cell_type": "code",
   "execution_count": null,
   "id": "91fcf998",
   "metadata": {},
   "outputs": [],
   "source": []
  }
 ],
 "metadata": {
  "kernelspec": {
   "display_name": "Python 3 (ipykernel)",
   "language": "python",
   "name": "python3"
  },
  "language_info": {
   "codemirror_mode": {
    "name": "ipython",
    "version": 3
   },
   "file_extension": ".py",
   "mimetype": "text/x-python",
   "name": "python",
   "nbconvert_exporter": "python",
   "pygments_lexer": "ipython3",
   "version": "3.9.7"
  }
 },
 "nbformat": 4,
 "nbformat_minor": 5
}
