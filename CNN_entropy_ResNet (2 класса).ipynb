{
 "cells": [
  {
   "cell_type": "code",
   "execution_count": 1,
   "id": "07e0ce23",
   "metadata": {},
   "outputs": [],
   "source": [
    "import torch \n",
    "import torch.nn as nn \n",
    "import numpy as np\n",
    "import matplotlib.pyplot as plt\n",
    "import pandas as pd\n",
    "%matplotlib inline"
   ]
  },
  {
   "cell_type": "code",
   "execution_count": 2,
   "id": "0ebcb1bb",
   "metadata": {},
   "outputs": [],
   "source": [
    "import seaborn as sns"
   ]
  },
  {
   "cell_type": "code",
   "execution_count": 3,
   "id": "d9bd41af",
   "metadata": {},
   "outputs": [],
   "source": [
    "from torch.utils.data import TensorDataset, DataLoader"
   ]
  },
  {
   "cell_type": "code",
   "execution_count": 4,
   "id": "2b035aad",
   "metadata": {},
   "outputs": [],
   "source": [
    "from sklearn.metrics import classification_report"
   ]
  },
  {
   "cell_type": "code",
   "execution_count": 5,
   "id": "3d648bdf",
   "metadata": {},
   "outputs": [],
   "source": [
    "path_to_train='Train/'\n",
    "path_to_valid = 'Valid/'\n",
    "path_to_test='Test/'"
   ]
  },
  {
   "cell_type": "code",
   "execution_count": 6,
   "id": "2100ecab",
   "metadata": {},
   "outputs": [],
   "source": [
    "path_to_entropy='Entropy/'"
   ]
  },
  {
   "cell_type": "code",
   "execution_count": 7,
   "id": "3e5fa5a4",
   "metadata": {},
   "outputs": [],
   "source": [
    "X_train=np.load(path_to_train+\"X_train.npy\")\n",
    "X_valid=np.load(path_to_valid+\"X_valid.npy\")"
   ]
  },
  {
   "cell_type": "code",
   "execution_count": 8,
   "id": "85e991fb",
   "metadata": {},
   "outputs": [],
   "source": [
    "y_train_superclass=np.load(path_to_train+\"y_train_binary.npy\")\n",
    "y_valid_superclass=np.load(path_to_valid+\"y_valid_binary.npy\")"
   ]
  },
  {
   "cell_type": "code",
   "execution_count": 9,
   "id": "dfebc24c",
   "metadata": {},
   "outputs": [],
   "source": [
    "X_test=np.load(path_to_test+\"X_test.npy\")\n",
    "y_test=np.load(path_to_test+\"y_test_binary.npy\")"
   ]
  },
  {
   "cell_type": "code",
   "execution_count": 10,
   "id": "1d63ce76",
   "metadata": {},
   "outputs": [],
   "source": [
    "X_entropy = np.load(path_to_entropy+\"X_entropy_file.npy\")"
   ]
  },
  {
   "cell_type": "code",
   "execution_count": 11,
   "id": "59ec89d1",
   "metadata": {},
   "outputs": [
    {
     "data": {
      "text/plain": [
       "(12069, 2587, 2586)"
      ]
     },
     "execution_count": 11,
     "metadata": {},
     "output_type": "execute_result"
    }
   ],
   "source": [
    "X_train.shape[0], X_valid.shape[0], X_test.shape[0]"
   ]
  },
  {
   "cell_type": "code",
   "execution_count": 12,
   "id": "094cd325",
   "metadata": {},
   "outputs": [],
   "source": [
    "X_train_idx = np.array([range(X_train.shape[0])])"
   ]
  },
  {
   "cell_type": "code",
   "execution_count": 13,
   "id": "6e2ccd31",
   "metadata": {},
   "outputs": [],
   "source": [
    "X_valid_idx = np.array([range(X_train.shape[0], X_train.shape[0]+X_valid.shape[0])])"
   ]
  },
  {
   "cell_type": "code",
   "execution_count": 14,
   "id": "428b9e75",
   "metadata": {},
   "outputs": [],
   "source": [
    "X_test_idx = np.array([range(X_train.shape[0]+X_valid.shape[0], X_train.shape[0]+X_valid.shape[0]+X_test.shape[0])])"
   ]
  },
  {
   "cell_type": "code",
   "execution_count": 15,
   "id": "b4c40d97",
   "metadata": {},
   "outputs": [],
   "source": [
    "X_train_idx = np.squeeze(X_train_idx)"
   ]
  },
  {
   "cell_type": "code",
   "execution_count": 16,
   "id": "9e5f917e",
   "metadata": {},
   "outputs": [],
   "source": [
    "X_valid_idx = np.squeeze(X_valid_idx)"
   ]
  },
  {
   "cell_type": "code",
   "execution_count": 17,
   "id": "337eb54e",
   "metadata": {},
   "outputs": [],
   "source": [
    "X_test_idx = np.squeeze(X_test_idx)"
   ]
  },
  {
   "cell_type": "code",
   "execution_count": 18,
   "id": "3cc6d42a",
   "metadata": {},
   "outputs": [],
   "source": [
    "batch_size = 128"
   ]
  },
  {
   "cell_type": "code",
   "execution_count": 19,
   "id": "c514e2fb",
   "metadata": {},
   "outputs": [],
   "source": [
    "X_train_tensor = torch.Tensor(X_train_idx)\n",
    "y_train_tensor = torch.LongTensor(y_train_superclass)\n",
    "\n",
    "train_dataset = TensorDataset(X_train_tensor, y_train_tensor)\n",
    "train_loader = DataLoader(train_dataset, batch_size = batch_size, shuffle = True)\n",
    "\n",
    "X_valid_tensor = torch.Tensor(X_valid_idx)\n",
    "y_valid_tensor = torch.LongTensor(y_valid_superclass)\n",
    "\n",
    "valid_dataset = TensorDataset(X_valid_tensor, y_valid_tensor)\n",
    "valid_loader = DataLoader(valid_dataset, batch_size = batch_size, shuffle = True)"
   ]
  },
  {
   "cell_type": "code",
   "execution_count": 20,
   "id": "44e3e4bf",
   "metadata": {},
   "outputs": [],
   "source": [
    "X_array = np.concatenate((X_train, X_valid, X_test))    "
   ]
  },
  {
   "cell_type": "code",
   "execution_count": 21,
   "id": "d55b63b7",
   "metadata": {},
   "outputs": [],
   "source": [
    "del X_train\n",
    "del X_valid\n",
    "del X_test"
   ]
  },
  {
   "cell_type": "code",
   "execution_count": 22,
   "id": "579c3fa1",
   "metadata": {},
   "outputs": [],
   "source": [
    "del y_train_superclass\n",
    "del y_valid_superclass\n",
    "\n",
    "del X_train_tensor\n",
    "del y_train_tensor\n",
    "\n",
    "del X_valid_tensor\n",
    "del y_valid_tensor"
   ]
  },
  {
   "cell_type": "code",
   "execution_count": 23,
   "id": "99e8d545",
   "metadata": {},
   "outputs": [],
   "source": [
    "def train(epoch,my_model, data_loader, optimizer, loss_function):\n",
    "    losses=[]\n",
    "    my_model.train()\n",
    "    for batch_idx, (X_batch, y_batch) in enumerate(data_loader):\n",
    "        optimizer.zero_grad()\n",
    "        output = my_model(X_batch)\n",
    "        loss = loss_function(output, y_batch)\n",
    "        loss.backward()\n",
    "        optimizer.step()\n",
    "        if batch_idx % 10 == 0:\n",
    "            print('Train Epoch: {} [{}/{} ({:.0f}%)]\\tLoss: {:.6f}'.format(\n",
    "            epoch, batch_idx * len(X_batch), len(data_loader.dataset),\n",
    "                100. * batch_idx / len(data_loader), loss.item()))\n",
    "        losses.append(loss.data.numpy())\n",
    "    return np.mean(losses)"
   ]
  },
  {
   "cell_type": "code",
   "execution_count": 24,
   "id": "92e5f853",
   "metadata": {},
   "outputs": [],
   "source": [
    "def test(my_model, data_loader, loss_function):\n",
    "    accuracy_arr = []\n",
    "    my_model.eval()\n",
    "    test_loss = 0\n",
    "    correct = 0\n",
    "    for X_batch, y_batch in data_loader:\n",
    "        output = my_model(X_batch)\n",
    "        test_loss += loss_function(output, y_batch).data\n",
    "        pred = output.data.max(1, keepdim=True)[1]\n",
    "        correct += pred.eq(y_batch.data.view_as(pred)).cpu().sum()\n",
    "\n",
    "    test_loss /= len(data_loader)\n",
    "    acc = correct / len(data_loader.dataset)\n",
    "    print('\\nTest set: Average loss: {:.4f}, Accuracy: {}/{} ({:.2f}%)\\n'.format(\n",
    "        test_loss, correct, len(data_loader.dataset),\n",
    "        100. * correct / len(data_loader.dataset)))\n",
    "    return acc,test_loss"
   ]
  },
  {
   "cell_type": "code",
   "execution_count": 25,
   "id": "417c9750",
   "metadata": {},
   "outputs": [],
   "source": [
    "from sklearn.metrics import confusion_matrix, accuracy_score\n",
    "\n",
    "def print_confusion_matrix(model, X, y):\n",
    "    model.eval()\n",
    "    y_pred = model(torch.Tensor(X)).data.numpy().argmax(axis = 1)\n",
    "    print(confusion_matrix(y, y_pred))\n",
    "    accuracy = accuracy_score(y, y_pred)\n",
    "    print(f\"Accuracy = {accuracy}\")\n",
    "    return accuracy"
   ]
  },
  {
   "cell_type": "code",
   "execution_count": 26,
   "id": "ab45bcef",
   "metadata": {},
   "outputs": [],
   "source": [
    "def training(number_of_epoches, model, optimizer, loss_function, learning_rate, train_loader, valid_loader):\n",
    "    loss_train=[]\n",
    "    loss_valid=[]\n",
    "    acc=[]\n",
    "    best_accuracy, last_accuracy = 0, 0\n",
    "    patience = 3\n",
    "    trigger_times = 0 \n",
    "    \n",
    "    for epoch in range(number_of_epoches):\n",
    "        loss_train.append(train(epoch + 1,model, train_loader, optimizer, loss_function))\n",
    "        accuracy, current_loss = test(model, valid_loader, loss_function)\n",
    "        acc.append(accuracy)\n",
    "        loss_valid.append(current_loss)\n",
    "        if accuracy < last_accuracy:\n",
    "            trigger_times += 1\n",
    "            if trigger_times > patience:\n",
    "                break\n",
    "        else:\n",
    "            trigger_times = 0  \n",
    "        if epoch ==int(number_of_epoches * 0.3):\n",
    "            optimizer = torch.optim.Adam(model.parameters(),lr = learning_rate)    \n",
    "        print(\"Trigger times\", trigger_times) \n",
    "        \n",
    "        if accuracy > best_accuracy:\n",
    "            best_accuracy = accuracy\n",
    "        last_accuracy = accuracy\n",
    "        \n",
    "    return loss_train, loss_valid, acc"
   ]
  },
  {
   "cell_type": "code",
   "execution_count": 27,
   "id": "ff2142d2",
   "metadata": {},
   "outputs": [],
   "source": [
    "loss_function=nn.CrossEntropyLoss()"
   ]
  },
  {
   "cell_type": "code",
   "execution_count": 28,
   "id": "b04e4ce8",
   "metadata": {},
   "outputs": [],
   "source": [
    "learning_rate = 0.001\n",
    "learning_rate_2 = 0.0001"
   ]
  },
  {
   "cell_type": "code",
   "execution_count": 29,
   "id": "654ff832",
   "metadata": {},
   "outputs": [],
   "source": [
    "input_shape=1000"
   ]
  },
  {
   "cell_type": "code",
   "execution_count": 30,
   "id": "cd22d92f",
   "metadata": {},
   "outputs": [],
   "source": [
    "class BasicBlock(nn.Module):\n",
    "    def __init__(self, in_channels, out_channels, kernel_size, stride = 1):\n",
    "        super().__init__()\n",
    "\n",
    "        self.model = nn.Sequential(\n",
    "        nn.Conv1d(in_channels = in_channels, out_channels = out_channels, kernel_size = kernel_size[0], padding = kernel_size[0] //2, stride = stride),\n",
    "        nn.BatchNorm1d(64), nn.LeakyReLU(0.01),\n",
    "        nn.Conv1d(in_channels = out_channels, out_channels = out_channels, kernel_size = kernel_size[1], padding = kernel_size[1] // 2), nn.BatchNorm1d(64)\n",
    "        )\n",
    "        self.leakyReLU = nn.LeakyReLU(0.01)\n",
    "        \n",
    "        self.shortcut = nn.Sequential()\n",
    "        if stride != 1 or in_channels != out_channels:\n",
    "            self.shortcut = nn.Sequential(\n",
    "                nn.Conv1d(in_channels, out_channels, kernel_size = 1, stride = stride)\n",
    "            )\n",
    "        self.bn = nn.BatchNorm1d(out_channels)\n",
    "\n",
    "        \n",
    "    def forward(self, X):\n",
    "        output = self.model(X)\n",
    "        output += self.shortcut(X)\n",
    "        output = self.leakyReLU(output)\n",
    "\n",
    "        return output"
   ]
  },
  {
   "cell_type": "code",
   "execution_count": 31,
   "id": "2d19452b",
   "metadata": {},
   "outputs": [],
   "source": [
    "class CNN_entropy_ResNet(nn.Module):\n",
    "    def __init__(self,in_channels,  input_shape, n_outputs, block, kernel_size = [3,3,3,5,5]):\n",
    "        super().__init__()\n",
    "\n",
    "        self.conv1D_1 = nn.Conv1d(in_channels = in_channels, out_channels = 64, kernel_size = kernel_size[0], padding = 2)\n",
    "        self.leakyReLU_1 = nn.LeakyReLU(0.01)\n",
    "    \n",
    "        self.block1 = self.make_layer(block, 64, 64, kernel_size[1:3], 2)\n",
    "        self.block2 = self.make_layer(block, 64, 64, kernel_size[3:], 2)\n",
    "        \n",
    "        self.adAvgPooling = nn.AdaptiveAvgPool1d(2)\n",
    "        self.adAvgPooling2 = nn.AdaptiveAvgPool1d(2)\n",
    "        self.flatten = nn.Flatten()\n",
    "        self.flatten2 = nn.Flatten()\n",
    "        self.fc = nn.Linear(2 * 64 + 108, n_outputs)\n",
    "        self.bn = nn.BatchNorm1d(n_outputs) \n",
    "        self.drop1 = nn.Dropout(0.6)\n",
    "        self.leakyReLU_6 = nn.LeakyReLU(0.01)\n",
    "        self.fc2 = nn.Linear(128,128)\n",
    "        self.drop2 = nn.Dropout(0.2)\n",
    "        self.leakyReLU_7 = nn.LeakyReLU(0.01)\n",
    "        self.fc3 = nn.Linear(128,n_outputs)\n",
    "        self.softmax = nn.Softmax(dim=1)\n",
    "        self.maxpool = nn.MaxPool1d(2)\n",
    "        self.maxpool2 = nn.MaxPool1d(2)\n",
    "        self.maxpool3 = nn.MaxPool1d(2)\n",
    "        self.bn_1 = nn.BatchNorm1d(64)\n",
    "\n",
    "    def make_layer(self, block, in_channels, out_channels, kernel_size, stride = 1):               \n",
    "\n",
    "        return nn.Sequential(block(in_channels, out_channels, kernel_size, stride))\n",
    "\n",
    "    def forward(self, x):\n",
    "        X_arr = []\n",
    "        X_entr = []\n",
    "        for el in np.array(x):\n",
    "            X_arr.append(X_array[int(el)])\n",
    "            X_entr.append(X_entropy[int(el)])\n",
    "        \n",
    "        x = torch.Tensor(np.array(X_arr))\n",
    "        X_entr = torch.Tensor(np.array(X_entr))\n",
    "        del X_arr\n",
    "        output = self.conv1D_1(x)\n",
    "        output = self.bn_1(output)\n",
    "        output = self.leakyReLU_1(output)\n",
    "        #output = self.maxpool(output)\n",
    "\n",
    "        output = self.block1(output)\n",
    "        #output = self.adAvgPooling2(output)\n",
    "        #output = self.maxpool2(output)\n",
    "        output = self.block2(output)      \n",
    "\n",
    "        output = self.adAvgPooling(output)\n",
    "        output = self.flatten(output)\n",
    "        X_entr = self.flatten2(X_entr)\n",
    "        output = torch.cat((X_entr, output), axis = 1)\n",
    "        output = self.fc(output)\n",
    "        output = self.bn(output)\n",
    "        #output = self.drop1(output)\n",
    "        #output = self.leakyReLU_6(output)\n",
    "        #output = self.fc2(output)\n",
    "        #output = self.drop2(output)\n",
    "        #output = self.leakyReLU_7(output)\n",
    "        #output = self.fc3(output)\n",
    "        output = self.softmax(output)\n",
    "        return output"
   ]
  },
  {
   "cell_type": "code",
   "execution_count": 32,
   "id": "2f8d1fdd",
   "metadata": {},
   "outputs": [],
   "source": [
    "model = CNN_entropy_ResNet(12, 1000, 2, BasicBlock, [5,5,5,5,5])"
   ]
  },
  {
   "cell_type": "code",
   "execution_count": 33,
   "id": "da45c1e8",
   "metadata": {},
   "outputs": [],
   "source": [
    "optimizer = torch.optim.Adam(model.parameters(),lr = learning_rate)"
   ]
  },
  {
   "cell_type": "code",
   "execution_count": 34,
   "id": "e942bd64",
   "metadata": {},
   "outputs": [
    {
     "name": "stdout",
     "output_type": "stream",
     "text": [
      "Train Epoch: 1 [0/12069 (0%)]\tLoss: 0.717784\n",
      "Train Epoch: 1 [1280/12069 (11%)]\tLoss: 0.492049\n",
      "Train Epoch: 1 [2560/12069 (21%)]\tLoss: 0.532301\n",
      "Train Epoch: 1 [3840/12069 (32%)]\tLoss: 0.519794\n",
      "Train Epoch: 1 [5120/12069 (42%)]\tLoss: 0.511007\n",
      "Train Epoch: 1 [6400/12069 (53%)]\tLoss: 0.481499\n",
      "Train Epoch: 1 [7680/12069 (63%)]\tLoss: 0.452076\n",
      "Train Epoch: 1 [8960/12069 (74%)]\tLoss: 0.481050\n",
      "Train Epoch: 1 [10240/12069 (84%)]\tLoss: 0.502173\n",
      "Train Epoch: 1 [11520/12069 (95%)]\tLoss: 0.482177\n",
      "\n",
      "Test set: Average loss: 0.4942, Accuracy: 2156/2587 (83.34%)\n",
      "\n",
      "Trigger times 0\n",
      "Train Epoch: 2 [0/12069 (0%)]\tLoss: 0.493457\n",
      "Train Epoch: 2 [1280/12069 (11%)]\tLoss: 0.443899\n",
      "Train Epoch: 2 [2560/12069 (21%)]\tLoss: 0.481703\n",
      "Train Epoch: 2 [3840/12069 (32%)]\tLoss: 0.492510\n",
      "Train Epoch: 2 [5120/12069 (42%)]\tLoss: 0.460093\n",
      "Train Epoch: 2 [6400/12069 (53%)]\tLoss: 0.450307\n",
      "Train Epoch: 2 [7680/12069 (63%)]\tLoss: 0.449256\n",
      "Train Epoch: 2 [8960/12069 (74%)]\tLoss: 0.495193\n",
      "Train Epoch: 2 [10240/12069 (84%)]\tLoss: 0.436943\n",
      "Train Epoch: 2 [11520/12069 (95%)]\tLoss: 0.459907\n",
      "\n",
      "Test set: Average loss: 0.4603, Accuracy: 2264/2587 (87.51%)\n",
      "\n",
      "Trigger times 0\n",
      "Train Epoch: 3 [0/12069 (0%)]\tLoss: 0.442383\n",
      "Train Epoch: 3 [1280/12069 (11%)]\tLoss: 0.429560\n",
      "Train Epoch: 3 [2560/12069 (21%)]\tLoss: 0.459272\n",
      "Train Epoch: 3 [3840/12069 (32%)]\tLoss: 0.478007\n",
      "Train Epoch: 3 [5120/12069 (42%)]\tLoss: 0.479912\n",
      "Train Epoch: 3 [6400/12069 (53%)]\tLoss: 0.428603\n",
      "Train Epoch: 3 [7680/12069 (63%)]\tLoss: 0.424509\n",
      "Train Epoch: 3 [8960/12069 (74%)]\tLoss: 0.469808\n",
      "Train Epoch: 3 [10240/12069 (84%)]\tLoss: 0.434857\n",
      "Train Epoch: 3 [11520/12069 (95%)]\tLoss: 0.476731\n",
      "\n",
      "Test set: Average loss: 0.4461, Accuracy: 2289/2587 (88.48%)\n",
      "\n",
      "Trigger times 0\n",
      "Train Epoch: 4 [0/12069 (0%)]\tLoss: 0.453177\n",
      "Train Epoch: 4 [1280/12069 (11%)]\tLoss: 0.427698\n",
      "Train Epoch: 4 [2560/12069 (21%)]\tLoss: 0.451408\n",
      "Train Epoch: 4 [3840/12069 (32%)]\tLoss: 0.436555\n",
      "Train Epoch: 4 [5120/12069 (42%)]\tLoss: 0.465964\n",
      "Train Epoch: 4 [6400/12069 (53%)]\tLoss: 0.455532\n",
      "Train Epoch: 4 [7680/12069 (63%)]\tLoss: 0.415203\n",
      "Train Epoch: 4 [8960/12069 (74%)]\tLoss: 0.451378\n",
      "Train Epoch: 4 [10240/12069 (84%)]\tLoss: 0.449901\n",
      "Train Epoch: 4 [11520/12069 (95%)]\tLoss: 0.446520\n",
      "\n",
      "Test set: Average loss: 0.4466, Accuracy: 2291/2587 (88.56%)\n",
      "\n",
      "Trigger times 0\n",
      "Train Epoch: 5 [0/12069 (0%)]\tLoss: 0.450787\n",
      "Train Epoch: 5 [1280/12069 (11%)]\tLoss: 0.457327\n",
      "Train Epoch: 5 [2560/12069 (21%)]\tLoss: 0.437367\n",
      "Train Epoch: 5 [3840/12069 (32%)]\tLoss: 0.421362\n",
      "Train Epoch: 5 [5120/12069 (42%)]\tLoss: 0.425858\n",
      "Train Epoch: 5 [6400/12069 (53%)]\tLoss: 0.414501\n",
      "Train Epoch: 5 [7680/12069 (63%)]\tLoss: 0.404412\n",
      "Train Epoch: 5 [8960/12069 (74%)]\tLoss: 0.429671\n",
      "Train Epoch: 5 [10240/12069 (84%)]\tLoss: 0.437033\n",
      "Train Epoch: 5 [11520/12069 (95%)]\tLoss: 0.467198\n",
      "\n",
      "Test set: Average loss: 0.4436, Accuracy: 2298/2587 (88.83%)\n",
      "\n",
      "Trigger times 0\n",
      "Train Epoch: 6 [0/12069 (0%)]\tLoss: 0.455274\n",
      "Train Epoch: 6 [1280/12069 (11%)]\tLoss: 0.409440\n",
      "Train Epoch: 6 [2560/12069 (21%)]\tLoss: 0.413081\n",
      "Train Epoch: 6 [3840/12069 (32%)]\tLoss: 0.403596\n",
      "Train Epoch: 6 [5120/12069 (42%)]\tLoss: 0.403624\n",
      "Train Epoch: 6 [6400/12069 (53%)]\tLoss: 0.466559\n",
      "Train Epoch: 6 [7680/12069 (63%)]\tLoss: 0.413566\n",
      "Train Epoch: 6 [8960/12069 (74%)]\tLoss: 0.417840\n",
      "Train Epoch: 6 [10240/12069 (84%)]\tLoss: 0.442067\n",
      "Train Epoch: 6 [11520/12069 (95%)]\tLoss: 0.424397\n",
      "\n",
      "Test set: Average loss: 0.4329, Accuracy: 2324/2587 (89.83%)\n",
      "\n",
      "Trigger times 0\n",
      "Train Epoch: 7 [0/12069 (0%)]\tLoss: 0.437281\n",
      "Train Epoch: 7 [1280/12069 (11%)]\tLoss: 0.450601\n",
      "Train Epoch: 7 [2560/12069 (21%)]\tLoss: 0.423991\n",
      "Train Epoch: 7 [3840/12069 (32%)]\tLoss: 0.411230\n",
      "Train Epoch: 7 [5120/12069 (42%)]\tLoss: 0.428429\n",
      "Train Epoch: 7 [6400/12069 (53%)]\tLoss: 0.425621\n",
      "Train Epoch: 7 [7680/12069 (63%)]\tLoss: 0.432379\n",
      "Train Epoch: 7 [8960/12069 (74%)]\tLoss: 0.416096\n",
      "Train Epoch: 7 [10240/12069 (84%)]\tLoss: 0.409589\n",
      "Train Epoch: 7 [11520/12069 (95%)]\tLoss: 0.410033\n",
      "\n",
      "Test set: Average loss: 0.4329, Accuracy: 2281/2587 (88.17%)\n",
      "\n",
      "Trigger times 1\n",
      "Train Epoch: 8 [0/12069 (0%)]\tLoss: 0.411732\n",
      "Train Epoch: 8 [1280/12069 (11%)]\tLoss: 0.466688\n",
      "Train Epoch: 8 [2560/12069 (21%)]\tLoss: 0.400414\n",
      "Train Epoch: 8 [3840/12069 (32%)]\tLoss: 0.389963\n",
      "Train Epoch: 8 [5120/12069 (42%)]\tLoss: 0.413630\n",
      "Train Epoch: 8 [6400/12069 (53%)]\tLoss: 0.443989\n",
      "Train Epoch: 8 [7680/12069 (63%)]\tLoss: 0.424105\n",
      "Train Epoch: 8 [8960/12069 (74%)]\tLoss: 0.468412\n",
      "Train Epoch: 8 [10240/12069 (84%)]\tLoss: 0.411506\n",
      "Train Epoch: 8 [11520/12069 (95%)]\tLoss: 0.419452\n",
      "\n",
      "Test set: Average loss: 0.4428, Accuracy: 2307/2587 (89.18%)\n",
      "\n",
      "Trigger times 0\n",
      "Train Epoch: 9 [0/12069 (0%)]\tLoss: 0.433810\n",
      "Train Epoch: 9 [1280/12069 (11%)]\tLoss: 0.424612\n",
      "Train Epoch: 9 [2560/12069 (21%)]\tLoss: 0.431759\n",
      "Train Epoch: 9 [3840/12069 (32%)]\tLoss: 0.393351\n",
      "Train Epoch: 9 [5120/12069 (42%)]\tLoss: 0.414636\n",
      "Train Epoch: 9 [6400/12069 (53%)]\tLoss: 0.437255\n",
      "Train Epoch: 9 [7680/12069 (63%)]\tLoss: 0.410805\n",
      "Train Epoch: 9 [8960/12069 (74%)]\tLoss: 0.422086\n",
      "Train Epoch: 9 [10240/12069 (84%)]\tLoss: 0.418646\n",
      "Train Epoch: 9 [11520/12069 (95%)]\tLoss: 0.434226\n",
      "\n",
      "Test set: Average loss: 0.4203, Accuracy: 2334/2587 (90.22%)\n",
      "\n",
      "Trigger times 0\n",
      "Train Epoch: 10 [0/12069 (0%)]\tLoss: 0.418191\n",
      "Train Epoch: 10 [1280/12069 (11%)]\tLoss: 0.425270\n",
      "Train Epoch: 10 [2560/12069 (21%)]\tLoss: 0.414131\n",
      "Train Epoch: 10 [3840/12069 (32%)]\tLoss: 0.411065\n",
      "Train Epoch: 10 [5120/12069 (42%)]\tLoss: 0.434299\n",
      "Train Epoch: 10 [6400/12069 (53%)]\tLoss: 0.425571\n",
      "Train Epoch: 10 [7680/12069 (63%)]\tLoss: 0.397357\n",
      "Train Epoch: 10 [8960/12069 (74%)]\tLoss: 0.406430\n",
      "Train Epoch: 10 [10240/12069 (84%)]\tLoss: 0.411086\n",
      "Train Epoch: 10 [11520/12069 (95%)]\tLoss: 0.399215\n",
      "\n",
      "Test set: Average loss: 0.4274, Accuracy: 2322/2587 (89.76%)\n",
      "\n",
      "Trigger times 1\n",
      "Train Epoch: 11 [0/12069 (0%)]\tLoss: 0.391287\n",
      "Train Epoch: 11 [1280/12069 (11%)]\tLoss: 0.432149\n",
      "Train Epoch: 11 [2560/12069 (21%)]\tLoss: 0.397259\n",
      "Train Epoch: 11 [3840/12069 (32%)]\tLoss: 0.388740\n",
      "Train Epoch: 11 [5120/12069 (42%)]\tLoss: 0.411256\n",
      "Train Epoch: 11 [6400/12069 (53%)]\tLoss: 0.390259\n",
      "Train Epoch: 11 [7680/12069 (63%)]\tLoss: 0.396265\n",
      "Train Epoch: 11 [8960/12069 (74%)]\tLoss: 0.397660\n",
      "Train Epoch: 11 [10240/12069 (84%)]\tLoss: 0.434621\n",
      "Train Epoch: 11 [11520/12069 (95%)]\tLoss: 0.383476\n",
      "\n",
      "Test set: Average loss: 0.4155, Accuracy: 2346/2587 (90.68%)\n",
      "\n",
      "Trigger times 0\n",
      "Train Epoch: 12 [0/12069 (0%)]\tLoss: 0.385925\n",
      "Train Epoch: 12 [1280/12069 (11%)]\tLoss: 0.374543\n",
      "Train Epoch: 12 [2560/12069 (21%)]\tLoss: 0.385054\n",
      "Train Epoch: 12 [3840/12069 (32%)]\tLoss: 0.400249\n",
      "Train Epoch: 12 [5120/12069 (42%)]\tLoss: 0.385428\n",
      "Train Epoch: 12 [6400/12069 (53%)]\tLoss: 0.410306\n",
      "Train Epoch: 12 [7680/12069 (63%)]\tLoss: 0.382607\n",
      "Train Epoch: 12 [8960/12069 (74%)]\tLoss: 0.430787\n",
      "Train Epoch: 12 [10240/12069 (84%)]\tLoss: 0.411330\n",
      "Train Epoch: 12 [11520/12069 (95%)]\tLoss: 0.398140\n",
      "\n",
      "Test set: Average loss: 0.4168, Accuracy: 2357/2587 (91.11%)\n",
      "\n",
      "Trigger times 0\n",
      "Train Epoch: 13 [0/12069 (0%)]\tLoss: 0.398333\n",
      "Train Epoch: 13 [1280/12069 (11%)]\tLoss: 0.383939\n",
      "Train Epoch: 13 [2560/12069 (21%)]\tLoss: 0.411647\n",
      "Train Epoch: 13 [3840/12069 (32%)]\tLoss: 0.415558\n",
      "Train Epoch: 13 [5120/12069 (42%)]\tLoss: 0.395663\n",
      "Train Epoch: 13 [6400/12069 (53%)]\tLoss: 0.379488\n",
      "Train Epoch: 13 [7680/12069 (63%)]\tLoss: 0.416505\n",
      "Train Epoch: 13 [8960/12069 (74%)]\tLoss: 0.407742\n",
      "Train Epoch: 13 [10240/12069 (84%)]\tLoss: 0.387302\n",
      "Train Epoch: 13 [11520/12069 (95%)]\tLoss: 0.381172\n",
      "\n",
      "Test set: Average loss: 0.4146, Accuracy: 2351/2587 (90.88%)\n",
      "\n",
      "Trigger times 1\n",
      "Train Epoch: 14 [0/12069 (0%)]\tLoss: 0.373243\n",
      "Train Epoch: 14 [1280/12069 (11%)]\tLoss: 0.382280\n",
      "Train Epoch: 14 [2560/12069 (21%)]\tLoss: 0.389366\n",
      "Train Epoch: 14 [3840/12069 (32%)]\tLoss: 0.385861\n",
      "Train Epoch: 14 [5120/12069 (42%)]\tLoss: 0.396150\n",
      "Train Epoch: 14 [6400/12069 (53%)]\tLoss: 0.391357\n",
      "Train Epoch: 14 [7680/12069 (63%)]\tLoss: 0.387431\n",
      "Train Epoch: 14 [8960/12069 (74%)]\tLoss: 0.390893\n",
      "Train Epoch: 14 [10240/12069 (84%)]\tLoss: 0.419973\n",
      "Train Epoch: 14 [11520/12069 (95%)]\tLoss: 0.371895\n",
      "\n",
      "Test set: Average loss: 0.4167, Accuracy: 2349/2587 (90.80%)\n",
      "\n",
      "Trigger times 2\n",
      "Train Epoch: 15 [0/12069 (0%)]\tLoss: 0.379604\n",
      "Train Epoch: 15 [1280/12069 (11%)]\tLoss: 0.380115\n",
      "Train Epoch: 15 [2560/12069 (21%)]\tLoss: 0.415561\n",
      "Train Epoch: 15 [3840/12069 (32%)]\tLoss: 0.401334\n",
      "Train Epoch: 15 [5120/12069 (42%)]\tLoss: 0.381237\n"
     ]
    },
    {
     "name": "stdout",
     "output_type": "stream",
     "text": [
      "Train Epoch: 15 [6400/12069 (53%)]\tLoss: 0.384068\n",
      "Train Epoch: 15 [7680/12069 (63%)]\tLoss: 0.385009\n",
      "Train Epoch: 15 [8960/12069 (74%)]\tLoss: 0.385623\n",
      "Train Epoch: 15 [10240/12069 (84%)]\tLoss: 0.412889\n",
      "Train Epoch: 15 [11520/12069 (95%)]\tLoss: 0.392047\n",
      "\n",
      "Test set: Average loss: 0.4150, Accuracy: 2349/2587 (90.80%)\n",
      "\n",
      "Trigger times 0\n",
      "Train Epoch: 16 [0/12069 (0%)]\tLoss: 0.383815\n",
      "Train Epoch: 16 [1280/12069 (11%)]\tLoss: 0.406571\n",
      "Train Epoch: 16 [2560/12069 (21%)]\tLoss: 0.425792\n",
      "Train Epoch: 16 [3840/12069 (32%)]\tLoss: 0.405306\n",
      "Train Epoch: 16 [5120/12069 (42%)]\tLoss: 0.420176\n",
      "Train Epoch: 16 [6400/12069 (53%)]\tLoss: 0.423034\n",
      "Train Epoch: 16 [7680/12069 (63%)]\tLoss: 0.374691\n",
      "Train Epoch: 16 [8960/12069 (74%)]\tLoss: 0.382728\n",
      "Train Epoch: 16 [10240/12069 (84%)]\tLoss: 0.394436\n",
      "Train Epoch: 16 [11520/12069 (95%)]\tLoss: 0.400267\n",
      "\n",
      "Test set: Average loss: 0.4175, Accuracy: 2342/2587 (90.53%)\n",
      "\n",
      "Trigger times 1\n",
      "Train Epoch: 17 [0/12069 (0%)]\tLoss: 0.390938\n",
      "Train Epoch: 17 [1280/12069 (11%)]\tLoss: 0.380294\n",
      "Train Epoch: 17 [2560/12069 (21%)]\tLoss: 0.391893\n",
      "Train Epoch: 17 [3840/12069 (32%)]\tLoss: 0.381796\n",
      "Train Epoch: 17 [5120/12069 (42%)]\tLoss: 0.412505\n",
      "Train Epoch: 17 [6400/12069 (53%)]\tLoss: 0.381393\n",
      "Train Epoch: 17 [7680/12069 (63%)]\tLoss: 0.399532\n",
      "Train Epoch: 17 [8960/12069 (74%)]\tLoss: 0.418542\n",
      "Train Epoch: 17 [10240/12069 (84%)]\tLoss: 0.376793\n",
      "Train Epoch: 17 [11520/12069 (95%)]\tLoss: 0.405277\n",
      "\n",
      "Test set: Average loss: 0.4154, Accuracy: 2342/2587 (90.53%)\n",
      "\n",
      "Trigger times 0\n",
      "Train Epoch: 18 [0/12069 (0%)]\tLoss: 0.392843\n",
      "Train Epoch: 18 [1280/12069 (11%)]\tLoss: 0.370820\n",
      "Train Epoch: 18 [2560/12069 (21%)]\tLoss: 0.404996\n",
      "Train Epoch: 18 [3840/12069 (32%)]\tLoss: 0.381080\n",
      "Train Epoch: 18 [5120/12069 (42%)]\tLoss: 0.391851\n",
      "Train Epoch: 18 [6400/12069 (53%)]\tLoss: 0.380830\n",
      "Train Epoch: 18 [7680/12069 (63%)]\tLoss: 0.395999\n",
      "Train Epoch: 18 [8960/12069 (74%)]\tLoss: 0.376640\n",
      "Train Epoch: 18 [10240/12069 (84%)]\tLoss: 0.380835\n",
      "Train Epoch: 18 [11520/12069 (95%)]\tLoss: 0.392828\n",
      "\n",
      "Test set: Average loss: 0.4178, Accuracy: 2342/2587 (90.53%)\n",
      "\n",
      "Trigger times 0\n",
      "Train Epoch: 19 [0/12069 (0%)]\tLoss: 0.364409\n",
      "Train Epoch: 19 [1280/12069 (11%)]\tLoss: 0.378798\n",
      "Train Epoch: 19 [2560/12069 (21%)]\tLoss: 0.399071\n",
      "Train Epoch: 19 [3840/12069 (32%)]\tLoss: 0.416712\n",
      "Train Epoch: 19 [5120/12069 (42%)]\tLoss: 0.377132\n",
      "Train Epoch: 19 [6400/12069 (53%)]\tLoss: 0.421225\n",
      "Train Epoch: 19 [7680/12069 (63%)]\tLoss: 0.368215\n",
      "Train Epoch: 19 [8960/12069 (74%)]\tLoss: 0.378067\n",
      "Train Epoch: 19 [10240/12069 (84%)]\tLoss: 0.379702\n",
      "Train Epoch: 19 [11520/12069 (95%)]\tLoss: 0.403375\n",
      "\n",
      "Test set: Average loss: 0.4138, Accuracy: 2346/2587 (90.68%)\n",
      "\n",
      "Trigger times 0\n",
      "Train Epoch: 20 [0/12069 (0%)]\tLoss: 0.402974\n",
      "Train Epoch: 20 [1280/12069 (11%)]\tLoss: 0.384725\n",
      "Train Epoch: 20 [2560/12069 (21%)]\tLoss: 0.362281\n",
      "Train Epoch: 20 [3840/12069 (32%)]\tLoss: 0.386874\n",
      "Train Epoch: 20 [5120/12069 (42%)]\tLoss: 0.391986\n",
      "Train Epoch: 20 [6400/12069 (53%)]\tLoss: 0.356066\n",
      "Train Epoch: 20 [7680/12069 (63%)]\tLoss: 0.375416\n",
      "Train Epoch: 20 [8960/12069 (74%)]\tLoss: 0.391165\n",
      "Train Epoch: 20 [10240/12069 (84%)]\tLoss: 0.392363\n",
      "Train Epoch: 20 [11520/12069 (95%)]\tLoss: 0.407435\n",
      "\n",
      "Test set: Average loss: 0.4154, Accuracy: 2344/2587 (90.61%)\n",
      "\n",
      "Trigger times 1\n",
      "Train Epoch: 21 [0/12069 (0%)]\tLoss: 0.382959\n",
      "Train Epoch: 21 [1280/12069 (11%)]\tLoss: 0.399344\n",
      "Train Epoch: 21 [2560/12069 (21%)]\tLoss: 0.366524\n",
      "Train Epoch: 21 [3840/12069 (32%)]\tLoss: 0.385065\n",
      "Train Epoch: 21 [5120/12069 (42%)]\tLoss: 0.404363\n",
      "Train Epoch: 21 [6400/12069 (53%)]\tLoss: 0.391480\n",
      "Train Epoch: 21 [7680/12069 (63%)]\tLoss: 0.377863\n",
      "Train Epoch: 21 [8960/12069 (74%)]\tLoss: 0.389304\n",
      "Train Epoch: 21 [10240/12069 (84%)]\tLoss: 0.383452\n",
      "Train Epoch: 21 [11520/12069 (95%)]\tLoss: 0.399147\n",
      "\n",
      "Test set: Average loss: 0.4146, Accuracy: 2338/2587 (90.37%)\n",
      "\n",
      "Trigger times 2\n",
      "Train Epoch: 22 [0/12069 (0%)]\tLoss: 0.401205\n",
      "Train Epoch: 22 [1280/12069 (11%)]\tLoss: 0.398746\n",
      "Train Epoch: 22 [2560/12069 (21%)]\tLoss: 0.376150\n",
      "Train Epoch: 22 [3840/12069 (32%)]\tLoss: 0.416188\n",
      "Train Epoch: 22 [5120/12069 (42%)]\tLoss: 0.398142\n",
      "Train Epoch: 22 [6400/12069 (53%)]\tLoss: 0.352032\n",
      "Train Epoch: 22 [7680/12069 (63%)]\tLoss: 0.351172\n",
      "Train Epoch: 22 [8960/12069 (74%)]\tLoss: 0.384355\n",
      "Train Epoch: 22 [10240/12069 (84%)]\tLoss: 0.383046\n",
      "Train Epoch: 22 [11520/12069 (95%)]\tLoss: 0.395662\n",
      "\n",
      "Test set: Average loss: 0.4151, Accuracy: 2343/2587 (90.57%)\n",
      "\n",
      "Trigger times 0\n",
      "Train Epoch: 23 [0/12069 (0%)]\tLoss: 0.378944\n",
      "Train Epoch: 23 [1280/12069 (11%)]\tLoss: 0.384698\n",
      "Train Epoch: 23 [2560/12069 (21%)]\tLoss: 0.384722\n",
      "Train Epoch: 23 [3840/12069 (32%)]\tLoss: 0.366342\n",
      "Train Epoch: 23 [5120/12069 (42%)]\tLoss: 0.367222\n",
      "Train Epoch: 23 [6400/12069 (53%)]\tLoss: 0.382808\n",
      "Train Epoch: 23 [7680/12069 (63%)]\tLoss: 0.360366\n",
      "Train Epoch: 23 [8960/12069 (74%)]\tLoss: 0.396321\n",
      "Train Epoch: 23 [10240/12069 (84%)]\tLoss: 0.386287\n",
      "Train Epoch: 23 [11520/12069 (95%)]\tLoss: 0.365305\n",
      "\n",
      "Test set: Average loss: 0.4145, Accuracy: 2349/2587 (90.80%)\n",
      "\n",
      "Trigger times 0\n",
      "Train Epoch: 24 [0/12069 (0%)]\tLoss: 0.379511\n",
      "Train Epoch: 24 [1280/12069 (11%)]\tLoss: 0.376221\n",
      "Train Epoch: 24 [2560/12069 (21%)]\tLoss: 0.368948\n",
      "Train Epoch: 24 [3840/12069 (32%)]\tLoss: 0.369908\n",
      "Train Epoch: 24 [5120/12069 (42%)]\tLoss: 0.394146\n",
      "Train Epoch: 24 [6400/12069 (53%)]\tLoss: 0.386425\n",
      "Train Epoch: 24 [7680/12069 (63%)]\tLoss: 0.374947\n",
      "Train Epoch: 24 [8960/12069 (74%)]\tLoss: 0.360698\n",
      "Train Epoch: 24 [10240/12069 (84%)]\tLoss: 0.402671\n",
      "Train Epoch: 24 [11520/12069 (95%)]\tLoss: 0.356644\n",
      "\n",
      "Test set: Average loss: 0.4171, Accuracy: 2343/2587 (90.57%)\n",
      "\n",
      "Trigger times 1\n",
      "Train Epoch: 25 [0/12069 (0%)]\tLoss: 0.381583\n",
      "Train Epoch: 25 [1280/12069 (11%)]\tLoss: 0.363344\n",
      "Train Epoch: 25 [2560/12069 (21%)]\tLoss: 0.396795\n",
      "Train Epoch: 25 [3840/12069 (32%)]\tLoss: 0.385770\n",
      "Train Epoch: 25 [5120/12069 (42%)]\tLoss: 0.369863\n",
      "Train Epoch: 25 [6400/12069 (53%)]\tLoss: 0.408520\n",
      "Train Epoch: 25 [7680/12069 (63%)]\tLoss: 0.389834\n",
      "Train Epoch: 25 [8960/12069 (74%)]\tLoss: 0.377913\n",
      "Train Epoch: 25 [10240/12069 (84%)]\tLoss: 0.365757\n",
      "Train Epoch: 25 [11520/12069 (95%)]\tLoss: 0.370836\n",
      "\n",
      "Test set: Average loss: 0.4158, Accuracy: 2345/2587 (90.65%)\n",
      "\n",
      "Trigger times 0\n",
      "Train Epoch: 26 [0/12069 (0%)]\tLoss: 0.388381\n",
      "Train Epoch: 26 [1280/12069 (11%)]\tLoss: 0.348808\n",
      "Train Epoch: 26 [2560/12069 (21%)]\tLoss: 0.387420\n",
      "Train Epoch: 26 [3840/12069 (32%)]\tLoss: 0.370118\n",
      "Train Epoch: 26 [5120/12069 (42%)]\tLoss: 0.375210\n",
      "Train Epoch: 26 [6400/12069 (53%)]\tLoss: 0.369614\n",
      "Train Epoch: 26 [7680/12069 (63%)]\tLoss: 0.387300\n",
      "Train Epoch: 26 [8960/12069 (74%)]\tLoss: 0.373760\n",
      "Train Epoch: 26 [10240/12069 (84%)]\tLoss: 0.377210\n",
      "Train Epoch: 26 [11520/12069 (95%)]\tLoss: 0.383688\n",
      "\n",
      "Test set: Average loss: 0.4163, Accuracy: 2338/2587 (90.37%)\n",
      "\n",
      "Trigger times 1\n",
      "Train Epoch: 27 [0/12069 (0%)]\tLoss: 0.366226\n",
      "Train Epoch: 27 [1280/12069 (11%)]\tLoss: 0.364005\n",
      "Train Epoch: 27 [2560/12069 (21%)]\tLoss: 0.372854\n",
      "Train Epoch: 27 [3840/12069 (32%)]\tLoss: 0.392411\n",
      "Train Epoch: 27 [5120/12069 (42%)]\tLoss: 0.366672\n",
      "Train Epoch: 27 [6400/12069 (53%)]\tLoss: 0.375733\n",
      "Train Epoch: 27 [7680/12069 (63%)]\tLoss: 0.376484\n",
      "Train Epoch: 27 [8960/12069 (74%)]\tLoss: 0.367015\n",
      "Train Epoch: 27 [10240/12069 (84%)]\tLoss: 0.396988\n",
      "Train Epoch: 27 [11520/12069 (95%)]\tLoss: 0.381683\n",
      "\n",
      "Test set: Average loss: 0.4144, Accuracy: 2334/2587 (90.22%)\n",
      "\n",
      "Trigger times 2\n",
      "Train Epoch: 28 [0/12069 (0%)]\tLoss: 0.375789\n",
      "Train Epoch: 28 [1280/12069 (11%)]\tLoss: 0.377708\n",
      "Train Epoch: 28 [2560/12069 (21%)]\tLoss: 0.377838\n",
      "Train Epoch: 28 [3840/12069 (32%)]\tLoss: 0.374866\n",
      "Train Epoch: 28 [5120/12069 (42%)]\tLoss: 0.357809\n",
      "Train Epoch: 28 [6400/12069 (53%)]\tLoss: 0.368590\n",
      "Train Epoch: 28 [7680/12069 (63%)]\tLoss: 0.373341\n",
      "Train Epoch: 28 [8960/12069 (74%)]\tLoss: 0.390386\n",
      "Train Epoch: 28 [10240/12069 (84%)]\tLoss: 0.361138\n",
      "Train Epoch: 28 [11520/12069 (95%)]\tLoss: 0.372415\n",
      "\n",
      "Test set: Average loss: 0.4142, Accuracy: 2347/2587 (90.72%)\n",
      "\n",
      "Trigger times 0\n",
      "Train Epoch: 29 [0/12069 (0%)]\tLoss: 0.368455\n",
      "Train Epoch: 29 [1280/12069 (11%)]\tLoss: 0.360755\n",
      "Train Epoch: 29 [2560/12069 (21%)]\tLoss: 0.368143\n",
      "Train Epoch: 29 [3840/12069 (32%)]\tLoss: 0.363315\n",
      "Train Epoch: 29 [5120/12069 (42%)]\tLoss: 0.386612\n",
      "Train Epoch: 29 [6400/12069 (53%)]\tLoss: 0.364092\n",
      "Train Epoch: 29 [7680/12069 (63%)]\tLoss: 0.365581\n",
      "Train Epoch: 29 [8960/12069 (74%)]\tLoss: 0.395072\n"
     ]
    },
    {
     "name": "stdout",
     "output_type": "stream",
     "text": [
      "Train Epoch: 29 [10240/12069 (84%)]\tLoss: 0.370441\n",
      "Train Epoch: 29 [11520/12069 (95%)]\tLoss: 0.379678\n",
      "\n",
      "Test set: Average loss: 0.4131, Accuracy: 2345/2587 (90.65%)\n",
      "\n",
      "Trigger times 1\n",
      "Train Epoch: 30 [0/12069 (0%)]\tLoss: 0.364397\n",
      "Train Epoch: 30 [1280/12069 (11%)]\tLoss: 0.357830\n",
      "Train Epoch: 30 [2560/12069 (21%)]\tLoss: 0.354169\n",
      "Train Epoch: 30 [3840/12069 (32%)]\tLoss: 0.356933\n",
      "Train Epoch: 30 [5120/12069 (42%)]\tLoss: 0.381027\n",
      "Train Epoch: 30 [6400/12069 (53%)]\tLoss: 0.391111\n",
      "Train Epoch: 30 [7680/12069 (63%)]\tLoss: 0.373171\n",
      "Train Epoch: 30 [8960/12069 (74%)]\tLoss: 0.356823\n",
      "Train Epoch: 30 [10240/12069 (84%)]\tLoss: 0.388773\n",
      "Train Epoch: 30 [11520/12069 (95%)]\tLoss: 0.382775\n",
      "\n",
      "Test set: Average loss: 0.4134, Accuracy: 2337/2587 (90.34%)\n",
      "\n",
      "Trigger times 2\n"
     ]
    }
   ],
   "source": [
    "loss_train, loss_valid, accuracy = training(30, model, optimizer, loss_function, learning_rate_2, train_loader, valid_loader)"
   ]
  },
  {
   "cell_type": "code",
   "execution_count": 35,
   "id": "e7915316",
   "metadata": {},
   "outputs": [
    {
     "name": "stdout",
     "output_type": "stream",
     "text": [
      "[[1403  135]\n",
      " [ 122  926]]\n",
      "Accuracy = 0.9006187161639598\n"
     ]
    },
    {
     "data": {
      "text/plain": [
       "0.9006187161639598"
      ]
     },
     "execution_count": 35,
     "metadata": {},
     "output_type": "execute_result"
    }
   ],
   "source": [
    "print_confusion_matrix(model, X_test_idx, y_test)"
   ]
  },
  {
   "cell_type": "code",
   "execution_count": 36,
   "id": "cfad5f04",
   "metadata": {},
   "outputs": [
    {
     "data": {
      "image/png": "[encoded data removed]",
      "text/plain": [
       "<Figure size 432x288 with 1 Axes>"
      ]
     },
     "metadata": {
      "needs_background": "light"
     },
     "output_type": "display_data"
    }
   ],
   "source": [
    "plt.plot(loss_train, label = 'Train Loss')\n",
    "plt.plot(loss_valid, label = 'Validation Loss')\n",
    "plt.legend()\n",
    "plt.show()"
   ]
  },
  {
   "cell_type": "code",
   "execution_count": 37,
   "id": "f2ac5d29",
   "metadata": {},
   "outputs": [
    {
     "data": {
      "image/png": "[encoded data removed]",
      "text/plain": [
       "<Figure size 432x288 with 1 Axes>"
      ]
     },
     "metadata": {
      "needs_background": "light"
     },
     "output_type": "display_data"
    }
   ],
   "source": [
    "plt.plot(accuracy, label = 'accuracy')\n",
    "plt.legend()\n",
    "plt.show()"
   ]
  },
  {
   "cell_type": "code",
   "execution_count": 38,
   "id": "00c3b059",
   "metadata": {},
   "outputs": [
    {
     "name": "stdout",
     "output_type": "stream",
     "text": [
      "Best accuracy:  0.91109395  Epoch:  12\n"
     ]
    }
   ],
   "source": [
    "print(\"Best accuracy: \",np.max(accuracy),\" Epoch: \", np.argmax(accuracy)+1)"
   ]
  },
  {
   "cell_type": "code",
   "execution_count": 39,
   "id": "68c019e0",
   "metadata": {},
   "outputs": [],
   "source": [
    "model.eval()\n",
    "y_pred = model(torch.Tensor(X_test_idx)).data.numpy().argmax(axis = 1)"
   ]
  },
  {
   "cell_type": "code",
   "execution_count": 40,
   "id": "152fd1a0",
   "metadata": {},
   "outputs": [
    {
     "name": "stdout",
     "output_type": "stream",
     "text": [
      "              precision    recall  f1-score   support\n",
      "\n",
      "           0       0.92      0.91      0.92      1538\n",
      "           1       0.87      0.88      0.88      1048\n",
      "\n",
      "    accuracy                           0.90      2586\n",
      "   macro avg       0.90      0.90      0.90      2586\n",
      "weighted avg       0.90      0.90      0.90      2586\n",
      "\n"
     ]
    }
   ],
   "source": [
    "print(classification_report(y_test, y_pred))"
   ]
  },
  {
   "cell_type": "code",
   "execution_count": 41,
   "id": "a91c030b",
   "metadata": {},
   "outputs": [
    {
     "data": {
      "image/png": "[encoded data removed]",
      "text/plain": [
       "<Figure size 432x288 with 2 Axes>"
      ]
     },
     "metadata": {
      "needs_background": "light"
     },
     "output_type": "display_data"
    }
   ],
   "source": [
    "cm = confusion_matrix(y_test,y_pred)\n",
    "#sns.set(rc = {'figure.figsize':(15,15)})\n",
    "f = sns.heatmap(cm, annot=True, fmt='d', cmap='coolwarm', center = 0)"
   ]
  },
  {
   "cell_type": "code",
   "execution_count": null,
   "id": "4c669b14",
   "metadata": {},
   "outputs": [],
   "source": []
  },
  {
   "cell_type": "code",
   "execution_count": null,
   "id": "73df9ced",
   "metadata": {},
   "outputs": [],
   "source": []
  }
 ],
 "metadata": {
  "kernelspec": {
   "display_name": "Python 3 (ipykernel)",
   "language": "python",
   "name": "python3"
  },
  "language_info": {
   "codemirror_mode": {
    "name": "ipython",
    "version": 3
   },
   "file_extension": ".py",
   "mimetype": "text/x-python",
   "name": "python",
   "nbconvert_exporter": "python",
   "pygments_lexer": "ipython3",
   "version": "3.9.7"
  }
 },
 "nbformat": 4,
 "nbformat_minor": 5
}
