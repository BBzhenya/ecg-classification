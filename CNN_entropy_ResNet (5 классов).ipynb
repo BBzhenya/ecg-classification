{
 "cells": [
  {
   "cell_type": "code",
   "execution_count": 1,
   "id": "07e0ce23",
   "metadata": {},
   "outputs": [],
   "source": [
    "import torch \n",
    "import torch.nn as nn \n",
    "import numpy as np\n",
    "import matplotlib.pyplot as plt\n",
    "import pandas as pd\n",
    "%matplotlib inline"
   ]
  },
  {
   "cell_type": "code",
   "execution_count": 2,
   "id": "0ebcb1bb",
   "metadata": {},
   "outputs": [],
   "source": [
    "import seaborn as sns"
   ]
  },
  {
   "cell_type": "code",
   "execution_count": 3,
   "id": "d9bd41af",
   "metadata": {},
   "outputs": [],
   "source": [
    "from torch.utils.data import TensorDataset, DataLoader"
   ]
  },
  {
   "cell_type": "code",
   "execution_count": 4,
   "id": "2b035aad",
   "metadata": {},
   "outputs": [],
   "source": [
    "from sklearn.metrics import classification_report"
   ]
  },
  {
   "cell_type": "code",
   "execution_count": 5,
   "id": "3d648bdf",
   "metadata": {},
   "outputs": [],
   "source": [
    "path_to_train='Train/'\n",
    "path_to_valid = 'Valid/'\n",
    "path_to_test='Test/'"
   ]
  },
  {
   "cell_type": "code",
   "execution_count": 6,
   "id": "2100ecab",
   "metadata": {},
   "outputs": [],
   "source": [
    "path_to_entropy='Entropy/'"
   ]
  },
  {
   "cell_type": "code",
   "execution_count": 7,
   "id": "3e5fa5a4",
   "metadata": {},
   "outputs": [],
   "source": [
    "X_train=np.load(path_to_train+\"X_train.npy\")\n",
    "X_valid=np.load(path_to_valid+\"X_valid.npy\")"
   ]
  },
  {
   "cell_type": "code",
   "execution_count": 8,
   "id": "85e991fb",
   "metadata": {},
   "outputs": [],
   "source": [
    "y_train_superclass=np.load(path_to_train+\"y_train_superclass.npy\")\n",
    "y_valid_superclass=np.load(path_to_valid+\"y_valid_superclass.npy\")"
   ]
  },
  {
   "cell_type": "code",
   "execution_count": 9,
   "id": "dfebc24c",
   "metadata": {},
   "outputs": [],
   "source": [
    "X_test=np.load(path_to_test+\"X_test.npy\")\n",
    "y_test=np.load(path_to_test+\"y_test_superclass.npy\")"
   ]
  },
  {
   "cell_type": "code",
   "execution_count": 10,
   "id": "1d63ce76",
   "metadata": {},
   "outputs": [],
   "source": [
    "X_entropy = np.load(path_to_entropy+\"X_entropy_file.npy\")"
   ]
  },
  {
   "cell_type": "code",
   "execution_count": 11,
   "id": "59ec89d1",
   "metadata": {},
   "outputs": [
    {
     "data": {
      "text/plain": [
       "(12069, 2587, 2586)"
      ]
     },
     "execution_count": 11,
     "metadata": {},
     "output_type": "execute_result"
    }
   ],
   "source": [
    "X_train.shape[0], X_valid.shape[0], X_test.shape[0]"
   ]
  },
  {
   "cell_type": "code",
   "execution_count": 12,
   "id": "094cd325",
   "metadata": {},
   "outputs": [],
   "source": [
    "X_train_idx = np.array([range(X_train.shape[0])])"
   ]
  },
  {
   "cell_type": "code",
   "execution_count": 13,
   "id": "6e2ccd31",
   "metadata": {},
   "outputs": [],
   "source": [
    "X_valid_idx = np.array([range(X_train.shape[0], X_train.shape[0]+X_valid.shape[0])])"
   ]
  },
  {
   "cell_type": "code",
   "execution_count": 14,
   "id": "428b9e75",
   "metadata": {},
   "outputs": [],
   "source": [
    "X_test_idx = np.array([range(X_train.shape[0]+X_valid.shape[0], X_train.shape[0]+X_valid.shape[0]+X_test.shape[0])])"
   ]
  },
  {
   "cell_type": "code",
   "execution_count": 15,
   "id": "b4c40d97",
   "metadata": {},
   "outputs": [],
   "source": [
    "X_train_idx = np.squeeze(X_train_idx)"
   ]
  },
  {
   "cell_type": "code",
   "execution_count": 16,
   "id": "9e5f917e",
   "metadata": {},
   "outputs": [],
   "source": [
    "X_valid_idx = np.squeeze(X_valid_idx)"
   ]
  },
  {
   "cell_type": "code",
   "execution_count": 17,
   "id": "337eb54e",
   "metadata": {},
   "outputs": [],
   "source": [
    "X_test_idx = np.squeeze(X_test_idx)"
   ]
  },
  {
   "cell_type": "code",
   "execution_count": 18,
   "id": "3cc6d42a",
   "metadata": {},
   "outputs": [],
   "source": [
    "batch_size = 128"
   ]
  },
  {
   "cell_type": "code",
   "execution_count": 19,
   "id": "c514e2fb",
   "metadata": {},
   "outputs": [],
   "source": [
    "X_train_tensor = torch.Tensor(X_train_idx)\n",
    "y_train_tensor = torch.LongTensor(y_train_superclass)\n",
    "\n",
    "train_dataset = TensorDataset(X_train_tensor, y_train_tensor)\n",
    "train_loader = DataLoader(train_dataset, batch_size = batch_size, shuffle = True)\n",
    "\n",
    "X_valid_tensor = torch.Tensor(X_valid_idx)\n",
    "y_valid_tensor = torch.LongTensor(y_valid_superclass)\n",
    "\n",
    "valid_dataset = TensorDataset(X_valid_tensor, y_valid_tensor)\n",
    "valid_loader = DataLoader(valid_dataset, batch_size = batch_size, shuffle = True)"
   ]
  },
  {
   "cell_type": "code",
   "execution_count": 20,
   "id": "44e3e4bf",
   "metadata": {},
   "outputs": [],
   "source": [
    "X_array = np.concatenate((X_train, X_valid, X_test))    "
   ]
  },
  {
   "cell_type": "code",
   "execution_count": 21,
   "id": "d55b63b7",
   "metadata": {},
   "outputs": [],
   "source": [
    "del X_train\n",
    "del X_valid\n",
    "del X_test"
   ]
  },
  {
   "cell_type": "code",
   "execution_count": 22,
   "id": "579c3fa1",
   "metadata": {},
   "outputs": [],
   "source": [
    "del y_train_superclass\n",
    "del y_valid_superclass\n",
    "\n",
    "del X_train_tensor\n",
    "del y_train_tensor\n",
    "\n",
    "del X_valid_tensor\n",
    "del y_valid_tensor"
   ]
  },
  {
   "cell_type": "code",
   "execution_count": 23,
   "id": "99e8d545",
   "metadata": {},
   "outputs": [],
   "source": [
    "def train(epoch,my_model, data_loader, optimizer, loss_function):\n",
    "    losses=[]\n",
    "    my_model.train()\n",
    "    for batch_idx, (X_batch, y_batch) in enumerate(data_loader):\n",
    "        optimizer.zero_grad()\n",
    "        output = my_model(X_batch)\n",
    "        loss = loss_function(output, y_batch)\n",
    "        loss.backward()\n",
    "        optimizer.step()\n",
    "        if batch_idx % 10 == 0:\n",
    "            print('Train Epoch: {} [{}/{} ({:.0f}%)]\\tLoss: {:.6f}'.format(\n",
    "            epoch, batch_idx * len(X_batch), len(data_loader.dataset),\n",
    "                100. * batch_idx / len(data_loader), loss.item()))\n",
    "        losses.append(loss.data.numpy())\n",
    "    return np.mean(losses)"
   ]
  },
  {
   "cell_type": "code",
   "execution_count": 24,
   "id": "92e5f853",
   "metadata": {},
   "outputs": [],
   "source": [
    "def test(my_model, data_loader, loss_function):\n",
    "    accuracy_arr = []\n",
    "    my_model.eval()\n",
    "    test_loss = 0\n",
    "    correct = 0\n",
    "    for X_batch, y_batch in data_loader:\n",
    "        output = my_model(X_batch)\n",
    "        test_loss += loss_function(output, y_batch).data\n",
    "        pred = output.data.max(1, keepdim=True)[1]\n",
    "        correct += pred.eq(y_batch.data.view_as(pred)).cpu().sum()\n",
    "\n",
    "    test_loss /= len(data_loader)\n",
    "    acc = correct / len(data_loader.dataset)\n",
    "    print('\\nTest set: Average loss: {:.4f}, Accuracy: {}/{} ({:.2f}%)\\n'.format(\n",
    "        test_loss, correct, len(data_loader.dataset),\n",
    "        100. * correct / len(data_loader.dataset)))\n",
    "    return acc,test_loss"
   ]
  },
  {
   "cell_type": "code",
   "execution_count": 25,
   "id": "417c9750",
   "metadata": {},
   "outputs": [],
   "source": [
    "from sklearn.metrics import confusion_matrix, accuracy_score\n",
    "\n",
    "def print_confusion_matrix(model, X, y):\n",
    "    model.eval()\n",
    "    y_pred = model(torch.Tensor(X)).data.numpy().argmax(axis = 1)\n",
    "    print(confusion_matrix(y, y_pred))\n",
    "    accuracy = accuracy_score(y, y_pred)\n",
    "    print(f\"Accuracy = {accuracy}\")\n",
    "    return accuracy"
   ]
  },
  {
   "cell_type": "code",
   "execution_count": 26,
   "id": "ab45bcef",
   "metadata": {},
   "outputs": [],
   "source": [
    "def training(number_of_epoches, model, optimizer, loss_function, learning_rate, train_loader, valid_loader):\n",
    "    loss_train=[]\n",
    "    loss_valid=[]\n",
    "    acc=[]\n",
    "    best_accuracy, last_accuracy = 0, 0\n",
    "    patience = 3\n",
    "    trigger_times = 0 \n",
    "    \n",
    "    for epoch in range(number_of_epoches):\n",
    "        loss_train.append(train(epoch + 1,model, train_loader, optimizer, loss_function))\n",
    "        accuracy, current_loss = test(model, valid_loader, loss_function)\n",
    "        acc.append(accuracy)\n",
    "        loss_valid.append(current_loss)\n",
    "        if accuracy < last_accuracy:\n",
    "            trigger_times += 1\n",
    "            if trigger_times > patience:\n",
    "                break\n",
    "        else:\n",
    "            trigger_times = 0  \n",
    "        if epoch ==int(number_of_epoches * 0.3):\n",
    "            optimizer = torch.optim.Adam(model.parameters(),lr = learning_rate)    \n",
    "        print(\"Trigger times\", trigger_times) \n",
    "        \n",
    "        if accuracy > best_accuracy:\n",
    "            best_accuracy = accuracy\n",
    "        last_accuracy = accuracy\n",
    "        \n",
    "    return loss_train, loss_valid, acc"
   ]
  },
  {
   "cell_type": "code",
   "execution_count": 27,
   "id": "ff2142d2",
   "metadata": {},
   "outputs": [],
   "source": [
    "loss_function=nn.CrossEntropyLoss()"
   ]
  },
  {
   "cell_type": "code",
   "execution_count": 28,
   "id": "b04e4ce8",
   "metadata": {},
   "outputs": [],
   "source": [
    "learning_rate = 0.001\n",
    "learning_rate_2 = 0.0001"
   ]
  },
  {
   "cell_type": "code",
   "execution_count": 29,
   "id": "654ff832",
   "metadata": {},
   "outputs": [],
   "source": [
    "input_shape=1000"
   ]
  },
  {
   "cell_type": "code",
   "execution_count": 30,
   "id": "cd22d92f",
   "metadata": {},
   "outputs": [],
   "source": [
    "class BasicBlock(nn.Module):\n",
    "    def __init__(self, in_channels, out_channels, kernel_size, stride = 1):\n",
    "        super().__init__()\n",
    "\n",
    "        self.model = nn.Sequential(\n",
    "        nn.Conv1d(in_channels = in_channels, out_channels = out_channels, kernel_size = kernel_size[0], padding = kernel_size[0] //2, stride = stride),\n",
    "        nn.BatchNorm1d(64), nn.LeakyReLU(0.01),\n",
    "        nn.Conv1d(in_channels = out_channels, out_channels = out_channels, kernel_size = kernel_size[1], padding = kernel_size[1] // 2), nn.BatchNorm1d(64)\n",
    "        )\n",
    "        self.leakyReLU = nn.LeakyReLU(0.01)\n",
    "        \n",
    "        self.shortcut = nn.Sequential()\n",
    "        if stride != 1 or in_channels != out_channels:\n",
    "            self.shortcut = nn.Sequential(\n",
    "                nn.Conv1d(in_channels, out_channels, kernel_size = 1, stride = stride)\n",
    "            )\n",
    "        self.bn = nn.BatchNorm1d(out_channels)\n",
    "\n",
    "        \n",
    "    def forward(self, X):\n",
    "        output = self.model(X)\n",
    "        output += self.shortcut(X)\n",
    "        output = self.leakyReLU(output)\n",
    "\n",
    "        return output"
   ]
  },
  {
   "cell_type": "code",
   "execution_count": 31,
   "id": "2d19452b",
   "metadata": {},
   "outputs": [],
   "source": [
    "class CNN_entropy_ResNet(nn.Module):\n",
    "    def __init__(self,in_channels,  input_shape, n_outputs, block, kernel_size = [3,3,3,5,5]):\n",
    "        super().__init__()\n",
    "\n",
    "        self.conv1D_1 = nn.Conv1d(in_channels = in_channels, out_channels = 64, kernel_size = kernel_size[0], padding = 2)\n",
    "        self.bn_1 = nn.BatchNorm1d(64)\n",
    "        self.leakyReLU_1 = nn.LeakyReLU(0.01)\n",
    "    \n",
    "        self.block1 = self.make_layer(block, 64, 64, kernel_size[1:3], 2)\n",
    "        self.block2 = self.make_layer(block, 64, 64, kernel_size[3:], 2)\n",
    "        \n",
    "        self.adAvgPooling = nn.AdaptiveAvgPool1d(2)\n",
    "        self.flatten = nn.Flatten()\n",
    "        self.flatten2 = nn.Flatten()\n",
    "        self.fc = nn.Linear(2 * 64 + 108, n_outputs)\n",
    "        self.bn = nn.BatchNorm1d(n_outputs) \n",
    "        self.softmax = nn.Softmax(dim=1)\n",
    "\n",
    "\n",
    "    def make_layer(self, block, in_channels, out_channels, kernel_size, stride = 1):               \n",
    "\n",
    "        return nn.Sequential(block(in_channels, out_channels, kernel_size, stride))\n",
    "\n",
    "    def forward(self, x):\n",
    "        X_arr = []\n",
    "        X_entr = []\n",
    "        for el in np.array(x):\n",
    "            X_arr.append(X_array[int(el)])\n",
    "            X_entr.append(X_entropy[int(el)])\n",
    "        \n",
    "        x = torch.Tensor(np.array(X_arr))\n",
    "        X_entr = torch.Tensor(np.array(X_entr))\n",
    "        del X_arr\n",
    "        output = self.conv1D_1(x)\n",
    "        output = self.bn_1(output)\n",
    "        output = self.leakyReLU_1(output)\n",
    "\n",
    "        output = self.block1(output)\n",
    "        output = self.block2(output)      \n",
    "\n",
    "        output = self.adAvgPooling(output)\n",
    "        output = self.flatten(output)\n",
    "        X_entr = self.flatten2(X_entr)\n",
    "        output = torch.cat((X_entr, output), axis = 1)\n",
    "        output = self.fc(output)\n",
    "        output = self.bn(output)\n",
    "        output = self.softmax(output)\n",
    "        return output"
   ]
  },
  {
   "cell_type": "code",
   "execution_count": 32,
   "id": "2f8d1fdd",
   "metadata": {},
   "outputs": [],
   "source": [
    "model = CNN_entropy_ResNet(12, 1000, 5, BasicBlock, [5,5,5,5,5])"
   ]
  },
  {
   "cell_type": "code",
   "execution_count": 33,
   "id": "da45c1e8",
   "metadata": {},
   "outputs": [],
   "source": [
    "optimizer = torch.optim.Adam(model.parameters(),lr = learning_rate)"
   ]
  },
  {
   "cell_type": "code",
   "execution_count": 34,
   "id": "e942bd64",
   "metadata": {},
   "outputs": [
    {
     "name": "stdout",
     "output_type": "stream",
     "text": [
      "Train Epoch: 1 [0/12069 (0%)]\tLoss: 1.645670\n",
      "Train Epoch: 1 [1280/12069 (11%)]\tLoss: 1.464369\n",
      "Train Epoch: 1 [2560/12069 (21%)]\tLoss: 1.419774\n",
      "Train Epoch: 1 [3840/12069 (32%)]\tLoss: 1.404219\n",
      "Train Epoch: 1 [5120/12069 (42%)]\tLoss: 1.390069\n",
      "Train Epoch: 1 [6400/12069 (53%)]\tLoss: 1.396996\n",
      "Train Epoch: 1 [7680/12069 (63%)]\tLoss: 1.363554\n",
      "Train Epoch: 1 [8960/12069 (74%)]\tLoss: 1.386944\n",
      "Train Epoch: 1 [10240/12069 (84%)]\tLoss: 1.332062\n",
      "Train Epoch: 1 [11520/12069 (95%)]\tLoss: 1.338156\n",
      "\n",
      "Test set: Average loss: 1.3724, Accuracy: 1733/2587 (66.99%)\n",
      "\n",
      "Trigger times 0\n",
      "Train Epoch: 2 [0/12069 (0%)]\tLoss: 1.352124\n",
      "Train Epoch: 2 [1280/12069 (11%)]\tLoss: 1.321328\n",
      "Train Epoch: 2 [2560/12069 (21%)]\tLoss: 1.307825\n",
      "Train Epoch: 2 [3840/12069 (32%)]\tLoss: 1.321334\n",
      "Train Epoch: 2 [5120/12069 (42%)]\tLoss: 1.314379\n",
      "Train Epoch: 2 [6400/12069 (53%)]\tLoss: 1.298234\n",
      "Train Epoch: 2 [7680/12069 (63%)]\tLoss: 1.296465\n",
      "Train Epoch: 2 [8960/12069 (74%)]\tLoss: 1.260928\n",
      "Train Epoch: 2 [10240/12069 (84%)]\tLoss: 1.278809\n",
      "Train Epoch: 2 [11520/12069 (95%)]\tLoss: 1.252924\n",
      "\n",
      "Test set: Average loss: 1.3287, Accuracy: 1804/2587 (69.73%)\n",
      "\n",
      "Trigger times 0\n",
      "Train Epoch: 3 [0/12069 (0%)]\tLoss: 1.272890\n",
      "Train Epoch: 3 [1280/12069 (11%)]\tLoss: 1.279861\n",
      "Train Epoch: 3 [2560/12069 (21%)]\tLoss: 1.251375\n",
      "Train Epoch: 3 [3840/12069 (32%)]\tLoss: 1.262961\n",
      "Train Epoch: 3 [5120/12069 (42%)]\tLoss: 1.298146\n",
      "Train Epoch: 3 [6400/12069 (53%)]\tLoss: 1.294352\n",
      "Train Epoch: 3 [7680/12069 (63%)]\tLoss: 1.235634\n",
      "Train Epoch: 3 [8960/12069 (74%)]\tLoss: 1.281219\n",
      "Train Epoch: 3 [10240/12069 (84%)]\tLoss: 1.295446\n",
      "Train Epoch: 3 [11520/12069 (95%)]\tLoss: 1.273436\n",
      "\n",
      "Test set: Average loss: 1.3099, Accuracy: 1863/2587 (72.01%)\n",
      "\n",
      "Trigger times 0\n",
      "Train Epoch: 4 [0/12069 (0%)]\tLoss: 1.265635\n",
      "Train Epoch: 4 [1280/12069 (11%)]\tLoss: 1.259573\n",
      "Train Epoch: 4 [2560/12069 (21%)]\tLoss: 1.229436\n",
      "Train Epoch: 4 [3840/12069 (32%)]\tLoss: 1.234923\n",
      "Train Epoch: 4 [5120/12069 (42%)]\tLoss: 1.266666\n",
      "Train Epoch: 4 [6400/12069 (53%)]\tLoss: 1.247021\n",
      "Train Epoch: 4 [7680/12069 (63%)]\tLoss: 1.285679\n",
      "Train Epoch: 4 [8960/12069 (74%)]\tLoss: 1.215171\n",
      "Train Epoch: 4 [10240/12069 (84%)]\tLoss: 1.264810\n",
      "Train Epoch: 4 [11520/12069 (95%)]\tLoss: 1.214107\n",
      "\n",
      "Test set: Average loss: 1.2500, Accuracy: 1916/2587 (74.06%)\n",
      "\n",
      "Trigger times 0\n",
      "Train Epoch: 5 [0/12069 (0%)]\tLoss: 1.211876\n",
      "Train Epoch: 5 [1280/12069 (11%)]\tLoss: 1.300818\n",
      "Train Epoch: 5 [2560/12069 (21%)]\tLoss: 1.254959\n",
      "Train Epoch: 5 [3840/12069 (32%)]\tLoss: 1.209188\n",
      "Train Epoch: 5 [5120/12069 (42%)]\tLoss: 1.243510\n",
      "Train Epoch: 5 [6400/12069 (53%)]\tLoss: 1.225355\n",
      "Train Epoch: 5 [7680/12069 (63%)]\tLoss: 1.292732\n",
      "Train Epoch: 5 [8960/12069 (74%)]\tLoss: 1.180298\n",
      "Train Epoch: 5 [10240/12069 (84%)]\tLoss: 1.188936\n",
      "Train Epoch: 5 [11520/12069 (95%)]\tLoss: 1.205821\n",
      "\n",
      "Test set: Average loss: 1.2374, Accuracy: 1948/2587 (75.30%)\n",
      "\n",
      "Trigger times 0\n",
      "Train Epoch: 6 [0/12069 (0%)]\tLoss: 1.199824\n",
      "Train Epoch: 6 [1280/12069 (11%)]\tLoss: 1.222075\n",
      "Train Epoch: 6 [2560/12069 (21%)]\tLoss: 1.199449\n",
      "Train Epoch: 6 [3840/12069 (32%)]\tLoss: 1.193973\n",
      "Train Epoch: 6 [5120/12069 (42%)]\tLoss: 1.203624\n",
      "Train Epoch: 6 [6400/12069 (53%)]\tLoss: 1.193871\n",
      "Train Epoch: 6 [7680/12069 (63%)]\tLoss: 1.192580\n",
      "Train Epoch: 6 [8960/12069 (74%)]\tLoss: 1.210050\n",
      "Train Epoch: 6 [10240/12069 (84%)]\tLoss: 1.183538\n",
      "Train Epoch: 6 [11520/12069 (95%)]\tLoss: 1.182095\n",
      "\n",
      "Test set: Average loss: 1.2501, Accuracy: 1901/2587 (73.48%)\n",
      "\n",
      "Trigger times 1\n",
      "Train Epoch: 7 [0/12069 (0%)]\tLoss: 1.191197\n",
      "Train Epoch: 7 [1280/12069 (11%)]\tLoss: 1.208740\n",
      "Train Epoch: 7 [2560/12069 (21%)]\tLoss: 1.196796\n",
      "Train Epoch: 7 [3840/12069 (32%)]\tLoss: 1.197607\n",
      "Train Epoch: 7 [5120/12069 (42%)]\tLoss: 1.151246\n",
      "Train Epoch: 7 [6400/12069 (53%)]\tLoss: 1.195712\n",
      "Train Epoch: 7 [7680/12069 (63%)]\tLoss: 1.262676\n",
      "Train Epoch: 7 [8960/12069 (74%)]\tLoss: 1.171980\n",
      "Train Epoch: 7 [10240/12069 (84%)]\tLoss: 1.166958\n",
      "Train Epoch: 7 [11520/12069 (95%)]\tLoss: 1.182127\n",
      "\n",
      "Test set: Average loss: 1.2005, Accuracy: 1989/2587 (76.88%)\n",
      "\n",
      "Trigger times 0\n",
      "Train Epoch: 8 [0/12069 (0%)]\tLoss: 1.178829\n",
      "Train Epoch: 8 [1280/12069 (11%)]\tLoss: 1.171746\n",
      "Train Epoch: 8 [2560/12069 (21%)]\tLoss: 1.193671\n",
      "Train Epoch: 8 [3840/12069 (32%)]\tLoss: 1.182771\n",
      "Train Epoch: 8 [5120/12069 (42%)]\tLoss: 1.161994\n",
      "Train Epoch: 8 [6400/12069 (53%)]\tLoss: 1.144694\n",
      "Train Epoch: 8 [7680/12069 (63%)]\tLoss: 1.174679\n",
      "Train Epoch: 8 [8960/12069 (74%)]\tLoss: 1.182399\n",
      "Train Epoch: 8 [10240/12069 (84%)]\tLoss: 1.219434\n",
      "Train Epoch: 8 [11520/12069 (95%)]\tLoss: 1.218431\n",
      "\n",
      "Test set: Average loss: 1.1722, Accuracy: 1985/2587 (76.73%)\n",
      "\n",
      "Trigger times 1\n",
      "Train Epoch: 9 [0/12069 (0%)]\tLoss: 1.181516\n",
      "Train Epoch: 9 [1280/12069 (11%)]\tLoss: 1.140054\n",
      "Train Epoch: 9 [2560/12069 (21%)]\tLoss: 1.140679\n",
      "Train Epoch: 9 [3840/12069 (32%)]\tLoss: 1.154620\n",
      "Train Epoch: 9 [5120/12069 (42%)]\tLoss: 1.164671\n",
      "Train Epoch: 9 [6400/12069 (53%)]\tLoss: 1.184845\n",
      "Train Epoch: 9 [7680/12069 (63%)]\tLoss: 1.135187\n",
      "Train Epoch: 9 [8960/12069 (74%)]\tLoss: 1.175011\n",
      "Train Epoch: 9 [10240/12069 (84%)]\tLoss: 1.182539\n",
      "Train Epoch: 9 [11520/12069 (95%)]\tLoss: 1.152386\n",
      "\n",
      "Test set: Average loss: 1.1816, Accuracy: 1970/2587 (76.15%)\n",
      "\n",
      "Trigger times 2\n",
      "Train Epoch: 10 [0/12069 (0%)]\tLoss: 1.141816\n",
      "Train Epoch: 10 [1280/12069 (11%)]\tLoss: 1.191796\n",
      "Train Epoch: 10 [2560/12069 (21%)]\tLoss: 1.191286\n",
      "Train Epoch: 10 [3840/12069 (32%)]\tLoss: 1.142921\n",
      "Train Epoch: 10 [5120/12069 (42%)]\tLoss: 1.129082\n",
      "Train Epoch: 10 [6400/12069 (53%)]\tLoss: 1.143830\n",
      "Train Epoch: 10 [7680/12069 (63%)]\tLoss: 1.152082\n",
      "Train Epoch: 10 [8960/12069 (74%)]\tLoss: 1.148115\n",
      "Train Epoch: 10 [10240/12069 (84%)]\tLoss: 1.145618\n",
      "Train Epoch: 10 [11520/12069 (95%)]\tLoss: 1.170690\n",
      "\n",
      "Test set: Average loss: 1.1543, Accuracy: 2005/2587 (77.50%)\n",
      "\n",
      "Trigger times 0\n",
      "Train Epoch: 11 [0/12069 (0%)]\tLoss: 1.120908\n",
      "Train Epoch: 11 [1280/12069 (11%)]\tLoss: 1.121177\n",
      "Train Epoch: 11 [2560/12069 (21%)]\tLoss: 1.143333\n",
      "Train Epoch: 11 [3840/12069 (32%)]\tLoss: 1.111470\n",
      "Train Epoch: 11 [5120/12069 (42%)]\tLoss: 1.143033\n",
      "Train Epoch: 11 [6400/12069 (53%)]\tLoss: 1.113554\n",
      "Train Epoch: 11 [7680/12069 (63%)]\tLoss: 1.104889\n",
      "Train Epoch: 11 [8960/12069 (74%)]\tLoss: 1.112658\n",
      "Train Epoch: 11 [10240/12069 (84%)]\tLoss: 1.090188\n",
      "Train Epoch: 11 [11520/12069 (95%)]\tLoss: 1.098618\n",
      "\n",
      "Test set: Average loss: 1.1626, Accuracy: 2032/2587 (78.55%)\n",
      "\n",
      "Trigger times 0\n",
      "Train Epoch: 12 [0/12069 (0%)]\tLoss: 1.124487\n",
      "Train Epoch: 12 [1280/12069 (11%)]\tLoss: 1.117573\n",
      "Train Epoch: 12 [2560/12069 (21%)]\tLoss: 1.154040\n",
      "Train Epoch: 12 [3840/12069 (32%)]\tLoss: 1.078508\n",
      "Train Epoch: 12 [5120/12069 (42%)]\tLoss: 1.104937\n",
      "Train Epoch: 12 [6400/12069 (53%)]\tLoss: 1.154526\n",
      "Train Epoch: 12 [7680/12069 (63%)]\tLoss: 1.123541\n",
      "Train Epoch: 12 [8960/12069 (74%)]\tLoss: 1.122562\n",
      "Train Epoch: 12 [10240/12069 (84%)]\tLoss: 1.095409\n",
      "Train Epoch: 12 [11520/12069 (95%)]\tLoss: 1.108914\n",
      "\n",
      "Test set: Average loss: 1.1617, Accuracy: 2032/2587 (78.55%)\n",
      "\n",
      "Trigger times 0\n",
      "Train Epoch: 13 [0/12069 (0%)]\tLoss: 1.118955\n",
      "Train Epoch: 13 [1280/12069 (11%)]\tLoss: 1.124105\n",
      "Train Epoch: 13 [2560/12069 (21%)]\tLoss: 1.096722\n",
      "Train Epoch: 13 [3840/12069 (32%)]\tLoss: 1.126438\n",
      "Train Epoch: 13 [5120/12069 (42%)]\tLoss: 1.166574\n",
      "Train Epoch: 13 [6400/12069 (53%)]\tLoss: 1.079107\n",
      "Train Epoch: 13 [7680/12069 (63%)]\tLoss: 1.162100\n",
      "Train Epoch: 13 [8960/12069 (74%)]\tLoss: 1.150551\n",
      "Train Epoch: 13 [10240/12069 (84%)]\tLoss: 1.126694\n",
      "Train Epoch: 13 [11520/12069 (95%)]\tLoss: 1.123228\n",
      "\n",
      "Test set: Average loss: 1.1620, Accuracy: 2026/2587 (78.31%)\n",
      "\n",
      "Trigger times 1\n",
      "Train Epoch: 14 [0/12069 (0%)]\tLoss: 1.112193\n",
      "Train Epoch: 14 [1280/12069 (11%)]\tLoss: 1.127335\n",
      "Train Epoch: 14 [2560/12069 (21%)]\tLoss: 1.085604\n",
      "Train Epoch: 14 [3840/12069 (32%)]\tLoss: 1.115087\n",
      "Train Epoch: 14 [5120/12069 (42%)]\tLoss: 1.106476\n",
      "Train Epoch: 14 [6400/12069 (53%)]\tLoss: 1.119893\n",
      "Train Epoch: 14 [7680/12069 (63%)]\tLoss: 1.089937\n",
      "Train Epoch: 14 [8960/12069 (74%)]\tLoss: 1.113380\n",
      "Train Epoch: 14 [10240/12069 (84%)]\tLoss: 1.099421\n",
      "Train Epoch: 14 [11520/12069 (95%)]\tLoss: 1.124509\n",
      "\n",
      "Test set: Average loss: 1.1591, Accuracy: 2029/2587 (78.43%)\n",
      "\n",
      "Trigger times 0\n",
      "Train Epoch: 15 [0/12069 (0%)]\tLoss: 1.086893\n",
      "Train Epoch: 15 [1280/12069 (11%)]\tLoss: 1.096032\n",
      "Train Epoch: 15 [2560/12069 (21%)]\tLoss: 1.144130\n",
      "Train Epoch: 15 [3840/12069 (32%)]\tLoss: 1.105529\n",
      "Train Epoch: 15 [5120/12069 (42%)]\tLoss: 1.093477\n"
     ]
    },
    {
     "name": "stdout",
     "output_type": "stream",
     "text": [
      "Train Epoch: 15 [6400/12069 (53%)]\tLoss: 1.107528\n",
      "Train Epoch: 15 [7680/12069 (63%)]\tLoss: 1.147639\n",
      "Train Epoch: 15 [8960/12069 (74%)]\tLoss: 1.126006\n",
      "Train Epoch: 15 [10240/12069 (84%)]\tLoss: 1.110652\n",
      "Train Epoch: 15 [11520/12069 (95%)]\tLoss: 1.094862\n",
      "\n",
      "Test set: Average loss: 1.1642, Accuracy: 2031/2587 (78.51%)\n",
      "\n",
      "Trigger times 0\n",
      "Train Epoch: 16 [0/12069 (0%)]\tLoss: 1.142774\n",
      "Train Epoch: 16 [1280/12069 (11%)]\tLoss: 1.095531\n",
      "Train Epoch: 16 [2560/12069 (21%)]\tLoss: 1.133279\n",
      "Train Epoch: 16 [3840/12069 (32%)]\tLoss: 1.085033\n",
      "Train Epoch: 16 [5120/12069 (42%)]\tLoss: 1.082943\n",
      "Train Epoch: 16 [6400/12069 (53%)]\tLoss: 1.122328\n",
      "Train Epoch: 16 [7680/12069 (63%)]\tLoss: 1.107209\n",
      "Train Epoch: 16 [8960/12069 (74%)]\tLoss: 1.106816\n",
      "Train Epoch: 16 [10240/12069 (84%)]\tLoss: 1.107209\n",
      "Train Epoch: 16 [11520/12069 (95%)]\tLoss: 1.111116\n",
      "\n",
      "Test set: Average loss: 1.1606, Accuracy: 2034/2587 (78.62%)\n",
      "\n",
      "Trigger times 0\n",
      "Train Epoch: 17 [0/12069 (0%)]\tLoss: 1.121443\n",
      "Train Epoch: 17 [1280/12069 (11%)]\tLoss: 1.113543\n",
      "Train Epoch: 17 [2560/12069 (21%)]\tLoss: 1.092729\n",
      "Train Epoch: 17 [3840/12069 (32%)]\tLoss: 1.093255\n",
      "Train Epoch: 17 [5120/12069 (42%)]\tLoss: 1.144617\n",
      "Train Epoch: 17 [6400/12069 (53%)]\tLoss: 1.046492\n",
      "Train Epoch: 17 [7680/12069 (63%)]\tLoss: 1.109631\n",
      "Train Epoch: 17 [8960/12069 (74%)]\tLoss: 1.110131\n",
      "Train Epoch: 17 [10240/12069 (84%)]\tLoss: 1.101941\n",
      "Train Epoch: 17 [11520/12069 (95%)]\tLoss: 1.109455\n",
      "\n",
      "Test set: Average loss: 1.1572, Accuracy: 2025/2587 (78.28%)\n",
      "\n",
      "Trigger times 1\n",
      "Train Epoch: 18 [0/12069 (0%)]\tLoss: 1.105308\n",
      "Train Epoch: 18 [1280/12069 (11%)]\tLoss: 1.092117\n",
      "Train Epoch: 18 [2560/12069 (21%)]\tLoss: 1.098559\n",
      "Train Epoch: 18 [3840/12069 (32%)]\tLoss: 1.092868\n",
      "Train Epoch: 18 [5120/12069 (42%)]\tLoss: 1.097305\n",
      "Train Epoch: 18 [6400/12069 (53%)]\tLoss: 1.098177\n",
      "Train Epoch: 18 [7680/12069 (63%)]\tLoss: 1.105376\n",
      "Train Epoch: 18 [8960/12069 (74%)]\tLoss: 1.088370\n",
      "Train Epoch: 18 [10240/12069 (84%)]\tLoss: 1.134471\n",
      "Train Epoch: 18 [11520/12069 (95%)]\tLoss: 1.083087\n",
      "\n",
      "Test set: Average loss: 1.1539, Accuracy: 2029/2587 (78.43%)\n",
      "\n",
      "Trigger times 0\n",
      "Train Epoch: 19 [0/12069 (0%)]\tLoss: 1.115528\n",
      "Train Epoch: 19 [1280/12069 (11%)]\tLoss: 1.070480\n",
      "Train Epoch: 19 [2560/12069 (21%)]\tLoss: 1.122777\n",
      "Train Epoch: 19 [3840/12069 (32%)]\tLoss: 1.084223\n",
      "Train Epoch: 19 [5120/12069 (42%)]\tLoss: 1.094627\n",
      "Train Epoch: 19 [6400/12069 (53%)]\tLoss: 1.103650\n",
      "Train Epoch: 19 [7680/12069 (63%)]\tLoss: 1.132228\n",
      "Train Epoch: 19 [8960/12069 (74%)]\tLoss: 1.054854\n",
      "Train Epoch: 19 [10240/12069 (84%)]\tLoss: 1.096501\n",
      "Train Epoch: 19 [11520/12069 (95%)]\tLoss: 1.094686\n",
      "\n",
      "Test set: Average loss: 1.1584, Accuracy: 2025/2587 (78.28%)\n",
      "\n",
      "Trigger times 1\n",
      "Train Epoch: 20 [0/12069 (0%)]\tLoss: 1.150658\n",
      "Train Epoch: 20 [1280/12069 (11%)]\tLoss: 1.115993\n",
      "Train Epoch: 20 [2560/12069 (21%)]\tLoss: 1.065350\n",
      "Train Epoch: 20 [3840/12069 (32%)]\tLoss: 1.116809\n",
      "Train Epoch: 20 [5120/12069 (42%)]\tLoss: 1.100993\n",
      "Train Epoch: 20 [6400/12069 (53%)]\tLoss: 1.082568\n",
      "Train Epoch: 20 [7680/12069 (63%)]\tLoss: 1.108732\n",
      "Train Epoch: 20 [8960/12069 (74%)]\tLoss: 1.152222\n",
      "Train Epoch: 20 [10240/12069 (84%)]\tLoss: 1.108063\n",
      "Train Epoch: 20 [11520/12069 (95%)]\tLoss: 1.157860\n",
      "\n",
      "Test set: Average loss: 1.1566, Accuracy: 2024/2587 (78.24%)\n",
      "\n",
      "Trigger times 2\n",
      "Train Epoch: 21 [0/12069 (0%)]\tLoss: 1.114701\n",
      "Train Epoch: 21 [1280/12069 (11%)]\tLoss: 1.139267\n",
      "Train Epoch: 21 [2560/12069 (21%)]\tLoss: 1.125777\n",
      "Train Epoch: 21 [3840/12069 (32%)]\tLoss: 1.115142\n",
      "Train Epoch: 21 [5120/12069 (42%)]\tLoss: 1.102875\n",
      "Train Epoch: 21 [6400/12069 (53%)]\tLoss: 1.127465\n",
      "Train Epoch: 21 [7680/12069 (63%)]\tLoss: 1.077789\n",
      "Train Epoch: 21 [8960/12069 (74%)]\tLoss: 1.100465\n",
      "Train Epoch: 21 [10240/12069 (84%)]\tLoss: 1.137372\n",
      "Train Epoch: 21 [11520/12069 (95%)]\tLoss: 1.102712\n",
      "\n",
      "Test set: Average loss: 1.1597, Accuracy: 2022/2587 (78.16%)\n",
      "\n",
      "Trigger times 3\n",
      "Train Epoch: 22 [0/12069 (0%)]\tLoss: 1.101980\n",
      "Train Epoch: 22 [1280/12069 (11%)]\tLoss: 1.078318\n",
      "Train Epoch: 22 [2560/12069 (21%)]\tLoss: 1.081879\n",
      "Train Epoch: 22 [3840/12069 (32%)]\tLoss: 1.058147\n",
      "Train Epoch: 22 [5120/12069 (42%)]\tLoss: 1.079987\n",
      "Train Epoch: 22 [6400/12069 (53%)]\tLoss: 1.055263\n",
      "Train Epoch: 22 [7680/12069 (63%)]\tLoss: 1.119773\n",
      "Train Epoch: 22 [8960/12069 (74%)]\tLoss: 1.081980\n",
      "Train Epoch: 22 [10240/12069 (84%)]\tLoss: 1.087564\n",
      "Train Epoch: 22 [11520/12069 (95%)]\tLoss: 1.054783\n",
      "\n",
      "Test set: Average loss: 1.1593, Accuracy: 2016/2587 (77.93%)\n",
      "\n"
     ]
    }
   ],
   "source": [
    "loss_train, loss_valid, accuracy = training(30, model, optimizer, loss_function, learning_rate_2, train_loader, valid_loader)"
   ]
  },
  {
   "cell_type": "code",
   "execution_count": 35,
   "id": "e7915316",
   "metadata": {},
   "outputs": [
    {
     "name": "stdout",
     "output_type": "stream",
     "text": [
      "[[341  46  18  28  19]\n",
      " [ 44 336   6  36  72]\n",
      " [ 18   6  60  19  11]\n",
      " [ 42  30  20 331  55]\n",
      " [  9  26   3  49 961]]\n",
      "Accuracy = 0.7846094354215004\n"
     ]
    },
    {
     "data": {
      "text/plain": [
       "0.7846094354215004"
      ]
     },
     "execution_count": 35,
     "metadata": {},
     "output_type": "execute_result"
    }
   ],
   "source": [
    "print_confusion_matrix(model, X_test_idx, y_test)"
   ]
  },
  {
   "cell_type": "code",
   "execution_count": 36,
   "id": "cfad5f04",
   "metadata": {},
   "outputs": [
    {
     "data": {
      "image/png": "[encoded data removed]",
      "text/plain": [
       "<Figure size 432x288 with 1 Axes>"
      ]
     },
     "metadata": {
      "needs_background": "light"
     },
     "output_type": "display_data"
    }
   ],
   "source": [
    "plt.plot(loss_train, label = 'Train Loss')\n",
    "plt.plot(loss_valid, label = 'Validation Loss')\n",
    "plt.legend()\n",
    "plt.show()"
   ]
  },
  {
   "cell_type": "code",
   "execution_count": 37,
   "id": "f2ac5d29",
   "metadata": {},
   "outputs": [
    {
     "data": {
      "image/png": "[encoded data removed]",
      "text/plain": [
       "<Figure size 432x288 with 1 Axes>"
      ]
     },
     "metadata": {
      "needs_background": "light"
     },
     "output_type": "display_data"
    }
   ],
   "source": [
    "plt.plot(accuracy, label = 'accuracy')\n",
    "plt.legend()\n",
    "plt.show()"
   ]
  },
  {
   "cell_type": "code",
   "execution_count": 38,
   "id": "00c3b059",
   "metadata": {},
   "outputs": [
    {
     "name": "stdout",
     "output_type": "stream",
     "text": [
      "Best accuracy:  0.7862389  Epoch:  16\n"
     ]
    }
   ],
   "source": [
    "print(\"Best accuracy: \",np.max(accuracy),\" Epoch: \", np.argmax(accuracy)+1)"
   ]
  },
  {
   "cell_type": "code",
   "execution_count": 39,
   "id": "68c019e0",
   "metadata": {},
   "outputs": [],
   "source": [
    "model.eval()\n",
    "y_pred = model(torch.Tensor(X_test_idx)).data.numpy().argmax(axis = 1)"
   ]
  },
  {
   "cell_type": "code",
   "execution_count": 40,
   "id": "152fd1a0",
   "metadata": {},
   "outputs": [
    {
     "name": "stdout",
     "output_type": "stream",
     "text": [
      "              precision    recall  f1-score   support\n",
      "\n",
      "           0       0.75      0.75      0.75       452\n",
      "           1       0.76      0.68      0.72       494\n",
      "           2       0.56      0.53      0.54       114\n",
      "           3       0.71      0.69      0.70       478\n",
      "           4       0.86      0.92      0.89      1048\n",
      "\n",
      "    accuracy                           0.78      2586\n",
      "   macro avg       0.73      0.71      0.72      2586\n",
      "weighted avg       0.78      0.78      0.78      2586\n",
      "\n"
     ]
    }
   ],
   "source": [
    "print(classification_report(y_test, y_pred))"
   ]
  },
  {
   "cell_type": "code",
   "execution_count": 41,
   "id": "a91c030b",
   "metadata": {},
   "outputs": [
    {
     "data": {
      "image/png": "[encoded data removed]",
      "text/plain": [
       "<Figure size 432x288 with 2 Axes>"
      ]
     },
     "metadata": {
      "needs_background": "light"
     },
     "output_type": "display_data"
    }
   ],
   "source": [
    "cm = confusion_matrix(y_test,y_pred)\n",
    "#sns.set(rc = {'figure.figsize':(15,15)})\n",
    "f = sns.heatmap(cm, annot=True, fmt='d', cmap='coolwarm', center = 0)"
   ]
  },
  {
   "cell_type": "code",
   "execution_count": null,
   "id": "4c669b14",
   "metadata": {},
   "outputs": [],
   "source": []
  },
  {
   "cell_type": "code",
   "execution_count": null,
   "id": "73df9ced",
   "metadata": {},
   "outputs": [],
   "source": []
  }
 ],
 "metadata": {
  "kernelspec": {
   "display_name": "Python 3 (ipykernel)",
   "language": "python",
   "name": "python3"
  },
  "language_info": {
   "codemirror_mode": {
    "name": "ipython",
    "version": 3
   },
   "file_extension": ".py",
   "mimetype": "text/x-python",
   "name": "python",
   "nbconvert_exporter": "python",
   "pygments_lexer": "ipython3",
   "version": "3.9.7"
  }
 },
 "nbformat": 4,
 "nbformat_minor": 5
}
